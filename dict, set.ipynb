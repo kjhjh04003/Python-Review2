{
 "cells": [
  {
   "cell_type": "code",
   "execution_count": 1,
   "id": "a56dfb7d",
   "metadata": {},
   "outputs": [
    {
     "data": {
      "text/plain": [
       "{}"
      ]
     },
     "execution_count": 1,
     "metadata": {},
     "output_type": "execute_result"
    }
   ],
   "source": [
    "empty_dict={}\n",
    "empty_dict"
   ]
  },
  {
   "cell_type": "code",
   "execution_count": 2,
   "id": "779bf21f",
   "metadata": {},
   "outputs": [
    {
     "data": {
      "text/plain": [
       "{'first': 'Wile', 'middle': 'E', 'last': 'Coyote'}"
      ]
     },
     "execution_count": 2,
     "metadata": {},
     "output_type": "execute_result"
    }
   ],
   "source": [
    "acme_customer = {'first':'Wile','middle':'E','last':'Coyote'}\n",
    "acme_customer"
   ]
  },
  {
   "cell_type": "code",
   "execution_count": 7,
   "id": "8fea608e",
   "metadata": {},
   "outputs": [
    {
     "data": {
      "text/plain": [
       "{'first': 'Wile', 'middle': 'E', 'last': 'Coyote'}"
      ]
     },
     "execution_count": 7,
     "metadata": {},
     "output_type": "execute_result"
    }
   ],
   "source": [
    "acme_customer = dict(first='Wile', middle='E',last='Coyote')\n",
    "acme_customer"
   ]
  },
  {
   "cell_type": "code",
   "execution_count": 8,
   "id": "37066799",
   "metadata": {},
   "outputs": [
    {
     "data": {
      "text/plain": [
       "{'a': 'b', 'c': 'd', 'e': 'f'}"
      ]
     },
     "execution_count": 8,
     "metadata": {},
     "output_type": "execute_result"
    }
   ],
   "source": [
    "lol = [['a', 'b'],['c','d'],['e','f']]\n",
    "dict(lol)"
   ]
  },
  {
   "cell_type": "code",
   "execution_count": 9,
   "id": "9b074ccc",
   "metadata": {},
   "outputs": [
    {
     "data": {
      "text/plain": [
       "{'a': 'b', 'c': 'd', 'e': 'f'}"
      ]
     },
     "execution_count": 9,
     "metadata": {},
     "output_type": "execute_result"
    }
   ],
   "source": [
    "lot = [('a','b'), ('c','d'), ('e','f')]\n",
    "dict(lot)"
   ]
  },
  {
   "cell_type": "code",
   "execution_count": 10,
   "id": "1d906363",
   "metadata": {},
   "outputs": [
    {
     "data": {
      "text/plain": [
       "{'a': 'b', 'c': 'd', 'e': 'f'}"
      ]
     },
     "execution_count": 10,
     "metadata": {},
     "output_type": "execute_result"
    }
   ],
   "source": [
    "tol = (['a', 'b'], ['c','d'],['e','f'])\n",
    "dict(tol)"
   ]
  },
  {
   "cell_type": "code",
   "execution_count": 11,
   "id": "2e984786",
   "metadata": {},
   "outputs": [
    {
     "data": {
      "text/plain": [
       "{'a': 'b', 'c': 'd', 'e': 'f'}"
      ]
     },
     "execution_count": 11,
     "metadata": {},
     "output_type": "execute_result"
    }
   ],
   "source": [
    "los = ['ab','cd','ef']\n",
    "dict(los)"
   ]
  },
  {
   "cell_type": "code",
   "execution_count": 12,
   "id": "86c02d42",
   "metadata": {},
   "outputs": [
    {
     "data": {
      "text/plain": [
       "{'a': 'b', 'c': 'd', 'e': 'f'}"
      ]
     },
     "execution_count": 12,
     "metadata": {},
     "output_type": "execute_result"
    }
   ],
   "source": [
    "tos = ('ab','cd','ef')\n",
    "dict(tos)"
   ]
  },
  {
   "cell_type": "code",
   "execution_count": 14,
   "id": "8c3642d6",
   "metadata": {},
   "outputs": [
    {
     "data": {
      "text/plain": [
       "{'Chapman': 'Graham',\n",
       " 'Cleese': 'John',\n",
       " 'Idle': 'Eric',\n",
       " 'Jones': 'Terry',\n",
       " 'Palin': 'Michael'}"
      ]
     },
     "execution_count": 14,
     "metadata": {},
     "output_type": "execute_result"
    }
   ],
   "source": [
    "pythons = {'Chapman':'Graham',\n",
    "          'Cleese':'John',\n",
    "          'Idle':'Eric',\n",
    "          'Jones':'Terry',\n",
    "          'Palin':'Michael',\n",
    "          }\n",
    "pythons"
   ]
  },
  {
   "cell_type": "code",
   "execution_count": 15,
   "id": "7da924e8",
   "metadata": {},
   "outputs": [
    {
     "data": {
      "text/plain": [
       "{'Chapman': 'Graham',\n",
       " 'Cleese': 'John',\n",
       " 'Idle': 'Eric',\n",
       " 'Jones': 'Terry',\n",
       " 'Palin': 'Michael',\n",
       " 'Gilliam': 'Gerry'}"
      ]
     },
     "execution_count": 15,
     "metadata": {},
     "output_type": "execute_result"
    }
   ],
   "source": [
    "pythons['Gilliam']='Gerry'\n",
    "pythons"
   ]
  },
  {
   "cell_type": "code",
   "execution_count": 16,
   "id": "7db56387",
   "metadata": {},
   "outputs": [
    {
     "data": {
      "text/plain": [
       "{'Chapman': 'Graham',\n",
       " 'Cleese': 'John',\n",
       " 'Idle': 'Eric',\n",
       " 'Jones': 'Terry',\n",
       " 'Palin': 'Michael',\n",
       " 'Gilliam': 'Terry'}"
      ]
     },
     "execution_count": 16,
     "metadata": {},
     "output_type": "execute_result"
    }
   ],
   "source": [
    "pythons['Gilliam']='Terry'\n",
    "pythons"
   ]
  },
  {
   "cell_type": "code",
   "execution_count": 17,
   "id": "9d821660",
   "metadata": {},
   "outputs": [
    {
     "data": {
      "text/plain": [
       "{'Graham': 'Chapman',\n",
       " 'John': 'Cleese',\n",
       " 'Eric': 'Idle',\n",
       " 'Terry': 'Jones',\n",
       " 'Michael': 'Palin'}"
      ]
     },
     "execution_count": 17,
     "metadata": {},
     "output_type": "execute_result"
    }
   ],
   "source": [
    "some_pythons= {\n",
    "    'Graham':'Chapman',\n",
    "    'John':'Cleese',\n",
    "    'Eric':'Idle',\n",
    "    'Terry':'Gilliam',\n",
    "    'Michael':'Palin',\n",
    "    'Terry':'Jones',\n",
    "}\n",
    "some_pythons"
   ]
  },
  {
   "cell_type": "code",
   "execution_count": 18,
   "id": "597078fb",
   "metadata": {},
   "outputs": [
    {
     "data": {
      "text/plain": [
       "'Cleese'"
      ]
     },
     "execution_count": 18,
     "metadata": {},
     "output_type": "execute_result"
    }
   ],
   "source": [
    "some_pythons['John']"
   ]
  },
  {
   "cell_type": "code",
   "execution_count": 19,
   "id": "74990ba9",
   "metadata": {},
   "outputs": [
    {
     "ename": "KeyError",
     "evalue": "'Groucho'",
     "output_type": "error",
     "traceback": [
      "\u001b[1;31m---------------------------------------------------------------------------\u001b[0m",
      "\u001b[1;31mKeyError\u001b[0m                                  Traceback (most recent call last)",
      "\u001b[1;32m<ipython-input-19-1794ac099324>\u001b[0m in \u001b[0;36m<module>\u001b[1;34m\u001b[0m\n\u001b[1;32m----> 1\u001b[1;33m \u001b[0msome_pythons\u001b[0m\u001b[1;33m[\u001b[0m\u001b[1;34m'Groucho'\u001b[0m\u001b[1;33m]\u001b[0m\u001b[1;33m\u001b[0m\u001b[1;33m\u001b[0m\u001b[0m\n\u001b[0m",
      "\u001b[1;31mKeyError\u001b[0m: 'Groucho'"
     ]
    }
   ],
   "source": [
    "some_pythons['Groucho']"
   ]
  },
  {
   "cell_type": "code",
   "execution_count": 20,
   "id": "06226624",
   "metadata": {},
   "outputs": [
    {
     "data": {
      "text/plain": [
       "False"
      ]
     },
     "execution_count": 20,
     "metadata": {},
     "output_type": "execute_result"
    }
   ],
   "source": [
    "'Groucho' in some_pythons"
   ]
  },
  {
   "cell_type": "code",
   "execution_count": 21,
   "id": "e50bbc5c",
   "metadata": {},
   "outputs": [
    {
     "data": {
      "text/plain": [
       "'Cleese'"
      ]
     },
     "execution_count": 21,
     "metadata": {},
     "output_type": "execute_result"
    }
   ],
   "source": [
    "some_pythons.get('John')"
   ]
  },
  {
   "cell_type": "code",
   "execution_count": 23,
   "id": "a7034a05",
   "metadata": {},
   "outputs": [
    {
     "data": {
      "text/plain": [
       "'Not a Python'"
      ]
     },
     "execution_count": 23,
     "metadata": {},
     "output_type": "execute_result"
    }
   ],
   "source": [
    "some_pythons.get('Groucho','Not a Python')"
   ]
  },
  {
   "cell_type": "code",
   "execution_count": 24,
   "id": "27873870",
   "metadata": {},
   "outputs": [],
   "source": [
    "some_pythons.get('Groucho')"
   ]
  },
  {
   "cell_type": "code",
   "execution_count": 25,
   "id": "369b572f",
   "metadata": {},
   "outputs": [
    {
     "data": {
      "text/plain": [
       "dict_keys(['green', 'yellow', 'red'])"
      ]
     },
     "execution_count": 25,
     "metadata": {},
     "output_type": "execute_result"
    }
   ],
   "source": [
    "signals = {'green':'go','yellow':'go faster','red':'smile for the camera'}\n",
    "signals.keys()"
   ]
  },
  {
   "cell_type": "code",
   "execution_count": 26,
   "id": "4346ddcc",
   "metadata": {},
   "outputs": [
    {
     "data": {
      "text/plain": [
       "['green', 'yellow', 'red']"
      ]
     },
     "execution_count": 26,
     "metadata": {},
     "output_type": "execute_result"
    }
   ],
   "source": [
    "list(signals.keys())"
   ]
  },
  {
   "cell_type": "code",
   "execution_count": 27,
   "id": "6d0dc352",
   "metadata": {},
   "outputs": [
    {
     "data": {
      "text/plain": [
       "dict_values(['go', 'go faster', 'smile for the camera'])"
      ]
     },
     "execution_count": 27,
     "metadata": {},
     "output_type": "execute_result"
    }
   ],
   "source": [
    "signals.values()"
   ]
  },
  {
   "cell_type": "code",
   "execution_count": 28,
   "id": "fc45ff78",
   "metadata": {},
   "outputs": [
    {
     "data": {
      "text/plain": [
       "['go', 'go faster', 'smile for the camera']"
      ]
     },
     "execution_count": 28,
     "metadata": {},
     "output_type": "execute_result"
    }
   ],
   "source": [
    "list(signals.values())"
   ]
  },
  {
   "cell_type": "code",
   "execution_count": 29,
   "id": "caa47fc6",
   "metadata": {},
   "outputs": [
    {
     "data": {
      "text/plain": [
       "dict_items([('green', 'go'), ('yellow', 'go faster'), ('red', 'smile for the camera')])"
      ]
     },
     "execution_count": 29,
     "metadata": {},
     "output_type": "execute_result"
    }
   ],
   "source": [
    "signals.items()"
   ]
  },
  {
   "cell_type": "code",
   "execution_count": 31,
   "id": "61a05546",
   "metadata": {},
   "outputs": [
    {
     "data": {
      "text/plain": [
       "[('green', 'go'), ('yellow', 'go faster'), ('red', 'smile for the camera')]"
      ]
     },
     "execution_count": 31,
     "metadata": {},
     "output_type": "execute_result"
    }
   ],
   "source": [
    "list(signals.items())"
   ]
  },
  {
   "cell_type": "code",
   "execution_count": 32,
   "id": "9c967138",
   "metadata": {},
   "outputs": [
    {
     "data": {
      "text/plain": [
       "3"
      ]
     },
     "execution_count": 32,
     "metadata": {},
     "output_type": "execute_result"
    }
   ],
   "source": [
    "len(signals)"
   ]
  },
  {
   "cell_type": "code",
   "execution_count": 34,
   "id": "045c993c",
   "metadata": {},
   "outputs": [
    {
     "data": {
      "text/plain": [
       "{'a': 'agony', 'b': 'bagels', 'c': 'candy'}"
      ]
     },
     "execution_count": 34,
     "metadata": {},
     "output_type": "execute_result"
    }
   ],
   "source": [
    "first = {'a':'agony', 'b':'bliss'}\n",
    "second = {'b':'bagels','c':'candy'}\n",
    "{**first, **second}"
   ]
  },
  {
   "cell_type": "code",
   "execution_count": 35,
   "id": "c9ba87e9",
   "metadata": {},
   "outputs": [
    {
     "data": {
      "text/plain": [
       "{'a': 'agony', 'b': 'bagels', 'c': 'candy', 'd': 'donuts'}"
      ]
     },
     "execution_count": 35,
     "metadata": {},
     "output_type": "execute_result"
    }
   ],
   "source": [
    "third = {'d':'donuts'}\n",
    "{**first, **second, **third}"
   ]
  },
  {
   "cell_type": "code",
   "execution_count": 44,
   "id": "b3044d17",
   "metadata": {},
   "outputs": [
    {
     "data": {
      "text/plain": [
       "{'Chapman': 'Graham',\n",
       " 'Cleese': 'John',\n",
       " 'Idle': 'Eric',\n",
       " 'Jones': 'Terry',\n",
       " 'Palin': 'Michael',\n",
       " 'Marx': 'Groucho',\n",
       " 'Howard': 'Moe'}"
      ]
     },
     "execution_count": 44,
     "metadata": {},
     "output_type": "execute_result"
    }
   ],
   "source": [
    "pythons = {'Chapman':'Graham',\n",
    "          'Cleese':'John',\n",
    "          'Idle':'Eric',\n",
    "          'Jones':'Terry',\n",
    "          'Palin':'Michael',\n",
    "          }\n",
    "other = {'Marx':'Groucho','Howard':'Moe'}\n",
    "pythons.update(other)\n",
    "pythons"
   ]
  },
  {
   "cell_type": "code",
   "execution_count": 45,
   "id": "b6bd9472",
   "metadata": {},
   "outputs": [
    {
     "data": {
      "text/plain": [
       "{'a': 1, 'b': 'platypus'}"
      ]
     },
     "execution_count": 45,
     "metadata": {},
     "output_type": "execute_result"
    }
   ],
   "source": [
    "first = {'a':1,'b':2}\n",
    "second = {'b':'platypus'}\n",
    "first.update(second)\n",
    "first"
   ]
  },
  {
   "cell_type": "code",
   "execution_count": 46,
   "id": "2b3854a2",
   "metadata": {},
   "outputs": [
    {
     "data": {
      "text/plain": [
       "{'Chapman': 'Graham',\n",
       " 'Cleese': 'John',\n",
       " 'Idle': 'Eric',\n",
       " 'Jones': 'Terry',\n",
       " 'Palin': 'Michael',\n",
       " 'Howard': 'Moe'}"
      ]
     },
     "execution_count": 46,
     "metadata": {},
     "output_type": "execute_result"
    }
   ],
   "source": [
    "del pythons['Marx']\n",
    "pythons"
   ]
  },
  {
   "cell_type": "code",
   "execution_count": 47,
   "id": "74081919",
   "metadata": {},
   "outputs": [
    {
     "data": {
      "text/plain": [
       "{'Chapman': 'Graham',\n",
       " 'Cleese': 'John',\n",
       " 'Idle': 'Eric',\n",
       " 'Jones': 'Terry',\n",
       " 'Palin': 'Michael'}"
      ]
     },
     "execution_count": 47,
     "metadata": {},
     "output_type": "execute_result"
    }
   ],
   "source": [
    "del pythons['Howard']\n",
    "pythons"
   ]
  },
  {
   "cell_type": "code",
   "execution_count": 53,
   "id": "f73c4ccc",
   "metadata": {},
   "outputs": [
    {
     "data": {
      "text/plain": [
       "6"
      ]
     },
     "execution_count": 53,
     "metadata": {},
     "output_type": "execute_result"
    }
   ],
   "source": [
    "pythons = {'Chapman':'Graham',\n",
    "          'Cleese':'John',\n",
    "          'Idle':'Eric',\n",
    "          'Jones':'Terry',\n",
    "          'Palin':'Michael',\n",
    "          }\n",
    "len(pythons)\n",
    "pythons['Gilliam']='Terry'\n",
    "len(pythons)"
   ]
  },
  {
   "cell_type": "code",
   "execution_count": 54,
   "id": "5e6d2dcf",
   "metadata": {},
   "outputs": [
    {
     "data": {
      "text/plain": [
       "'Michael'"
      ]
     },
     "execution_count": 54,
     "metadata": {},
     "output_type": "execute_result"
    }
   ],
   "source": [
    "pythons.pop('Palin')"
   ]
  },
  {
   "cell_type": "code",
   "execution_count": 55,
   "id": "59e80c56",
   "metadata": {},
   "outputs": [
    {
     "data": {
      "text/plain": [
       "5"
      ]
     },
     "execution_count": 55,
     "metadata": {},
     "output_type": "execute_result"
    }
   ],
   "source": [
    "len(pythons)"
   ]
  },
  {
   "cell_type": "code",
   "execution_count": 56,
   "id": "42169c12",
   "metadata": {},
   "outputs": [
    {
     "ename": "KeyError",
     "evalue": "'Palin'",
     "output_type": "error",
     "traceback": [
      "\u001b[1;31m---------------------------------------------------------------------------\u001b[0m",
      "\u001b[1;31mKeyError\u001b[0m                                  Traceback (most recent call last)",
      "\u001b[1;32m<ipython-input-56-17c5612ece9e>\u001b[0m in \u001b[0;36m<module>\u001b[1;34m\u001b[0m\n\u001b[1;32m----> 1\u001b[1;33m \u001b[0mpythons\u001b[0m\u001b[1;33m.\u001b[0m\u001b[0mpop\u001b[0m\u001b[1;33m(\u001b[0m\u001b[1;34m'Palin'\u001b[0m\u001b[1;33m)\u001b[0m\u001b[1;33m\u001b[0m\u001b[1;33m\u001b[0m\u001b[0m\n\u001b[0m",
      "\u001b[1;31mKeyError\u001b[0m: 'Palin'"
     ]
    }
   ],
   "source": [
    "pythons.pop('Palin')"
   ]
  },
  {
   "cell_type": "code",
   "execution_count": 57,
   "id": "239056d1",
   "metadata": {},
   "outputs": [
    {
     "data": {
      "text/plain": [
       "'Hugo'"
      ]
     },
     "execution_count": 57,
     "metadata": {},
     "output_type": "execute_result"
    }
   ],
   "source": [
    "pythons.pop('First', 'Hugo')"
   ]
  },
  {
   "cell_type": "code",
   "execution_count": 60,
   "id": "5aec26c2",
   "metadata": {},
   "outputs": [
    {
     "data": {
      "text/plain": [
       "{}"
      ]
     },
     "execution_count": 60,
     "metadata": {},
     "output_type": "execute_result"
    }
   ],
   "source": [
    "pythons.clear()\n",
    "pythons\n",
    "pythons = {}\n",
    "pythons"
   ]
  },
  {
   "cell_type": "code",
   "execution_count": 63,
   "id": "368fbac0",
   "metadata": {},
   "outputs": [
    {
     "name": "stdout",
     "output_type": "stream",
     "text": [
      "True\n",
      "True\n",
      "False\n"
     ]
    }
   ],
   "source": [
    "pythons = {'Chapman':'Graham',\n",
    "          'Cleese':'John',\n",
    "          'Jones':'Terry',\n",
    "          'Palin':'Michael',\n",
    "           'Idle': 'Eric'\n",
    "          }\n",
    "print('Chapman' in pythons)\n",
    "print('Palin' in pythons)\n",
    "print('Gilliam' in pythons)"
   ]
  },
  {
   "cell_type": "code",
   "execution_count": 64,
   "id": "9003df38",
   "metadata": {},
   "outputs": [
    {
     "name": "stdout",
     "output_type": "stream",
     "text": [
      "{'green': 'go', 'yellow': 'go faster', 'red': 'smile for the camera', 'blue': 'confuse everyone'}\n",
      "{'green': 'go', 'yellow': 'go faster', 'red': 'smile for the camera', 'blue': 'confuse everyone'}\n"
     ]
    }
   ],
   "source": [
    "signals = {'green':'go',\n",
    "          'yellow':'go faster',\n",
    "          'red':'smile for the camera'}\n",
    "save_signals = signals\n",
    "signals['blue']='confuse everyone'\n",
    "print(signals)\n",
    "print(save_signals)"
   ]
  },
  {
   "cell_type": "code",
   "execution_count": 65,
   "id": "4e23f2c8",
   "metadata": {},
   "outputs": [
    {
     "name": "stdout",
     "output_type": "stream",
     "text": [
      "{'green': 'go', 'yellow': 'go faster', 'red': 'smile for the camera', 'blue': 'confuse everyone'}\n",
      "{'green': 'go', 'yellow': 'go faster', 'red': 'smile for the camera'}\n"
     ]
    }
   ],
   "source": [
    "signals = {'green':'go',\n",
    "          'yellow':'go faster',\n",
    "          'red':'smile for the camera'}\n",
    "original_signals = signals.copy()\n",
    "signals['blue']='confuse everyone'\n",
    "print(signals)\n",
    "print(original_signals)"
   ]
  },
  {
   "cell_type": "code",
   "execution_count": 67,
   "id": "6b324731",
   "metadata": {},
   "outputs": [
    {
     "name": "stdout",
     "output_type": "stream",
     "text": [
      "{'green': 'go', 'yellow': 'go faster', 'red': ['stop', 'sweat']}\n",
      "{'green': 'go', 'yellow': 'go faster', 'red': ['stop', 'sweat']}\n"
     ]
    }
   ],
   "source": [
    "signals = {'green':'go',\n",
    "          'yellow':'go faster',\n",
    "          'red':['stop','smile']}\n",
    "original_signals = signals.copy()\n",
    "signals['red'][1]='sweat'\n",
    "print(signals)\n",
    "print(original_signals)"
   ]
  },
  {
   "cell_type": "code",
   "execution_count": 68,
   "id": "73e42cb1",
   "metadata": {},
   "outputs": [
    {
     "name": "stdout",
     "output_type": "stream",
     "text": [
      "{'green': 'go', 'yellow': 'go faster', 'red': ['stop', 'sweat']}\n",
      "{'green': 'go', 'yellow': 'go faster', 'red': ['stop', 'smile']}\n"
     ]
    }
   ],
   "source": [
    "import copy\n",
    "signals = {'green':'go',\n",
    "          'yellow':'go faster',\n",
    "          'red':['stop','smile']}\n",
    "original_signals = copy.deepcopy(signals)\n",
    "signals['red'][1]='sweat'\n",
    "print(signals)\n",
    "print(original_signals)"
   ]
  },
  {
   "cell_type": "code",
   "execution_count": 69,
   "id": "1a4f8038",
   "metadata": {},
   "outputs": [
    {
     "data": {
      "text/plain": [
       "True"
      ]
     },
     "execution_count": 69,
     "metadata": {},
     "output_type": "execute_result"
    }
   ],
   "source": [
    "a={1:1, 2:2, 3:3}\n",
    "b={3:3, 1:1,2:2}\n",
    "a==b"
   ]
  },
  {
   "cell_type": "code",
   "execution_count": 70,
   "id": "78541276",
   "metadata": {},
   "outputs": [
    {
     "data": {
      "text/plain": [
       "False"
      ]
     },
     "execution_count": 70,
     "metadata": {},
     "output_type": "execute_result"
    }
   ],
   "source": [
    "a={1:[1, 2], 2:[1], 3:[1]}\n",
    "b={1:[1,1], 2:[1], 3:[1]}\n",
    "a==b"
   ]
  },
  {
   "cell_type": "code",
   "execution_count": 71,
   "id": "25d636d8",
   "metadata": {},
   "outputs": [
    {
     "name": "stdout",
     "output_type": "stream",
     "text": [
      "room\n",
      "weapon\n",
      "person\n"
     ]
    }
   ],
   "source": [
    "accusation = {'room':'ballroom','weapon':'lead pipe','person':'Col. Mustard'}\n",
    "for card in accusation: # or for card in accusation.keys():\n",
    "    print(card)"
   ]
  },
  {
   "cell_type": "code",
   "execution_count": 73,
   "id": "acf292f6",
   "metadata": {},
   "outputs": [
    {
     "name": "stdout",
     "output_type": "stream",
     "text": [
      "ballroom\n",
      "lead pipe\n",
      "Col. Mustard\n"
     ]
    }
   ],
   "source": [
    "for value in accusation.values():\n",
    "    print(value)"
   ]
  },
  {
   "cell_type": "code",
   "execution_count": 75,
   "id": "49d70a58",
   "metadata": {},
   "outputs": [
    {
     "name": "stdout",
     "output_type": "stream",
     "text": [
      "('room', 'ballroom')\n",
      "('weapon', 'lead pipe')\n",
      "('person', 'Col. Mustard')\n"
     ]
    }
   ],
   "source": [
    "for item in accusation.items():\n",
    "    print(item)"
   ]
  },
  {
   "cell_type": "code",
   "execution_count": 77,
   "id": "d3533203",
   "metadata": {},
   "outputs": [
    {
     "name": "stdout",
     "output_type": "stream",
     "text": [
      "Card: room Value: ballroom\n",
      "Card: weapon Value: lead pipe\n",
      "Card: person Value: Col. Mustard\n"
     ]
    }
   ],
   "source": [
    "for card, value in accusation.items():\n",
    "    print('Card:', card, 'Value:', value)"
   ]
  },
  {
   "cell_type": "code",
   "execution_count": 78,
   "id": "4d7f07d3",
   "metadata": {},
   "outputs": [
    {
     "data": {
      "text/plain": [
       "{'l': 1, 'e': 2, 't': 2, 'r': 1, 's': 1}"
      ]
     },
     "execution_count": 78,
     "metadata": {},
     "output_type": "execute_result"
    }
   ],
   "source": [
    "word = 'letters'\n",
    "letter_counts = {letter:word.count(letter) for letter in word}\n",
    "letter_counts"
   ]
  },
  {
   "cell_type": "code",
   "execution_count": 80,
   "id": "1d0c8689",
   "metadata": {},
   "outputs": [
    {
     "data": {
      "text/plain": [
       "{'t': 2, 's': 1, 'e': 2, 'l': 1, 'r': 1}"
      ]
     },
     "execution_count": 80,
     "metadata": {},
     "output_type": "execute_result"
    }
   ],
   "source": [
    "word = 'letters'\n",
    "letter_count = {letter: word.count(letter) for letter in set(word)}\n",
    "letter_count"
   ]
  },
  {
   "cell_type": "code",
   "execution_count": 81,
   "id": "d5447e61",
   "metadata": {},
   "outputs": [
    {
     "data": {
      "text/plain": [
       "{'o': 4, 'i': 1, 'a': 2, 'e': 1}"
      ]
     },
     "execution_count": 81,
     "metadata": {},
     "output_type": "execute_result"
    }
   ],
   "source": [
    "vowels = 'aeiou'\n",
    "word = 'onomatopoeia'\n",
    "vowel_counts = {letter:word.count(letter) for letter in set(word) if letter in vowels}\n",
    "vowel_counts"
   ]
  },
  {
   "cell_type": "code",
   "execution_count": 83,
   "id": "abf4d385",
   "metadata": {},
   "outputs": [
    {
     "name": "stdout",
     "output_type": "stream",
     "text": [
      "set()\n",
      "{0, 2, 4, 6, 8}\n",
      "{1, 3, 5, 7, 9}\n"
     ]
    }
   ],
   "source": [
    "empty_set = set()\n",
    "print(empty_set)\n",
    "even_numbers={0,2,4,6,8}\n",
    "print(even_numbers)\n",
    "odd_numbers = {1,3,5,7,9}\n",
    "print(odd_numbers)"
   ]
  },
  {
   "cell_type": "code",
   "execution_count": 84,
   "id": "39609bc6",
   "metadata": {},
   "outputs": [
    {
     "data": {
      "text/plain": [
       "{'e', 'l', 'r', 's', 't'}"
      ]
     },
     "execution_count": 84,
     "metadata": {},
     "output_type": "execute_result"
    }
   ],
   "source": [
    "set('letters')"
   ]
  },
  {
   "cell_type": "code",
   "execution_count": 85,
   "id": "2c1fde1f",
   "metadata": {},
   "outputs": [
    {
     "data": {
      "text/plain": [
       "{'Dancer', 'Dasher', 'Mason-Dixon', 'Prancer'}"
      ]
     },
     "execution_count": 85,
     "metadata": {},
     "output_type": "execute_result"
    }
   ],
   "source": [
    "set(['Dasher','Dancer','Prancer','Mason-Dixon'])"
   ]
  },
  {
   "cell_type": "code",
   "execution_count": 86,
   "id": "835549a6",
   "metadata": {},
   "outputs": [
    {
     "data": {
      "text/plain": [
       "{'AtomHeart Mother', 'Echoes', 'Ummagumma'}"
      ]
     },
     "execution_count": 86,
     "metadata": {},
     "output_type": "execute_result"
    }
   ],
   "source": [
    "set(('Ummagumma','Echoes','AtomHeart Mother'))"
   ]
  },
  {
   "cell_type": "code",
   "execution_count": 87,
   "id": "610dad0a",
   "metadata": {},
   "outputs": [
    {
     "data": {
      "text/plain": [
       "{'apple', 'cherry', 'orange'}"
      ]
     },
     "execution_count": 87,
     "metadata": {},
     "output_type": "execute_result"
    }
   ],
   "source": [
    "set({'apple':'red', 'orange':'orange','cherry':'red'})"
   ]
  },
  {
   "cell_type": "code",
   "execution_count": 88,
   "id": "334efbde",
   "metadata": {},
   "outputs": [
    {
     "data": {
      "text/plain": [
       "4"
      ]
     },
     "execution_count": 88,
     "metadata": {},
     "output_type": "execute_result"
    }
   ],
   "source": [
    "reindeer = set(['Dasher','Dancer','Prancer','Mason-Dixon'])\n",
    "len(reindeer)"
   ]
  },
  {
   "cell_type": "code",
   "execution_count": 89,
   "id": "cdf5474e",
   "metadata": {},
   "outputs": [
    {
     "name": "stdout",
     "output_type": "stream",
     "text": [
      "{1, 2, 3}\n",
      "{1, 2, 3, 4}\n"
     ]
    }
   ],
   "source": [
    "s=set((1,2,3))\n",
    "print(s)\n",
    "s.add(4)\n",
    "print(s)"
   ]
  },
  {
   "cell_type": "code",
   "execution_count": 90,
   "id": "b546013b",
   "metadata": {},
   "outputs": [
    {
     "name": "stdout",
     "output_type": "stream",
     "text": [
      "{1, 2}\n"
     ]
    }
   ],
   "source": [
    "s=set((1,2,3))\n",
    "s.remove(3)\n",
    "print(s)"
   ]
  },
  {
   "cell_type": "code",
   "execution_count": 91,
   "id": "a3a752d4",
   "metadata": {},
   "outputs": [
    {
     "name": "stdout",
     "output_type": "stream",
     "text": [
      "ottoman\n",
      "table\n",
      "sofa\n"
     ]
    }
   ],
   "source": [
    "furniture = set(('sofa','ottoman','table'))\n",
    "for piece in furniture:\n",
    "    print(piece)"
   ]
  },
  {
   "cell_type": "code",
   "execution_count": 92,
   "id": "0225f50a",
   "metadata": {},
   "outputs": [
    {
     "name": "stdout",
     "output_type": "stream",
     "text": [
      "martini\n",
      "black russian\n",
      "white russian\n",
      "screwdriver\n"
     ]
    }
   ],
   "source": [
    "drinks = {\n",
    "    'martini':{'vodka','vermouth'},\n",
    "    'black russian':{'vodka','kahlua'},\n",
    "    'white russian':{'cream','kahlua','vodka'},\n",
    "    'manhattan':{'rye','vermouth','bitters'},\n",
    "    'screwdriver':{'orange juice','vodka'}\n",
    "}\n",
    "\n",
    "for name, contents in drinks.items():\n",
    "    if 'vodka' in contents:\n",
    "        print(name)"
   ]
  },
  {
   "cell_type": "code",
   "execution_count": 93,
   "id": "3e8dfbe7",
   "metadata": {},
   "outputs": [
    {
     "name": "stdout",
     "output_type": "stream",
     "text": [
      "black russian\n",
      "screwdriver\n"
     ]
    }
   ],
   "source": [
    "for name, contents in drinks.items():\n",
    "    if 'vodka' in contents and not('vermouth' in contents or 'cream' in contents):\n",
    "        print(name)"
   ]
  },
  {
   "cell_type": "code",
   "execution_count": 94,
   "id": "728765a1",
   "metadata": {},
   "outputs": [
    {
     "name": "stdout",
     "output_type": "stream",
     "text": [
      "martini\n",
      "manhattan\n",
      "screwdriver\n"
     ]
    }
   ],
   "source": [
    "for name, contents in drinks.items():\n",
    "    if contents & {'vermouth', 'orange juice'}:\n",
    "        print(name)"
   ]
  },
  {
   "cell_type": "code",
   "execution_count": 96,
   "id": "955aea25",
   "metadata": {},
   "outputs": [
    {
     "name": "stdout",
     "output_type": "stream",
     "text": [
      "black russian\n",
      "screwdriver\n"
     ]
    }
   ],
   "source": [
    "for name, contents in drinks.items():\n",
    "    if 'vodka' in contents and not contents & {'vermouth','cream'}:\n",
    "        print(name)"
   ]
  },
  {
   "cell_type": "code",
   "execution_count": 102,
   "id": "c5647a95",
   "metadata": {},
   "outputs": [
    {
     "name": "stdout",
     "output_type": "stream",
     "text": [
      "{2}\n",
      "{2}\n",
      "{'vodka', 'kahlua'}\n"
     ]
    }
   ],
   "source": [
    "bruss = drinks['black russian']\n",
    "wruss = drinks['white russian']\n",
    "a = {1, 2}\n",
    "b= {2,3}\n",
    "\n",
    "print(a&b)\n",
    "print(a.intersection(b))\n",
    "print(bruss & wruss)"
   ]
  },
  {
   "cell_type": "code",
   "execution_count": 103,
   "id": "74ae5349",
   "metadata": {},
   "outputs": [
    {
     "name": "stdout",
     "output_type": "stream",
     "text": [
      "{1, 2, 3}\n",
      "{1, 2, 3}\n",
      "{'cream', 'vodka', 'kahlua'}\n"
     ]
    }
   ],
   "source": [
    "print(a|b)\n",
    "print(a.union(b))\n",
    "print(bruss|wruss)"
   ]
  },
  {
   "cell_type": "code",
   "execution_count": 104,
   "id": "f5882ca0",
   "metadata": {},
   "outputs": [
    {
     "name": "stdout",
     "output_type": "stream",
     "text": [
      "{1}\n",
      "{1}\n",
      "set()\n"
     ]
    }
   ],
   "source": [
    "print(a-b)\n",
    "print(a.difference(b))\n",
    "print(bruss-wruss)"
   ]
  },
  {
   "cell_type": "code",
   "execution_count": 105,
   "id": "d9311083",
   "metadata": {},
   "outputs": [
    {
     "name": "stdout",
     "output_type": "stream",
     "text": [
      "{1, 3}\n",
      "{1, 3}\n",
      "{'cream'}\n"
     ]
    }
   ],
   "source": [
    "print(a^b)\n",
    "print(a.symmetric_difference(b))\n",
    "print(bruss^wruss)"
   ]
  },
  {
   "cell_type": "code",
   "execution_count": 107,
   "id": "46e184e3",
   "metadata": {},
   "outputs": [
    {
     "name": "stdout",
     "output_type": "stream",
     "text": [
      "False\n",
      "False\n"
     ]
    }
   ],
   "source": [
    "print(a<=b)\n",
    "print(a.issubset(b))"
   ]
  },
  {
   "cell_type": "code",
   "execution_count": 108,
   "id": "a7dc99e0",
   "metadata": {},
   "outputs": [
    {
     "name": "stdout",
     "output_type": "stream",
     "text": [
      "True\n"
     ]
    }
   ],
   "source": [
    "print(bruss<=wruss)"
   ]
  },
  {
   "cell_type": "code",
   "execution_count": 109,
   "id": "14573a9b",
   "metadata": {},
   "outputs": [
    {
     "name": "stdout",
     "output_type": "stream",
     "text": [
      "False\n",
      "True\n"
     ]
    }
   ],
   "source": [
    "print(a<b)\n",
    "print(bruss<wruss)"
   ]
  },
  {
   "cell_type": "code",
   "execution_count": 111,
   "id": "606606af",
   "metadata": {},
   "outputs": [
    {
     "name": "stdout",
     "output_type": "stream",
     "text": [
      "False\n",
      "False\n",
      "True\n"
     ]
    }
   ],
   "source": [
    "print(a>=b)\n",
    "print(a.issuperset(b))\n",
    "print(wruss>=bruss)"
   ]
  },
  {
   "cell_type": "code",
   "execution_count": 112,
   "id": "785d4ee3",
   "metadata": {},
   "outputs": [
    {
     "name": "stdout",
     "output_type": "stream",
     "text": [
      "False\n",
      "True\n"
     ]
    }
   ],
   "source": [
    "print(a>b)\n",
    "print(wruss>bruss)"
   ]
  },
  {
   "cell_type": "code",
   "execution_count": 113,
   "id": "ae18e7ba",
   "metadata": {},
   "outputs": [
    {
     "data": {
      "text/plain": [
       "{1, 4}"
      ]
     },
     "execution_count": 113,
     "metadata": {},
     "output_type": "execute_result"
    }
   ],
   "source": [
    "a_set = {number for number in range(1, 6) if number % 3 == 1}\n",
    "a_set"
   ]
  },
  {
   "cell_type": "code",
   "execution_count": 116,
   "id": "f2de34a6",
   "metadata": {},
   "outputs": [
    {
     "name": "stdout",
     "output_type": "stream",
     "text": [
      "frozenset({1, 2, 3})\n",
      "frozenset({1, 2, 3})\n",
      "frozenset({1, 2, 3})\n",
      "frozenset({1, 2, 3})\n"
     ]
    }
   ],
   "source": [
    "print(frozenset([3,2,1]))\n",
    "print(frozenset(set([2,1,3])))\n",
    "print(frozenset({1,2,3}))\n",
    "print(frozenset((2,3,1)))"
   ]
  },
  {
   "cell_type": "code",
   "execution_count": 117,
   "id": "1e0c0ccd",
   "metadata": {},
   "outputs": [
    {
     "name": "stdout",
     "output_type": "stream",
     "text": [
      "frozenset({1, 2, 3})\n"
     ]
    },
    {
     "ename": "AttributeError",
     "evalue": "'frozenset' object has no attribute 'add'",
     "output_type": "error",
     "traceback": [
      "\u001b[1;31m---------------------------------------------------------------------------\u001b[0m",
      "\u001b[1;31mAttributeError\u001b[0m                            Traceback (most recent call last)",
      "\u001b[1;32m<ipython-input-117-5739726a1cb3>\u001b[0m in \u001b[0;36m<module>\u001b[1;34m\u001b[0m\n\u001b[0;32m      1\u001b[0m \u001b[0mfs\u001b[0m \u001b[1;33m=\u001b[0m \u001b[0mfrozenset\u001b[0m\u001b[1;33m(\u001b[0m\u001b[1;33m[\u001b[0m\u001b[1;36m3\u001b[0m\u001b[1;33m,\u001b[0m\u001b[1;36m2\u001b[0m\u001b[1;33m,\u001b[0m\u001b[1;36m1\u001b[0m\u001b[1;33m]\u001b[0m\u001b[1;33m)\u001b[0m\u001b[1;33m\u001b[0m\u001b[1;33m\u001b[0m\u001b[0m\n\u001b[0;32m      2\u001b[0m \u001b[0mprint\u001b[0m\u001b[1;33m(\u001b[0m\u001b[0mfs\u001b[0m\u001b[1;33m)\u001b[0m\u001b[1;33m\u001b[0m\u001b[1;33m\u001b[0m\u001b[0m\n\u001b[1;32m----> 3\u001b[1;33m \u001b[0mfs\u001b[0m\u001b[1;33m.\u001b[0m\u001b[0madd\u001b[0m\u001b[1;33m(\u001b[0m\u001b[1;36m4\u001b[0m\u001b[1;33m)\u001b[0m\u001b[1;33m\u001b[0m\u001b[1;33m\u001b[0m\u001b[0m\n\u001b[0m",
      "\u001b[1;31mAttributeError\u001b[0m: 'frozenset' object has no attribute 'add'"
     ]
    }
   ],
   "source": [
    "fs = frozenset([3,2,1])\n",
    "print(fs)\n",
    "fs.add(4)"
   ]
  },
  {
   "cell_type": "code",
   "execution_count": 118,
   "id": "3de69182",
   "metadata": {},
   "outputs": [],
   "source": [
    "marxes = ['Groucho','Chico','Harpo']\n",
    "pythons = ['Chapman','Cleese','Gilliam','Jones','Palin']\n",
    "stooges = ['Moe','Curly','Larry']"
   ]
  },
  {
   "cell_type": "code",
   "execution_count": 119,
   "id": "672184aa",
   "metadata": {},
   "outputs": [
    {
     "name": "stdout",
     "output_type": "stream",
     "text": [
      "(['Groucho', 'Chico', 'Harpo'], ['Chapman', 'Cleese', 'Gilliam', 'Jones', 'Palin'], ['Moe', 'Curly', 'Larry'])\n"
     ]
    }
   ],
   "source": [
    "tuple_of_lists = marxes, pythons, stooges\n",
    "print(tuple_of_lists)"
   ]
  },
  {
   "cell_type": "code",
   "execution_count": 120,
   "id": "a03412f0",
   "metadata": {},
   "outputs": [
    {
     "name": "stdout",
     "output_type": "stream",
     "text": [
      "[['Groucho', 'Chico', 'Harpo'], ['Chapman', 'Cleese', 'Gilliam', 'Jones', 'Palin'], ['Moe', 'Curly', 'Larry']]\n"
     ]
    }
   ],
   "source": [
    "list_of_list = [marxes, pythons, stooges]\n",
    "print(list_of_list)"
   ]
  },
  {
   "cell_type": "code",
   "execution_count": 122,
   "id": "c040f7f5",
   "metadata": {},
   "outputs": [
    {
     "name": "stdout",
     "output_type": "stream",
     "text": [
      "{'Marxes': ['Groucho', 'Chico', 'Harpo'], 'Pythons': ['Chapman', 'Cleese', 'Gilliam', 'Jones', 'Palin'], 'Stooges': ['Moe', 'Curly', 'Larry']}\n"
     ]
    }
   ],
   "source": [
    "dict_of_lists = {'Marxes':marxes,'Pythons':pythons,'Stooges':stooges}\n",
    "print(dict_of_lists)"
   ]
  },
  {
   "cell_type": "code",
   "execution_count": 19,
   "id": "e19830c0",
   "metadata": {},
   "outputs": [
    {
     "name": "stdout",
     "output_type": "stream",
     "text": [
      "morse\n",
      "{'chien': 'dog', 'chat': 'cat', 'morse': 'walrus'}\n",
      "dog\n",
      "['dog', 'cat', 'walrus']\n"
     ]
    }
   ],
   "source": [
    "# 연습문제\n",
    "e2f = {\"dog\":\"chien\", \"cat\":\"chat\", \"walrus\":\"morse\"}\n",
    "# 영어 walrus를 프랑스어로 출력\n",
    "print(e2f['walrus'])\n",
    "# e2f 딕셔너리에서 f2e 딕셔너리라는 사전 만들기\n",
    "f2e={v:k for k,v in e2f.items()}\n",
    "print(f2e)\n",
    "# 프랑스어 chien를 영어로 출력\n",
    "print(f2e['chien'])\n",
    "# 딕셔너리의 영어단어 키들을 출력\n",
    "e_key=e2f.keys()\n",
    "print(list(e_key))"
   ]
  },
  {
   "cell_type": "code",
   "execution_count": 1,
   "id": "89684017",
   "metadata": {},
   "outputs": [
    {
     "name": "stdout",
     "output_type": "stream",
     "text": [
      "['animals', 'plants', 'other']\n",
      "['cats', 'octopi', 'emus']\n",
      "['Henri', 'Grumpy', 'Lucy']\n"
     ]
    }
   ],
   "source": [
    "# 2차원 딕셔너리 만들기\n",
    "life={'animals':{'cats':['Henri','Grumpy','Lucy'], 'octopi':{}, 'emus':{}}, 'plants':{},'other':{}}\n",
    "#life딕셔너리의 최상위 키\n",
    "print(list(life.keys()))\n",
    "# life['animals']의 키\n",
    "print(list(life['animals'].keys()))\n",
    "# life['animals']['cats']의 모든 값\n",
    "print(life['animals']['cats'])"
   ]
  },
  {
   "cell_type": "code",
   "execution_count": 47,
   "id": "f028f92b",
   "metadata": {},
   "outputs": [
    {
     "name": "stdout",
     "output_type": "stream",
     "text": [
      "{0: 0, 1: 1, 2: 4, 3: 9, 4: 16, 5: 25, 6: 36, 7: 49, 8: 64, 9: 81}\n"
     ]
    }
   ],
   "source": [
    "# 딕셔너리 컴프리헨션으로 squares 딕셔너리를 생성\n",
    "# range(10)를 키로하고 각 키의 제곱을 값으로 한다.\n",
    "squares={k:k**2 for k in range(10)}\n",
    "print(squares)"
   ]
  },
  {
   "cell_type": "code",
   "execution_count": 49,
   "id": "01e516f1",
   "metadata": {},
   "outputs": [
    {
     "name": "stdout",
     "output_type": "stream",
     "text": [
      "{1, 3, 5, 7, 9}\n"
     ]
    }
   ],
   "source": [
    "# 셋 컴프리헨션을 이용하여 range(10)의 홀수 셋을 만든다.\n",
    "odd_set = {n for n in range(10) if n%2==1}\n",
    "print(odd_set)"
   ]
  },
  {
   "cell_type": "code",
   "execution_count": 3,
   "id": "2a1fad95",
   "metadata": {},
   "outputs": [
    {
     "name": "stdout",
     "output_type": "stream",
     "text": [
      "Got 0\n",
      "Got 1\n",
      "Got 2\n",
      "Got 3\n",
      "Got 4\n",
      "Got 5\n",
      "Got 6\n",
      "Got 7\n",
      "Got 8\n",
      "Got 9\n"
     ]
    }
   ],
   "source": [
    "# 제너레이터 컴프리헨션을 사용하여 문자열 Got과 range(10)의 각 숫자를 반환\n",
    "for thing in ('Got %s' % number for number in range(10)):\n",
    "    print(thing)"
   ]
  },
  {
   "cell_type": "code",
   "execution_count": 3,
   "id": "fa1fee84",
   "metadata": {},
   "outputs": [
    {
     "name": "stdout",
     "output_type": "stream",
     "text": [
      "{'optimist': 'The glass is half full', 'pessimist': 'The glass is half empty', 'troll': 'How did you get a glass?'}\n"
     ]
    }
   ],
   "source": [
    "# zip()을 사용해서 딕셔너리 생성\n",
    "key='optimist','pessimist','troll'\n",
    "value='The glass is half full','The glass is half empty','How did you get a glass?'\n",
    "print(dict(zip(key,value)))"
   ]
  },
  {
   "cell_type": "code",
   "execution_count": 5,
   "id": "b6c1f95b",
   "metadata": {},
   "outputs": [
    {
     "name": "stdout",
     "output_type": "stream",
     "text": [
      "{'Creature of Habit': 'A nun turns into a mon ster', 'Crewel Fate': 'A haunted yarn shop'}\n"
     ]
    }
   ],
   "source": [
    "#zip()을 사용해서 다음 두 리스트를 짝으로 하는 movies 딕셔너리를 만들자\n",
    "title=['Creature of Habit','Crewel Fate']\n",
    "plots=['A nun turns into a mon ster','A haunted yarn shop']\n",
    "print(dict(zip(title,plots)))"
   ]
  }
 ],
 "metadata": {
  "kernelspec": {
   "display_name": "Python 3",
   "language": "python",
   "name": "python3"
  },
  "language_info": {
   "codemirror_mode": {
    "name": "ipython",
    "version": 3
   },
   "file_extension": ".py",
   "mimetype": "text/x-python",
   "name": "python",
   "nbconvert_exporter": "python",
   "pygments_lexer": "ipython3",
   "version": "3.8.10"
  }
 },
 "nbformat": 4,
 "nbformat_minor": 5
}
