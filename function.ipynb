{
 "cells": [
  {
   "cell_type": "code",
   "execution_count": 1,
   "id": "c14b5b04",
   "metadata": {},
   "outputs": [],
   "source": [
    "#함수 정의\n",
    "def do_nothing():\n",
    "    pass # 함수가 아무것도 하지 않는다는 것을 의미"
   ]
  },
  {
   "cell_type": "code",
   "execution_count": 2,
   "id": "e82eeade",
   "metadata": {},
   "outputs": [],
   "source": [
    "do_nothing()"
   ]
  },
  {
   "cell_type": "code",
   "execution_count": 3,
   "id": "e8500f10",
   "metadata": {},
   "outputs": [
    {
     "name": "stdout",
     "output_type": "stream",
     "text": [
      "quack\n"
     ]
    }
   ],
   "source": [
    "def make_a_sound():\n",
    "    print('quack')\n",
    "    \n",
    "make_a_sound()"
   ]
  },
  {
   "cell_type": "code",
   "execution_count": 4,
   "id": "6f76d354",
   "metadata": {},
   "outputs": [
    {
     "data": {
      "text/plain": [
       "False"
      ]
     },
     "execution_count": 4,
     "metadata": {},
     "output_type": "execute_result"
    }
   ],
   "source": [
    "def agree():\n",
    "    return False\n",
    "\n",
    "agree()"
   ]
  },
  {
   "cell_type": "code",
   "execution_count": 5,
   "id": "fce48285",
   "metadata": {},
   "outputs": [
    {
     "name": "stdout",
     "output_type": "stream",
     "text": [
      "That was unexpected.\n"
     ]
    }
   ],
   "source": [
    "# 조건에 따른 값 반환\n",
    "if agree():\n",
    "    print('Splendid')\n",
    "else:\n",
    "    print('That was unexpected.')"
   ]
  },
  {
   "cell_type": "code",
   "execution_count": 6,
   "id": "00383b7f",
   "metadata": {},
   "outputs": [],
   "source": [
    "def echo(anything):\n",
    "    return anything + ' ' + anything"
   ]
  },
  {
   "cell_type": "code",
   "execution_count": 7,
   "id": "6aaee3bc",
   "metadata": {},
   "outputs": [
    {
     "data": {
      "text/plain": [
       "'Rumplestiltskin Rumplestiltskin'"
      ]
     },
     "execution_count": 7,
     "metadata": {},
     "output_type": "execute_result"
    }
   ],
   "source": [
    "echo('Rumplestiltskin')"
   ]
  },
  {
   "cell_type": "code",
   "execution_count": 8,
   "id": "761af4fb",
   "metadata": {},
   "outputs": [],
   "source": [
    "def commentary(color):\n",
    "    if color == 'red':\n",
    "        return \"It's a tomato.\"\n",
    "    elif color == 'green':\n",
    "        return \"It's a green pepper.\"\n",
    "    elif color == 'bee purple':\n",
    "        return \"I don't know waht it is, but only bees can see it.\"\n",
    "    else:\n",
    "        return \"I've never heard of the color \"+color+\".\""
   ]
  },
  {
   "cell_type": "code",
   "execution_count": 9,
   "id": "562dd312",
   "metadata": {},
   "outputs": [
    {
     "name": "stdout",
     "output_type": "stream",
     "text": [
      "I've never heard of the color blue.\n"
     ]
    }
   ],
   "source": [
    "comment = commentary('blue')\n",
    "print(comment)"
   ]
  },
  {
   "cell_type": "code",
   "execution_count": 10,
   "id": "06dd643d",
   "metadata": {},
   "outputs": [
    {
     "name": "stdout",
     "output_type": "stream",
     "text": [
      "None\n"
     ]
    }
   ],
   "source": [
    "# None\n",
    "print(do_nothing())"
   ]
  },
  {
   "cell_type": "code",
   "execution_count": 11,
   "id": "8e536e41",
   "metadata": {},
   "outputs": [
    {
     "name": "stdout",
     "output_type": "stream",
     "text": [
      "It's no thing\n"
     ]
    }
   ],
   "source": [
    "thing = None\n",
    "if thing:\n",
    "    print(\"It's some thing\")\n",
    "else:\n",
    "    print(\"It's no thing\")"
   ]
  },
  {
   "cell_type": "code",
   "execution_count": 12,
   "id": "4a2c22e5",
   "metadata": {},
   "outputs": [
    {
     "name": "stdout",
     "output_type": "stream",
     "text": [
      "It's nothing\n"
     ]
    }
   ],
   "source": [
    "thing = None\n",
    "if thing is None:\n",
    "    print(\"It's nothing\")\n",
    "else:\n",
    "    print(\"It's something\")"
   ]
  },
  {
   "cell_type": "code",
   "execution_count": 13,
   "id": "6b65159a",
   "metadata": {},
   "outputs": [],
   "source": [
    "def whatis(thing):\n",
    "    if thing is None:\n",
    "        print(thing, \"is None\")\n",
    "    elif thing:\n",
    "        print(thing, \"is True\")\n",
    "    else:\n",
    "        print(thing, \"is False\")"
   ]
  },
  {
   "cell_type": "code",
   "execution_count": 14,
   "id": "f34415a6",
   "metadata": {},
   "outputs": [
    {
     "name": "stdout",
     "output_type": "stream",
     "text": [
      "None is None\n",
      "True is True\n",
      "False is False\n"
     ]
    }
   ],
   "source": [
    "whatis(None)\n",
    "whatis(True)\n",
    "whatis(False)"
   ]
  },
  {
   "cell_type": "code",
   "execution_count": 15,
   "id": "ebb82071",
   "metadata": {},
   "outputs": [
    {
     "data": {
      "text/plain": [
       "{'wine': 'chardonnay', 'entree': 'chicken', 'dessert': 'cake'}"
      ]
     },
     "execution_count": 15,
     "metadata": {},
     "output_type": "execute_result"
    }
   ],
   "source": [
    "# 위치인수\n",
    "# 위치인수로 딕셔너리를 만들어서 반환하는 함수\n",
    "def menu(wine, entree, dessert):\n",
    "    return {'wine':wine, 'entree':entree, 'dessert':dessert}\n",
    "\n",
    "menu('chardonnay','chicken','cake')"
   ]
  },
  {
   "cell_type": "code",
   "execution_count": 16,
   "id": "5602823e",
   "metadata": {},
   "outputs": [
    {
     "data": {
      "text/plain": [
       "{'wine': 'bordeaux', 'entree': 'beef', 'dessert': 'bagel'}"
      ]
     },
     "execution_count": 16,
     "metadata": {},
     "output_type": "execute_result"
    }
   ],
   "source": [
    "menu(entree='beef', dessert='bagel',wine='bordeaux')"
   ]
  },
  {
   "cell_type": "code",
   "execution_count": 17,
   "id": "db637248",
   "metadata": {},
   "outputs": [
    {
     "data": {
      "text/plain": [
       "{'wine': 'frontenac', 'entree': 'fish', 'dessert': 'flan'}"
      ]
     },
     "execution_count": 17,
     "metadata": {},
     "output_type": "execute_result"
    }
   ],
   "source": [
    "menu('frontenac', dessert='flan', entree='fish')"
   ]
  },
  {
   "cell_type": "code",
   "execution_count": 18,
   "id": "05414313",
   "metadata": {},
   "outputs": [],
   "source": [
    "def menu(wine, entree, dessert='pudding'):\n",
    "    return {'wine':wine, 'entree':entree, 'dessert':dessert}"
   ]
  },
  {
   "cell_type": "code",
   "execution_count": 19,
   "id": "a3aab2d7",
   "metadata": {},
   "outputs": [
    {
     "data": {
      "text/plain": [
       "{'wine': 'chardonnay', 'entree': 'chicken', 'dessert': 'pudding'}"
      ]
     },
     "execution_count": 19,
     "metadata": {},
     "output_type": "execute_result"
    }
   ],
   "source": [
    "menu('chardonnay', 'chicken')"
   ]
  },
  {
   "cell_type": "code",
   "execution_count": 20,
   "id": "cef1d341",
   "metadata": {},
   "outputs": [
    {
     "data": {
      "text/plain": [
       "{'wine': 'dunkelfelder', 'entree': 'duck', 'dessert': 'doughnut'}"
      ]
     },
     "execution_count": 20,
     "metadata": {},
     "output_type": "execute_result"
    }
   ],
   "source": [
    "menu('dunkelfelder', 'duck', 'doughnut')"
   ]
  },
  {
   "cell_type": "code",
   "execution_count": 21,
   "id": "1dacb651",
   "metadata": {},
   "outputs": [],
   "source": [
    "def buggy(arg, result=[]): # arg는 일반 매개변수\n",
    "    result.append(arg)\n",
    "    print(result)"
   ]
  },
  {
   "cell_type": "code",
   "execution_count": 22,
   "id": "c1a634ce",
   "metadata": {},
   "outputs": [
    {
     "name": "stdout",
     "output_type": "stream",
     "text": [
      "['a']\n"
     ]
    }
   ],
   "source": [
    "buggy('a')"
   ]
  },
  {
   "cell_type": "code",
   "execution_count": 23,
   "id": "fedfaf2f",
   "metadata": {},
   "outputs": [
    {
     "name": "stdout",
     "output_type": "stream",
     "text": [
      "['a', 'b']\n"
     ]
    }
   ],
   "source": [
    "buggy('b')"
   ]
  },
  {
   "cell_type": "code",
   "execution_count": 24,
   "id": "12a18cbc",
   "metadata": {},
   "outputs": [
    {
     "data": {
      "text/plain": [
       "['a']"
      ]
     },
     "execution_count": 24,
     "metadata": {},
     "output_type": "execute_result"
    }
   ],
   "source": [
    "def work(arg):\n",
    "    result=[]\n",
    "    result.append(arg)\n",
    "    return result\n",
    "work('a')"
   ]
  },
  {
   "cell_type": "code",
   "execution_count": 25,
   "id": "ef45e66d",
   "metadata": {},
   "outputs": [
    {
     "data": {
      "text/plain": [
       "['b']"
      ]
     },
     "execution_count": 25,
     "metadata": {},
     "output_type": "execute_result"
    }
   ],
   "source": [
    "work('b')"
   ]
  },
  {
   "cell_type": "code",
   "execution_count": 26,
   "id": "e208397b",
   "metadata": {},
   "outputs": [],
   "source": [
    "# 첫 번째 인수 호출을 가리키기 위해 매개변수에 다른 값을 넣어서 수정할 수 있다.\n",
    "def nonbuggy(arg, result=None):\n",
    "    if result is None:\n",
    "        result=[]\n",
    "    result.append(arg)\n",
    "    print(result)"
   ]
  },
  {
   "cell_type": "code",
   "execution_count": 27,
   "id": "326eccf3",
   "metadata": {},
   "outputs": [
    {
     "name": "stdout",
     "output_type": "stream",
     "text": [
      "['a']\n"
     ]
    }
   ],
   "source": [
    "nonbuggy('a')"
   ]
  },
  {
   "cell_type": "code",
   "execution_count": 28,
   "id": "e3b770d1",
   "metadata": {
    "scrolled": true
   },
   "outputs": [
    {
     "name": "stdout",
     "output_type": "stream",
     "text": [
      "['b']\n"
     ]
    }
   ],
   "source": [
    "nonbuggy('b')"
   ]
  },
  {
   "cell_type": "code",
   "execution_count": 29,
   "id": "e8a3f8cc",
   "metadata": {},
   "outputs": [],
   "source": [
    "# 인수의 *\n",
    "def print_args(*args):\n",
    "    print('Positional tuple:', args)"
   ]
  },
  {
   "cell_type": "code",
   "execution_count": 30,
   "id": "34f8da8d",
   "metadata": {},
   "outputs": [
    {
     "name": "stdout",
     "output_type": "stream",
     "text": [
      "Positional tuple: ()\n"
     ]
    }
   ],
   "source": [
    "print_args()"
   ]
  },
  {
   "cell_type": "code",
   "execution_count": 31,
   "id": "5e3252fb",
   "metadata": {},
   "outputs": [
    {
     "name": "stdout",
     "output_type": "stream",
     "text": [
      "Positional tuple: (3, 2, 1, 'wait!', 'uh...')\n"
     ]
    }
   ],
   "source": [
    "print_args(3,2,1,'wait!','uh...')"
   ]
  },
  {
   "cell_type": "code",
   "execution_count": 34,
   "id": "c582c8d7",
   "metadata": {},
   "outputs": [],
   "source": [
    "def print_more(required1, required2, *args):\n",
    "    print('Need this one:', required1)\n",
    "    print('Need this one. too:', required2)\n",
    "    print('All the rest:', args)"
   ]
  },
  {
   "cell_type": "code",
   "execution_count": 35,
   "id": "d9e9bcdf",
   "metadata": {},
   "outputs": [
    {
     "name": "stdout",
     "output_type": "stream",
     "text": [
      "Need this one: cap\n",
      "Need this one. too: gloves\n",
      "All the rest: ('scarf', 'moncle', 'mustache wax')\n"
     ]
    }
   ],
   "source": [
    "print_more('cap', 'gloves','scarf','moncle','mustache wax')"
   ]
  },
  {
   "cell_type": "code",
   "execution_count": 36,
   "id": "4795784a",
   "metadata": {},
   "outputs": [
    {
     "name": "stdout",
     "output_type": "stream",
     "text": [
      "Positional tuple: (2, 5, 7, 'x')\n"
     ]
    }
   ],
   "source": [
    "print_args(2,5,7,'x')"
   ]
  },
  {
   "cell_type": "code",
   "execution_count": 38,
   "id": "1f856ad3",
   "metadata": {},
   "outputs": [
    {
     "name": "stdout",
     "output_type": "stream",
     "text": [
      "Positional tuple: ((2, 5, 7, 'x'),)\n"
     ]
    }
   ],
   "source": [
    "args = (2,5,7,'x')\n",
    "print_args(args)"
   ]
  },
  {
   "cell_type": "code",
   "execution_count": 39,
   "id": "785bf3f0",
   "metadata": {},
   "outputs": [
    {
     "name": "stdout",
     "output_type": "stream",
     "text": [
      "Positional tuple: (2, 5, 7, 'x')\n"
     ]
    }
   ],
   "source": [
    "print_args(*args)"
   ]
  },
  {
   "cell_type": "code",
   "execution_count": 40,
   "id": "d85753c8",
   "metadata": {},
   "outputs": [],
   "source": [
    "def print_kwargs(**kwargs):\n",
    "    print('Keyword arguments:', kwargs)"
   ]
  },
  {
   "cell_type": "code",
   "execution_count": 41,
   "id": "0b169d24",
   "metadata": {},
   "outputs": [
    {
     "name": "stdout",
     "output_type": "stream",
     "text": [
      "Keyword arguments: {}\n"
     ]
    }
   ],
   "source": [
    "print_kwargs()"
   ]
  },
  {
   "cell_type": "code",
   "execution_count": 42,
   "id": "dc15fe34",
   "metadata": {},
   "outputs": [
    {
     "name": "stdout",
     "output_type": "stream",
     "text": [
      "Keyword arguments: {'wine': 'merlot', 'entree': 'mutton', 'dessert': 'macaroon'}\n"
     ]
    }
   ],
   "source": [
    "print_kwargs(wine='merlot', entree='mutton',dessert='macaroon')"
   ]
  },
  {
   "cell_type": "code",
   "execution_count": 43,
   "id": "6c10b437",
   "metadata": {},
   "outputs": [],
   "source": [
    "def print_data(data, *, start=0, end=100):\n",
    "    for value in (data[start:end]):\n",
    "        print(value)"
   ]
  },
  {
   "cell_type": "code",
   "execution_count": 44,
   "id": "115b3983",
   "metadata": {},
   "outputs": [
    {
     "name": "stdout",
     "output_type": "stream",
     "text": [
      "a\n",
      "b\n",
      "c\n",
      "d\n",
      "e\n",
      "f\n"
     ]
    }
   ],
   "source": [
    "data = ['a','b','c','d','e','f']\n",
    "print_data(data)"
   ]
  },
  {
   "cell_type": "code",
   "execution_count": 45,
   "id": "d56f2343",
   "metadata": {},
   "outputs": [
    {
     "name": "stdout",
     "output_type": "stream",
     "text": [
      "e\n",
      "f\n"
     ]
    }
   ],
   "source": [
    "print_data(data, start=4)"
   ]
  },
  {
   "cell_type": "code",
   "execution_count": 46,
   "id": "3125a64d",
   "metadata": {},
   "outputs": [
    {
     "name": "stdout",
     "output_type": "stream",
     "text": [
      "a\n",
      "b\n"
     ]
    }
   ],
   "source": [
    "print_data(data, end=2)"
   ]
  },
  {
   "cell_type": "code",
   "execution_count": 47,
   "id": "d9a36905",
   "metadata": {},
   "outputs": [],
   "source": [
    "def print_data(data, start=0, end=100):\n",
    "    for value in (data[start:end]):\n",
    "        print(value)"
   ]
  },
  {
   "cell_type": "code",
   "execution_count": 48,
   "id": "08148167",
   "metadata": {},
   "outputs": [
    {
     "name": "stdout",
     "output_type": "stream",
     "text": [
      "a\n",
      "b\n",
      "c\n",
      "d\n",
      "e\n",
      "f\n"
     ]
    }
   ],
   "source": [
    "data = ['a','b','c','d','e','f']\n",
    "print_data(data)"
   ]
  },
  {
   "cell_type": "code",
   "execution_count": 49,
   "id": "bfa976af",
   "metadata": {},
   "outputs": [
    {
     "name": "stdout",
     "output_type": "stream",
     "text": [
      "e\n",
      "f\n"
     ]
    }
   ],
   "source": [
    "print_data(data, start=4)"
   ]
  },
  {
   "cell_type": "code",
   "execution_count": 50,
   "id": "cdcd50b2",
   "metadata": {},
   "outputs": [
    {
     "name": "stdout",
     "output_type": "stream",
     "text": [
      "a\n",
      "b\n"
     ]
    }
   ],
   "source": [
    "print_data(data, end=2)"
   ]
  },
  {
   "cell_type": "code",
   "execution_count": 51,
   "id": "865b7f7c",
   "metadata": {},
   "outputs": [
    {
     "data": {
      "text/plain": [
       "['one', 'fine', 'day']"
      ]
     },
     "execution_count": 51,
     "metadata": {},
     "output_type": "execute_result"
    }
   ],
   "source": [
    "outside=['one','fine','day']\n",
    "def mangle(arg):\n",
    "    arg[1]='terrible!'\n",
    "outside"
   ]
  },
  {
   "cell_type": "code",
   "execution_count": 52,
   "id": "3920c6ea",
   "metadata": {},
   "outputs": [
    {
     "data": {
      "text/plain": [
       "['one', 'terrible!', 'day']"
      ]
     },
     "execution_count": 52,
     "metadata": {},
     "output_type": "execute_result"
    }
   ],
   "source": [
    "mangle(outside)\n",
    "outside"
   ]
  },
  {
   "cell_type": "code",
   "execution_count": 53,
   "id": "8167f4c6",
   "metadata": {},
   "outputs": [],
   "source": [
    "def echo(anything):\n",
    "    'echo returns its input argument'\n",
    "    return anything"
   ]
  },
  {
   "cell_type": "code",
   "execution_count": 56,
   "id": "760b8af3",
   "metadata": {},
   "outputs": [
    {
     "name": "stdout",
     "output_type": "stream",
     "text": [
      "Help on function echo in module __main__:\n",
      "\n",
      "echo(anything)\n",
      "    echo returns its input argument\n",
      "\n"
     ]
    }
   ],
   "source": [
    "help(echo)"
   ]
  },
  {
   "cell_type": "code",
   "execution_count": 59,
   "id": "81c4d761",
   "metadata": {},
   "outputs": [],
   "source": [
    "def print_if_true(thing, check):\n",
    "    '''\n",
    "    prints the first argument if a second argument is true.\n",
    "    The operation is:\n",
    "        1. Check hether the *second* argument is true.\n",
    "        2. If it is, print the *first* argument.\n",
    "    '''\n",
    "    if check:\n",
    "        print(thing)"
   ]
  },
  {
   "cell_type": "code",
   "execution_count": 60,
   "id": "cff5a738",
   "metadata": {},
   "outputs": [
    {
     "name": "stdout",
     "output_type": "stream",
     "text": [
      "echo returns its input argument\n"
     ]
    }
   ],
   "source": [
    "print(echo.__doc__)"
   ]
  },
  {
   "cell_type": "code",
   "execution_count": 61,
   "id": "71f52cc0",
   "metadata": {},
   "outputs": [
    {
     "name": "stdout",
     "output_type": "stream",
     "text": [
      "42\n"
     ]
    }
   ],
   "source": [
    "def answer():\n",
    "    print(42)\n",
    "answer()"
   ]
  },
  {
   "cell_type": "code",
   "execution_count": 64,
   "id": "84da961f",
   "metadata": {},
   "outputs": [],
   "source": [
    "def run_something(func):\n",
    "    func()"
   ]
  },
  {
   "cell_type": "code",
   "execution_count": 65,
   "id": "7316cc0e",
   "metadata": {},
   "outputs": [
    {
     "name": "stdout",
     "output_type": "stream",
     "text": [
      "42\n"
     ]
    }
   ],
   "source": [
    "run_something(answer)"
   ]
  },
  {
   "cell_type": "code",
   "execution_count": 66,
   "id": "6e6a03ce",
   "metadata": {},
   "outputs": [
    {
     "data": {
      "text/plain": [
       "function"
      ]
     },
     "execution_count": 66,
     "metadata": {},
     "output_type": "execute_result"
    }
   ],
   "source": [
    "type(run_something)"
   ]
  },
  {
   "cell_type": "code",
   "execution_count": 68,
   "id": "3c225473",
   "metadata": {},
   "outputs": [
    {
     "name": "stdout",
     "output_type": "stream",
     "text": [
      "3\n"
     ]
    }
   ],
   "source": [
    "def add_args(arg1, arg2):\n",
    "    print(arg1+arg2)\n",
    "add_args(1,2)"
   ]
  },
  {
   "cell_type": "code",
   "execution_count": 69,
   "id": "1c4c7a04",
   "metadata": {},
   "outputs": [],
   "source": [
    "def run_something_with_args(func, arg1, arg2):\n",
    "    func(arg1, arg2)"
   ]
  },
  {
   "cell_type": "code",
   "execution_count": 70,
   "id": "41b199ff",
   "metadata": {},
   "outputs": [
    {
     "name": "stdout",
     "output_type": "stream",
     "text": [
      "14\n"
     ]
    }
   ],
   "source": [
    "run_something_with_args(add_args, 5, 9)"
   ]
  },
  {
   "cell_type": "code",
   "execution_count": 71,
   "id": "82782e15",
   "metadata": {},
   "outputs": [],
   "source": [
    "def sum_args(*args):\n",
    "    return sum(args) # 파이썬 내장함수"
   ]
  },
  {
   "cell_type": "code",
   "execution_count": 72,
   "id": "ca7b8314",
   "metadata": {},
   "outputs": [],
   "source": [
    "def run_with_positional_args(func, *args):\n",
    "    return func(*args)"
   ]
  },
  {
   "cell_type": "code",
   "execution_count": 73,
   "id": "f93e8cec",
   "metadata": {},
   "outputs": [
    {
     "data": {
      "text/plain": [
       "10"
      ]
     },
     "execution_count": 73,
     "metadata": {},
     "output_type": "execute_result"
    }
   ],
   "source": [
    "run_with_positional_args(sum_args, 1,2,3,4)"
   ]
  },
  {
   "cell_type": "code",
   "execution_count": 74,
   "id": "1b3a488d",
   "metadata": {},
   "outputs": [
    {
     "data": {
      "text/plain": [
       "11"
      ]
     },
     "execution_count": 74,
     "metadata": {},
     "output_type": "execute_result"
    }
   ],
   "source": [
    "def outer(a,b):\n",
    "    def inner(c,d):\n",
    "        return c+d\n",
    "    return inner(a,b)\n",
    "outer(4,7)"
   ]
  },
  {
   "cell_type": "code",
   "execution_count": 75,
   "id": "bc782e01",
   "metadata": {},
   "outputs": [
    {
     "data": {
      "text/plain": [
       "\"We are the knights who say: 'Ni!'\""
      ]
     },
     "execution_count": 75,
     "metadata": {},
     "output_type": "execute_result"
    }
   ],
   "source": [
    "def knights(saying):\n",
    "    def inner(quote):\n",
    "        return \"We are the knights who say: '%s'\" % quote\n",
    "    return inner(saying)\n",
    "knights('Ni!')"
   ]
  },
  {
   "cell_type": "code",
   "execution_count": 76,
   "id": "c4b9c363",
   "metadata": {},
   "outputs": [],
   "source": [
    "def knights2(saying):\n",
    "    def inner2():\n",
    "        return \"We are the knights who say:  '%s'\" % saying\n",
    "    return inner2"
   ]
  },
  {
   "cell_type": "code",
   "execution_count": 77,
   "id": "beeac75b",
   "metadata": {},
   "outputs": [
    {
     "name": "stdout",
     "output_type": "stream",
     "text": [
      "<class 'function'>\n",
      "<class 'function'>\n"
     ]
    }
   ],
   "source": [
    "a=knights2('Duck')\n",
    "b=knights2('Hasenpfeffer')\n",
    "print(type(a))\n",
    "print(type(b))"
   ]
  },
  {
   "cell_type": "code",
   "execution_count": 78,
   "id": "d3a3fc1c",
   "metadata": {},
   "outputs": [
    {
     "name": "stdout",
     "output_type": "stream",
     "text": [
      "<function knights2.<locals>.inner2 at 0x000002C562FDE798>\n",
      "<function knights2.<locals>.inner2 at 0x000002C562FDE708>\n"
     ]
    }
   ],
   "source": [
    "print(a)\n",
    "print(b)"
   ]
  },
  {
   "cell_type": "code",
   "execution_count": 79,
   "id": "ca8a4612",
   "metadata": {},
   "outputs": [
    {
     "name": "stdout",
     "output_type": "stream",
     "text": [
      "We are the knights who say:  'Duck'\n",
      "We are the knights who say:  'Hasenpfeffer'\n"
     ]
    }
   ],
   "source": [
    "print(a())\n",
    "print(b())"
   ]
  },
  {
   "cell_type": "code",
   "execution_count": 80,
   "id": "ccd0d499",
   "metadata": {},
   "outputs": [],
   "source": [
    "#람다함수\n",
    "def edit_story(words, func):\n",
    "    for word in words:\n",
    "        print(func(word))"
   ]
  },
  {
   "cell_type": "code",
   "execution_count": 81,
   "id": "c0989d88",
   "metadata": {},
   "outputs": [],
   "source": [
    "stairs=['thud','meow','thud','hiss']"
   ]
  },
  {
   "cell_type": "code",
   "execution_count": 82,
   "id": "7420a2cf",
   "metadata": {},
   "outputs": [],
   "source": [
    "def enliven(word): #첫 글자를 대문자로 만들고 느낌표 붙이기\n",
    "    return word.capitalize() + '!'"
   ]
  },
  {
   "cell_type": "code",
   "execution_count": 83,
   "id": "9f1c6c5f",
   "metadata": {},
   "outputs": [
    {
     "name": "stdout",
     "output_type": "stream",
     "text": [
      "Thud!\n",
      "Meow!\n",
      "Thud!\n",
      "Hiss!\n"
     ]
    }
   ],
   "source": [
    "edit_story(stairs, enliven)"
   ]
  },
  {
   "cell_type": "code",
   "execution_count": 84,
   "id": "f1d8f5dc",
   "metadata": {},
   "outputs": [
    {
     "name": "stdout",
     "output_type": "stream",
     "text": [
      "Thud!\n",
      "Meow!\n",
      "Thud!\n",
      "Hiss!\n"
     ]
    }
   ],
   "source": [
    "edit_story(stairs, lambda word: word.capitalize()+ '!')"
   ]
  },
  {
   "cell_type": "code",
   "execution_count": 86,
   "id": "0a41ce31",
   "metadata": {},
   "outputs": [
    {
     "data": {
      "text/plain": [
       "5050"
      ]
     },
     "execution_count": 86,
     "metadata": {},
     "output_type": "execute_result"
    }
   ],
   "source": [
    "sum(range(1, 101))"
   ]
  },
  {
   "cell_type": "code",
   "execution_count": 89,
   "id": "008a7ed8",
   "metadata": {},
   "outputs": [
    {
     "name": "stdout",
     "output_type": "stream",
     "text": [
      "1\n",
      "2\n",
      "3\n",
      "4\n"
     ]
    }
   ],
   "source": [
    "#제너레이터 함수\n",
    "def my_range(first=0, last=10, step=1):\n",
    "    number = first\n",
    "    while number < last:\n",
    "        yield number\n",
    "        number+=step\n",
    "ranger = my_range(1,5)\n",
    "for x in ranger:\n",
    "    print(x)"
   ]
  },
  {
   "cell_type": "code",
   "execution_count": 90,
   "id": "039e048e",
   "metadata": {},
   "outputs": [],
   "source": [
    "for try_again in ranger:\n",
    "    print(try_again)"
   ]
  },
  {
   "cell_type": "code",
   "execution_count": 91,
   "id": "1e92b5ed",
   "metadata": {},
   "outputs": [
    {
     "name": "stdout",
     "output_type": "stream",
     "text": [
      "('a', '1')\n",
      "('b', '2')\n"
     ]
    }
   ],
   "source": [
    "genobj = (pair for pair in zip(['a','b'],['1','2']))\n",
    "genobj\n",
    "for thing in genobj:\n",
    "    print(thing)"
   ]
  },
  {
   "cell_type": "code",
   "execution_count": 111,
   "id": "bdfc686c",
   "metadata": {},
   "outputs": [],
   "source": [
    "def document_it(func):\n",
    "    def new_function(*args, **kwargs):\n",
    "        print('Running function:', func.__name__)\n",
    "        print('Positional arguments:', args)\n",
    "        print('Keyword arguments:', kwargs)\n",
    "        result = func(*args, **kwargs)\n",
    "        print('Result:', result)\n",
    "        return result\n",
    "    return new_function"
   ]
  },
  {
   "cell_type": "code",
   "execution_count": 112,
   "id": "5dc7620e",
   "metadata": {},
   "outputs": [
    {
     "data": {
      "text/plain": [
       "8"
      ]
     },
     "execution_count": 112,
     "metadata": {},
     "output_type": "execute_result"
    }
   ],
   "source": [
    "def add_ints(a,b):\n",
    "    return a+b\n",
    "add_ints(3,5)"
   ]
  },
  {
   "cell_type": "code",
   "execution_count": 114,
   "id": "e5639aa8",
   "metadata": {},
   "outputs": [
    {
     "name": "stdout",
     "output_type": "stream",
     "text": [
      "Running function: add_ints\n",
      "Positional arguments: (3, 5)\n",
      "Keyword arguments: {}\n",
      "Result: 8\n"
     ]
    },
    {
     "data": {
      "text/plain": [
       "8"
      ]
     },
     "execution_count": 114,
     "metadata": {},
     "output_type": "execute_result"
    }
   ],
   "source": [
    "cooler_add_ints=document_it(add_ints) # 데커레이터 수동 할당\n",
    "cooler_add_ints(3,5)"
   ]
  },
  {
   "cell_type": "code",
   "execution_count": 115,
   "id": "176d1c36",
   "metadata": {},
   "outputs": [
    {
     "name": "stdout",
     "output_type": "stream",
     "text": [
      "Running function: add_ints\n",
      "Positional arguments: (3, 5)\n",
      "Keyword arguments: {}\n",
      "Result: 8\n"
     ]
    },
    {
     "data": {
      "text/plain": [
       "8"
      ]
     },
     "execution_count": 115,
     "metadata": {},
     "output_type": "execute_result"
    }
   ],
   "source": [
    "@document_it\n",
    "def add_ints(a,b):\n",
    "    return a+b\n",
    "add_ints(3,5)"
   ]
  },
  {
   "cell_type": "code",
   "execution_count": 116,
   "id": "76019c4c",
   "metadata": {},
   "outputs": [],
   "source": [
    "def square_it(func):\n",
    "    def new_function(*args, **kwargs):\n",
    "        result=func(*args, **kwargs)\n",
    "        return result*result\n",
    "    return new_function"
   ]
  },
  {
   "cell_type": "code",
   "execution_count": 117,
   "id": "ff36ce82",
   "metadata": {},
   "outputs": [
    {
     "name": "stdout",
     "output_type": "stream",
     "text": [
      "Running function: new_function\n",
      "Positional arguments: (3, 5)\n",
      "Keyword arguments: {}\n",
      "Result: 64\n"
     ]
    },
    {
     "data": {
      "text/plain": [
       "64"
      ]
     },
     "execution_count": 117,
     "metadata": {},
     "output_type": "execute_result"
    }
   ],
   "source": [
    "@document_it\n",
    "@square_it\n",
    "def add_ints(a,b):\n",
    "    return a+b\n",
    "add_ints(3,5)"
   ]
  },
  {
   "cell_type": "code",
   "execution_count": 118,
   "id": "bee0aef0",
   "metadata": {},
   "outputs": [
    {
     "name": "stdout",
     "output_type": "stream",
     "text": [
      "Running function: add_ints\n",
      "Positional arguments: (3, 5)\n",
      "Keyword arguments: {}\n",
      "Result: 8\n"
     ]
    },
    {
     "data": {
      "text/plain": [
       "64"
      ]
     },
     "execution_count": 118,
     "metadata": {},
     "output_type": "execute_result"
    }
   ],
   "source": [
    "@square_it\n",
    "@document_it\n",
    "def add_ints(a,b):\n",
    "    return a+b\n",
    "add_ints(3,5)"
   ]
  },
  {
   "cell_type": "code",
   "execution_count": 120,
   "id": "e3f123d0",
   "metadata": {},
   "outputs": [
    {
     "name": "stdout",
     "output_type": "stream",
     "text": [
      "at the top level: fruitbat\n",
      "inside print_global: fruitbat\n"
     ]
    }
   ],
   "source": [
    "animal = 'fruitbat'\n",
    "def print_global():\n",
    "    print('inside print_global:', animal)\n",
    "print('at the top level:', animal)\n",
    "print_global()"
   ]
  },
  {
   "cell_type": "code",
   "execution_count": 122,
   "id": "f2800573",
   "metadata": {},
   "outputs": [
    {
     "ename": "UnboundLocalError",
     "evalue": "local variable 'animal' referenced before assignment",
     "output_type": "error",
     "traceback": [
      "\u001b[1;31m---------------------------------------------------------------------------\u001b[0m",
      "\u001b[1;31mUnboundLocalError\u001b[0m                         Traceback (most recent call last)",
      "\u001b[1;32m<ipython-input-122-01b3c117a2d4>\u001b[0m in \u001b[0;36m<module>\u001b[1;34m\u001b[0m\n\u001b[0;32m      3\u001b[0m     \u001b[0manimal\u001b[0m \u001b[1;33m=\u001b[0m \u001b[1;34m'wombat'\u001b[0m\u001b[1;33m\u001b[0m\u001b[1;33m\u001b[0m\u001b[0m\n\u001b[0;32m      4\u001b[0m     \u001b[0mprint\u001b[0m\u001b[1;33m(\u001b[0m\u001b[1;34m'after the change:'\u001b[0m\u001b[1;33m,\u001b[0m\u001b[0manimal\u001b[0m\u001b[1;33m)\u001b[0m\u001b[1;33m\u001b[0m\u001b[1;33m\u001b[0m\u001b[0m\n\u001b[1;32m----> 5\u001b[1;33m \u001b[0mchange_and_print_global\u001b[0m\u001b[1;33m(\u001b[0m\u001b[1;33m)\u001b[0m\u001b[1;33m\u001b[0m\u001b[1;33m\u001b[0m\u001b[0m\n\u001b[0m",
      "\u001b[1;32m<ipython-input-122-01b3c117a2d4>\u001b[0m in \u001b[0;36mchange_and_print_global\u001b[1;34m()\u001b[0m\n\u001b[0;32m      1\u001b[0m \u001b[1;32mdef\u001b[0m \u001b[0mchange_and_print_global\u001b[0m\u001b[1;33m(\u001b[0m\u001b[1;33m)\u001b[0m\u001b[1;33m:\u001b[0m\u001b[1;33m\u001b[0m\u001b[1;33m\u001b[0m\u001b[0m\n\u001b[1;32m----> 2\u001b[1;33m     \u001b[0mprint\u001b[0m\u001b[1;33m(\u001b[0m\u001b[1;34m'inside change_and_print_global:'\u001b[0m\u001b[1;33m,\u001b[0m \u001b[0manimal\u001b[0m\u001b[1;33m)\u001b[0m\u001b[1;33m\u001b[0m\u001b[1;33m\u001b[0m\u001b[0m\n\u001b[0m\u001b[0;32m      3\u001b[0m     \u001b[0manimal\u001b[0m \u001b[1;33m=\u001b[0m \u001b[1;34m'wombat'\u001b[0m\u001b[1;33m\u001b[0m\u001b[1;33m\u001b[0m\u001b[0m\n\u001b[0;32m      4\u001b[0m     \u001b[0mprint\u001b[0m\u001b[1;33m(\u001b[0m\u001b[1;34m'after the change:'\u001b[0m\u001b[1;33m,\u001b[0m\u001b[0manimal\u001b[0m\u001b[1;33m)\u001b[0m\u001b[1;33m\u001b[0m\u001b[1;33m\u001b[0m\u001b[0m\n\u001b[0;32m      5\u001b[0m \u001b[0mchange_and_print_global\u001b[0m\u001b[1;33m(\u001b[0m\u001b[1;33m)\u001b[0m\u001b[1;33m\u001b[0m\u001b[1;33m\u001b[0m\u001b[0m\n",
      "\u001b[1;31mUnboundLocalError\u001b[0m: local variable 'animal' referenced before assignment"
     ]
    }
   ],
   "source": [
    "def change_and_print_global():\n",
    "    print('inside change_and_print_global:', animal)\n",
    "    animal = 'wombat'\n",
    "    print('after the change:',animal)\n",
    "change_and_print_global()"
   ]
  },
  {
   "cell_type": "code",
   "execution_count": 123,
   "id": "faa66f3b",
   "metadata": {},
   "outputs": [
    {
     "name": "stdout",
     "output_type": "stream",
     "text": [
      "inside change_local: wombat 3046792566576\n"
     ]
    }
   ],
   "source": [
    "def change_local():\n",
    "    animal = 'wombat'\n",
    "    print('inside change_local:', animal, id(animal))\n",
    "change_local()"
   ]
  },
  {
   "cell_type": "code",
   "execution_count": 124,
   "id": "4bf010c5",
   "metadata": {},
   "outputs": [
    {
     "data": {
      "text/plain": [
       "3046791551600"
      ]
     },
     "execution_count": 124,
     "metadata": {},
     "output_type": "execute_result"
    }
   ],
   "source": [
    "animal\n",
    "id(animal)"
   ]
  },
  {
   "cell_type": "code",
   "execution_count": 125,
   "id": "b2df4eb2",
   "metadata": {},
   "outputs": [
    {
     "name": "stdout",
     "output_type": "stream",
     "text": [
      "fruitbat\n",
      "after the change: wombat\n",
      "wombat\n"
     ]
    }
   ],
   "source": [
    "animal='fruitbat'\n",
    "def change_and_print_global():\n",
    "    global animal\n",
    "    animal = 'wombat'\n",
    "    print('after the change:', animal)\n",
    "print(animal)\n",
    "change_and_print_global()\n",
    "print(animal)"
   ]
  },
  {
   "cell_type": "code",
   "execution_count": 128,
   "id": "b7746857",
   "metadata": {},
   "outputs": [
    {
     "name": "stdout",
     "output_type": "stream",
     "text": [
      "fruitbat\n",
      "locals: {'animal': 'wombat'}\n",
      "None\n"
     ]
    },
    {
     "data": {
      "text/plain": [
       "('globals:',\n",
       " {'__name__': '__main__',\n",
       "  '__doc__': 'Automatically created module for IPython interactive environment',\n",
       "  '__package__': None,\n",
       "  '__loader__': None,\n",
       "  '__spec__': None,\n",
       "  '__builtin__': <module 'builtins' (built-in)>,\n",
       "  '__builtins__': <module 'builtins' (built-in)>,\n",
       "  '_ih': ['',\n",
       "   '#함수 정의\\ndef do_nothing():\\n    pass # 함수가 아무것도 하지 않는다는 것을 의미',\n",
       "   'do_nothing()',\n",
       "   \"def make_a_sound():\\n    print('quack')\\n    \\nmake_a_sound()\",\n",
       "   'def agree():\\n    return False\\n\\nagree()',\n",
       "   \"# 조건에 따른 값 반환\\nif agree():\\n    print('Splendid')\\nelse:\\n    print('That was unexpected.')\",\n",
       "   \"def echo(anything):\\n    return anything + ' ' + anything\",\n",
       "   \"echo('Rumplestiltskin')\",\n",
       "   'def commentary(color):\\n    if color == \\'red\\':\\n        return \"It\\'s a tomato.\"\\n    elif color == \\'green\\':\\n        return \"It\\'s a green pepper.\"\\n    elif color == \\'bee purple\\':\\n        return \"I don\\'t know waht it is, but only bees can see it.\"\\n    else:\\n        return \"I\\'ve never heard of the color \"+color+\".\"',\n",
       "   \"comment = commentary('blue')\\nprint(comment)\",\n",
       "   '# None\\nprint(do_nothing())',\n",
       "   'thing = None\\nif thing:\\n    print(\"It\\'s some thing\")\\nelse:\\n    print(\"It\\'s no thing\")',\n",
       "   'thing = None\\nif thing is None:\\n    print(\"It\\'s nothing\")\\nelse:\\n    print(\"It\\'s something\")',\n",
       "   'def whatis(thing):\\n    if thing is None:\\n        print(thing, \"is None\")\\n    elif thing:\\n        print(thing, \"is True\")\\n    else:\\n        print(thing, \"is False\")',\n",
       "   'whatis(None)\\nwhatis(True)\\nwhatis(False)',\n",
       "   \"# 위치인수\\n# 위치인수로 딕셔너리를 만들어서 반환하는 함수\\ndef menu(wine, entree, dessert):\\n    return {'wine':wine, 'entree':entree, 'dessert':dessert}\\n\\nmenu('chardonnay','chicken','cake')\",\n",
       "   \"menu(entree='beef', dessert='bagel',wine='bordeaux')\",\n",
       "   \"menu('frontenac', dessert='flan', entree='fish')\",\n",
       "   \"def menu(wine, entree, dessert='pudding'):\\n    return {'wine':wine, 'entree':entree, 'dessert':dessert}\",\n",
       "   \"menu('chardonnay', 'chicken')\",\n",
       "   \"menu('dunkelfelder', 'duck', 'doughnut')\",\n",
       "   'def buggy(arg, result=[]): # arg는 일반 매개변수\\n    result.append(arg)\\n    print(result)',\n",
       "   \"buggy('a')\",\n",
       "   \"buggy('b')\",\n",
       "   \"def work(arg):\\n    result=[]\\n    result.append(arg)\\n    return result\\nwork('a')\",\n",
       "   \"work('b')\",\n",
       "   '# 첫 번째 인수 호출을 가리키기 위해 매개변수에 다른 값을 넣어서 수정할 수 있다.\\ndef nonbuggy(arg, result=None):\\n    if result is None:\\n        result=[]\\n    result.append(arg)\\n    print(result)',\n",
       "   \"nonbuggy('a')\",\n",
       "   \"nonbuggy('b')\",\n",
       "   \"# 인수의 *\\ndef print_args(*args):\\n    print('Positional tuple:', args)\",\n",
       "   'print_args()',\n",
       "   \"print_args(3,2,1,'wait!','uh...')\",\n",
       "   \"def print_more(required1, required2, *args):\\n    print('Need this one:', required1)\\n    print('Need this one. too:', required2)\\n    print('All the rest:' args)\",\n",
       "   \"def print_more(required1, required2, *args):\\n    print('Need this one:', required1)\\n    print('Need this one. too:', required2)\\n    print('All the rest:' args)\",\n",
       "   \"def print_more(required1, required2, *args):\\n    print('Need this one:', required1)\\n    print('Need this one. too:', required2)\\n    print('All the rest:', args)\",\n",
       "   \"print_more('cap', 'gloves','scarf','moncle','mustache wax')\",\n",
       "   \"print_args(2,5,7,'x')\",\n",
       "   \"args = (2,5,7,'x')\\nprint(args)\",\n",
       "   \"args = (2,5,7,'x')\\nprint_args(args)\",\n",
       "   'print_args(*args)',\n",
       "   \"def print_kwargs(**kwargs):\\n    print('Keyword arguments:', kwargs)\",\n",
       "   'print_kwargs()',\n",
       "   \"print_kwargs(wine='merlot', entree='mutton',dessert='macaroon')\",\n",
       "   'def print_data(data, *, start=0, end=100):\\n    for value in (data[start:end]):\\n        print(value)',\n",
       "   \"data = ['a','b','c','d','e','f']\\nprint_data(data)\",\n",
       "   'print_data(data, start=4)',\n",
       "   'print_data(data, end=2)',\n",
       "   'def print_data(data, start=0, end=100):\\n    for value in (data[start:end]):\\n        print(value)',\n",
       "   \"data = ['a','b','c','d','e','f']\\nprint_data(data)\",\n",
       "   'print_data(data, start=4)',\n",
       "   'print_data(data, end=2)',\n",
       "   \"outside=['one','fine','day']\\ndef mangle(arg):\\n    arg[1]='terrible!'\\noutside\",\n",
       "   'mangle(outside)\\noutside',\n",
       "   \"def echo(anything):\\n    'echo returns its input argument'\\n    return anything\",\n",
       "   'help(echo)',\n",
       "   'help(anything)',\n",
       "   'help(echo)',\n",
       "   'echo(anything)',\n",
       "   'echo(anything)',\n",
       "   \"def print_if_true(thing, check):\\n    '''\\n    prints the first argument if a second argument is true.\\n    The operation is:\\n        1. Check hether the *second* argument is true.\\n        2. If it is, print the *first* argument.\\n    '''\\n    if check:\\n        print(thing)\",\n",
       "   'print(echo.__doc__)',\n",
       "   'def answer():\\n    print(42)\\nanswer()',\n",
       "   'run_something(answer)',\n",
       "   'run_something(answer)',\n",
       "   'def run_something(func):\\n    func()',\n",
       "   'run_something(answer)',\n",
       "   'type(run_something)',\n",
       "   'def add_args(arg1, arg2):\\n    print(arg1+arg2)',\n",
       "   'def add_args(arg1, arg2):\\n    print(arg1+arg2)\\nadd_args(1,2)',\n",
       "   'def run_something_with_args(func, arg1, arg2):\\n    func(arg1, arg2)',\n",
       "   'run_something_with_args(add_args, 5, 9)',\n",
       "   'def sum_args(*args):\\n    return sum(args) # 파이썬 내장함수',\n",
       "   'def run_with_positional_args(func, *args):\\n    return func(*args)',\n",
       "   'run_with_positional_args(sum_args, 1,2,3,4)',\n",
       "   'def outer(a,b):\\n    def inner(c,d):\\n        return c+d\\n    return inner(a,b)\\nouter(4,7)',\n",
       "   'def knights(saying):\\n    def inner(quote):\\n        return \"We are the knights who say: \\'%s\\'\" % quote\\n    return inner(saying)\\nknights(\\'Ni!\\')',\n",
       "   'def knights2(saying):\\n    def inner2():\\n        return \"We are the knights who say:  \\'%s\\'\" % saying\\n    return inner2',\n",
       "   \"a=knights2('Duck')\\nb=knights2('Hasenpfeffer')\\nprint(type(a))\\nprint(type(b))\",\n",
       "   'print(a)\\nprint(b)',\n",
       "   'print(a())\\nprint(b())',\n",
       "   '#람다함수\\ndef edit_story(words, func):\\n    for word in words:\\n        print(func(word))',\n",
       "   \"stairs=['thud','meow','thud','hiss']\",\n",
       "   \"def enliven(word): #첫 글자를 대문자로 만들고 느낌표 붙이기\\n    return word.capitalize() + '!'\",\n",
       "   'edit_story(stairs, enliven)',\n",
       "   \"edit_story(stairs, lambda word: word.capitalize()+ '!')\",\n",
       "   'sum(range(1, 100))',\n",
       "   'sum(range(1, 101))',\n",
       "   '#제너레이터 함수\\ndef my_range(first=0, last=10, step=1):\\n    number = first\\n    while number < last:\\n        yield number\\n        number+=step\\nmy_range',\n",
       "   '#제너레이터 함수\\ndef my_range(first=0, last=10, step=1):\\n    number = first\\n    while number < last:\\n        yield number\\n        number+=step\\nranger = my_range(1,5)\\nranger',\n",
       "   '#제너레이터 함수\\ndef my_range(first=0, last=10, step=1):\\n    number = first\\n    while number < last:\\n        yield number\\n        number+=step\\nranger = my_range(1,5)\\nfor x in ranger:\\n    print(x)',\n",
       "   'for try_again in ranger:\\n    print(try_again)',\n",
       "   \"genobj = (pair for pair in zip(['a','b'],['1','2']))\\ngenobj\\nfor thing in genobj:\\n    print(thing)\",\n",
       "   'def square_numbers(nums):\\n    result = []\\n    for i in nums:\\n        result.append(i * i)\\n    return result\\nnums=[1,2,3,4,5]\\nsquare_numbers(nums)',\n",
       "   'def square_numbers(nums):\\n    for i in nums:\\n        result.append(i*i)',\n",
       "   'def square_numbers1(nums):\\n    for i in nums:\\n        result.append(i*i)',\n",
       "   'nums=[1,2,3,4,5]\\nsquare_numbers1(nums)',\n",
       "   'def square_numbers1(nums):\\n    for i in nums:\\n        i*i',\n",
       "   'nums=[1,2,3,4,5]\\nsquare_numbers1(nums)',\n",
       "   'nums=[1,2,3,4,5]\\nsquare_numbers1(nums)',\n",
       "   'def square_numbers1(nums):\\n    for i in nums:\\n        print(i*i)',\n",
       "   'nums=[1,2,3,4,5]\\nsquare_numbers1(nums)',\n",
       "   'def square_numbers1(nums):\\n    for i in nums:\\n        print(list(i*i))',\n",
       "   'nums=[1,2,3,4,5]\\nsquare_numbers1(nums)',\n",
       "   'def square_numbers1(nums):\\n    for i in nums:\\n        print(i*i)',\n",
       "   'nums=[1,2,3,4,5]\\nsquare_numbers1(nums)',\n",
       "   'def square_numbers1(nums):\\n    for i in nums:\\n        a=i*i\\n        print(a)',\n",
       "   'nums=[1,2,3,4,5]\\nsquare_numbers1(nums)',\n",
       "   'def square_numbers1(nums):\\n    for i in nums:\\n        a=i*i\\n        list(a)',\n",
       "   'nums=[1,2,3,4,5]\\nsquare_numbers1(nums)',\n",
       "   'def square_numbers1(nums):\\n    for i in nums:\\n        i*i',\n",
       "   'nums=[1,2,3,4,5]\\nsquare_numbers1(nums)',\n",
       "   \"def document_it(func):\\n    def new_function(*args, **kwargs):\\n        print('Running function:', func.__name__)\\n        print('Positional arguments:', args)\\n        print('Keyword arguments:', kwargs)\\n        result = func(*args, **kwargs)\\n        print('Result:', result)\\n        return result\\n    return new_function\",\n",
       "   'def add_ints(a,b):\\n    return a+b\\nadd_ints(3,5)',\n",
       "   'cooler_add_ints=document_it(add_ints) # 데커레이터 수동 할당\\ncooler_Add_ints(3,5)',\n",
       "   'cooler_add_ints=document_it(add_ints) # 데커레이터 수동 할당\\ncooler_add_ints(3,5)',\n",
       "   '@document_it\\ndef add_ints(a,b):\\n    return a+b\\nadd_ints(3,5)',\n",
       "   'def square_it(func):\\n    def new_function(*args, **kwargs):\\n        result=func(*args, **kwargs)\\n        return result*result\\n    return new_function',\n",
       "   '@document_it\\n@square_it\\ndef add_ints(a,b):\\n    return a+b\\nadd_ints(3,5)',\n",
       "   '@square_it\\n@document_it\\ndef add_ints(a,b):\\n    return a+b\\nadd_ints(3,5)',\n",
       "   \"animal = 'fruitbat'\\ndef print_global():\\n    print('inside print_global:', animal)\\nprint('at the top level:', animal)\",\n",
       "   \"animal = 'fruitbat'\\ndef print_global():\\n    print('inside print_global:', animal)\\nprint('at the top level:', animal)\\nprint_global()\",\n",
       "   \"def change_and_print_global():\\n    print('inside change_and_print_global:', animal).\\n    animal = 'wombat'\\n    print('after the change:',animal)\\nchange_and_print_global()\",\n",
       "   \"def change_and_print_global():\\n    print('inside change_and_print_global:', animal)\\n    animal = 'wombat'\\n    print('after the change:',animal)\\nchange_and_print_global()\",\n",
       "   \"def change_local():\\n    animal = 'wombat'\\n    print('inside change_local:', animal, id(animal))\\nchange_local()\",\n",
       "   'animal\\nid(animal)',\n",
       "   \"animal='fruitbat'\\ndef change_and_print_global():\\n    global animal\\n    animal = 'wombat'\\n    print('after the change:', animal)\\nprint(animal)\\nchange_and_print_global()\\nprint(animal)\",\n",
       "   \"animal='fruitbat'\\ndef change_local():\\n    animal='wombat'\\n    print('locals:', locals())\\nprint(animal)\\nchange_local()\\nprint('globals:', globals())\",\n",
       "   \"animal='fruitbat'\\ndef change_local():\\n    animal='wombat'\\n    print('locals:', locals())\\nprint(animal)\\nprint(change_local())\\nprint('globals:', globals())\",\n",
       "   \"animal='fruitbat'\\ndef change_local():\\n    animal='wombat'\\n    print('locals:', locals())\\nprint(animal)\\nprint(change_local())\\n'globals:', globals()\"],\n",
       "  '_oh': {4: False,\n",
       "   7: 'Rumplestiltskin Rumplestiltskin',\n",
       "   15: {'wine': 'chardonnay', 'entree': 'chicken', 'dessert': 'cake'},\n",
       "   16: {'wine': 'bordeaux', 'entree': 'beef', 'dessert': 'bagel'},\n",
       "   17: {'wine': 'frontenac', 'entree': 'fish', 'dessert': 'flan'},\n",
       "   19: {'wine': 'chardonnay', 'entree': 'chicken', 'dessert': 'pudding'},\n",
       "   20: {'wine': 'dunkelfelder', 'entree': 'duck', 'dessert': 'doughnut'},\n",
       "   24: ['a'],\n",
       "   25: ['b'],\n",
       "   51: ['one', 'terrible!', 'day'],\n",
       "   52: ['one', 'terrible!', 'day'],\n",
       "   66: function,\n",
       "   73: 10,\n",
       "   74: 11,\n",
       "   75: \"We are the knights who say: 'Ni!'\",\n",
       "   85: 4950,\n",
       "   86: 5050,\n",
       "   87: <function __main__.my_range(first=0, last=10, step=1)>,\n",
       "   88: <generator object my_range at 0x000002C562FC9DC8>,\n",
       "   92: [1, 4, 9, 16, 25],\n",
       "   112: 8,\n",
       "   114: 8,\n",
       "   115: 8,\n",
       "   117: 64,\n",
       "   118: 64,\n",
       "   124: 3046791551600},\n",
       "  '_dh': ['D:\\\\python_review2'],\n",
       "  'In': ['',\n",
       "   '#함수 정의\\ndef do_nothing():\\n    pass # 함수가 아무것도 하지 않는다는 것을 의미',\n",
       "   'do_nothing()',\n",
       "   \"def make_a_sound():\\n    print('quack')\\n    \\nmake_a_sound()\",\n",
       "   'def agree():\\n    return False\\n\\nagree()',\n",
       "   \"# 조건에 따른 값 반환\\nif agree():\\n    print('Splendid')\\nelse:\\n    print('That was unexpected.')\",\n",
       "   \"def echo(anything):\\n    return anything + ' ' + anything\",\n",
       "   \"echo('Rumplestiltskin')\",\n",
       "   'def commentary(color):\\n    if color == \\'red\\':\\n        return \"It\\'s a tomato.\"\\n    elif color == \\'green\\':\\n        return \"It\\'s a green pepper.\"\\n    elif color == \\'bee purple\\':\\n        return \"I don\\'t know waht it is, but only bees can see it.\"\\n    else:\\n        return \"I\\'ve never heard of the color \"+color+\".\"',\n",
       "   \"comment = commentary('blue')\\nprint(comment)\",\n",
       "   '# None\\nprint(do_nothing())',\n",
       "   'thing = None\\nif thing:\\n    print(\"It\\'s some thing\")\\nelse:\\n    print(\"It\\'s no thing\")',\n",
       "   'thing = None\\nif thing is None:\\n    print(\"It\\'s nothing\")\\nelse:\\n    print(\"It\\'s something\")',\n",
       "   'def whatis(thing):\\n    if thing is None:\\n        print(thing, \"is None\")\\n    elif thing:\\n        print(thing, \"is True\")\\n    else:\\n        print(thing, \"is False\")',\n",
       "   'whatis(None)\\nwhatis(True)\\nwhatis(False)',\n",
       "   \"# 위치인수\\n# 위치인수로 딕셔너리를 만들어서 반환하는 함수\\ndef menu(wine, entree, dessert):\\n    return {'wine':wine, 'entree':entree, 'dessert':dessert}\\n\\nmenu('chardonnay','chicken','cake')\",\n",
       "   \"menu(entree='beef', dessert='bagel',wine='bordeaux')\",\n",
       "   \"menu('frontenac', dessert='flan', entree='fish')\",\n",
       "   \"def menu(wine, entree, dessert='pudding'):\\n    return {'wine':wine, 'entree':entree, 'dessert':dessert}\",\n",
       "   \"menu('chardonnay', 'chicken')\",\n",
       "   \"menu('dunkelfelder', 'duck', 'doughnut')\",\n",
       "   'def buggy(arg, result=[]): # arg는 일반 매개변수\\n    result.append(arg)\\n    print(result)',\n",
       "   \"buggy('a')\",\n",
       "   \"buggy('b')\",\n",
       "   \"def work(arg):\\n    result=[]\\n    result.append(arg)\\n    return result\\nwork('a')\",\n",
       "   \"work('b')\",\n",
       "   '# 첫 번째 인수 호출을 가리키기 위해 매개변수에 다른 값을 넣어서 수정할 수 있다.\\ndef nonbuggy(arg, result=None):\\n    if result is None:\\n        result=[]\\n    result.append(arg)\\n    print(result)',\n",
       "   \"nonbuggy('a')\",\n",
       "   \"nonbuggy('b')\",\n",
       "   \"# 인수의 *\\ndef print_args(*args):\\n    print('Positional tuple:', args)\",\n",
       "   'print_args()',\n",
       "   \"print_args(3,2,1,'wait!','uh...')\",\n",
       "   \"def print_more(required1, required2, *args):\\n    print('Need this one:', required1)\\n    print('Need this one. too:', required2)\\n    print('All the rest:' args)\",\n",
       "   \"def print_more(required1, required2, *args):\\n    print('Need this one:', required1)\\n    print('Need this one. too:', required2)\\n    print('All the rest:' args)\",\n",
       "   \"def print_more(required1, required2, *args):\\n    print('Need this one:', required1)\\n    print('Need this one. too:', required2)\\n    print('All the rest:', args)\",\n",
       "   \"print_more('cap', 'gloves','scarf','moncle','mustache wax')\",\n",
       "   \"print_args(2,5,7,'x')\",\n",
       "   \"args = (2,5,7,'x')\\nprint(args)\",\n",
       "   \"args = (2,5,7,'x')\\nprint_args(args)\",\n",
       "   'print_args(*args)',\n",
       "   \"def print_kwargs(**kwargs):\\n    print('Keyword arguments:', kwargs)\",\n",
       "   'print_kwargs()',\n",
       "   \"print_kwargs(wine='merlot', entree='mutton',dessert='macaroon')\",\n",
       "   'def print_data(data, *, start=0, end=100):\\n    for value in (data[start:end]):\\n        print(value)',\n",
       "   \"data = ['a','b','c','d','e','f']\\nprint_data(data)\",\n",
       "   'print_data(data, start=4)',\n",
       "   'print_data(data, end=2)',\n",
       "   'def print_data(data, start=0, end=100):\\n    for value in (data[start:end]):\\n        print(value)',\n",
       "   \"data = ['a','b','c','d','e','f']\\nprint_data(data)\",\n",
       "   'print_data(data, start=4)',\n",
       "   'print_data(data, end=2)',\n",
       "   \"outside=['one','fine','day']\\ndef mangle(arg):\\n    arg[1]='terrible!'\\noutside\",\n",
       "   'mangle(outside)\\noutside',\n",
       "   \"def echo(anything):\\n    'echo returns its input argument'\\n    return anything\",\n",
       "   'help(echo)',\n",
       "   'help(anything)',\n",
       "   'help(echo)',\n",
       "   'echo(anything)',\n",
       "   'echo(anything)',\n",
       "   \"def print_if_true(thing, check):\\n    '''\\n    prints the first argument if a second argument is true.\\n    The operation is:\\n        1. Check hether the *second* argument is true.\\n        2. If it is, print the *first* argument.\\n    '''\\n    if check:\\n        print(thing)\",\n",
       "   'print(echo.__doc__)',\n",
       "   'def answer():\\n    print(42)\\nanswer()',\n",
       "   'run_something(answer)',\n",
       "   'run_something(answer)',\n",
       "   'def run_something(func):\\n    func()',\n",
       "   'run_something(answer)',\n",
       "   'type(run_something)',\n",
       "   'def add_args(arg1, arg2):\\n    print(arg1+arg2)',\n",
       "   'def add_args(arg1, arg2):\\n    print(arg1+arg2)\\nadd_args(1,2)',\n",
       "   'def run_something_with_args(func, arg1, arg2):\\n    func(arg1, arg2)',\n",
       "   'run_something_with_args(add_args, 5, 9)',\n",
       "   'def sum_args(*args):\\n    return sum(args) # 파이썬 내장함수',\n",
       "   'def run_with_positional_args(func, *args):\\n    return func(*args)',\n",
       "   'run_with_positional_args(sum_args, 1,2,3,4)',\n",
       "   'def outer(a,b):\\n    def inner(c,d):\\n        return c+d\\n    return inner(a,b)\\nouter(4,7)',\n",
       "   'def knights(saying):\\n    def inner(quote):\\n        return \"We are the knights who say: \\'%s\\'\" % quote\\n    return inner(saying)\\nknights(\\'Ni!\\')',\n",
       "   'def knights2(saying):\\n    def inner2():\\n        return \"We are the knights who say:  \\'%s\\'\" % saying\\n    return inner2',\n",
       "   \"a=knights2('Duck')\\nb=knights2('Hasenpfeffer')\\nprint(type(a))\\nprint(type(b))\",\n",
       "   'print(a)\\nprint(b)',\n",
       "   'print(a())\\nprint(b())',\n",
       "   '#람다함수\\ndef edit_story(words, func):\\n    for word in words:\\n        print(func(word))',\n",
       "   \"stairs=['thud','meow','thud','hiss']\",\n",
       "   \"def enliven(word): #첫 글자를 대문자로 만들고 느낌표 붙이기\\n    return word.capitalize() + '!'\",\n",
       "   'edit_story(stairs, enliven)',\n",
       "   \"edit_story(stairs, lambda word: word.capitalize()+ '!')\",\n",
       "   'sum(range(1, 100))',\n",
       "   'sum(range(1, 101))',\n",
       "   '#제너레이터 함수\\ndef my_range(first=0, last=10, step=1):\\n    number = first\\n    while number < last:\\n        yield number\\n        number+=step\\nmy_range',\n",
       "   '#제너레이터 함수\\ndef my_range(first=0, last=10, step=1):\\n    number = first\\n    while number < last:\\n        yield number\\n        number+=step\\nranger = my_range(1,5)\\nranger',\n",
       "   '#제너레이터 함수\\ndef my_range(first=0, last=10, step=1):\\n    number = first\\n    while number < last:\\n        yield number\\n        number+=step\\nranger = my_range(1,5)\\nfor x in ranger:\\n    print(x)',\n",
       "   'for try_again in ranger:\\n    print(try_again)',\n",
       "   \"genobj = (pair for pair in zip(['a','b'],['1','2']))\\ngenobj\\nfor thing in genobj:\\n    print(thing)\",\n",
       "   'def square_numbers(nums):\\n    result = []\\n    for i in nums:\\n        result.append(i * i)\\n    return result\\nnums=[1,2,3,4,5]\\nsquare_numbers(nums)',\n",
       "   'def square_numbers(nums):\\n    for i in nums:\\n        result.append(i*i)',\n",
       "   'def square_numbers1(nums):\\n    for i in nums:\\n        result.append(i*i)',\n",
       "   'nums=[1,2,3,4,5]\\nsquare_numbers1(nums)',\n",
       "   'def square_numbers1(nums):\\n    for i in nums:\\n        i*i',\n",
       "   'nums=[1,2,3,4,5]\\nsquare_numbers1(nums)',\n",
       "   'nums=[1,2,3,4,5]\\nsquare_numbers1(nums)',\n",
       "   'def square_numbers1(nums):\\n    for i in nums:\\n        print(i*i)',\n",
       "   'nums=[1,2,3,4,5]\\nsquare_numbers1(nums)',\n",
       "   'def square_numbers1(nums):\\n    for i in nums:\\n        print(list(i*i))',\n",
       "   'nums=[1,2,3,4,5]\\nsquare_numbers1(nums)',\n",
       "   'def square_numbers1(nums):\\n    for i in nums:\\n        print(i*i)',\n",
       "   'nums=[1,2,3,4,5]\\nsquare_numbers1(nums)',\n",
       "   'def square_numbers1(nums):\\n    for i in nums:\\n        a=i*i\\n        print(a)',\n",
       "   'nums=[1,2,3,4,5]\\nsquare_numbers1(nums)',\n",
       "   'def square_numbers1(nums):\\n    for i in nums:\\n        a=i*i\\n        list(a)',\n",
       "   'nums=[1,2,3,4,5]\\nsquare_numbers1(nums)',\n",
       "   'def square_numbers1(nums):\\n    for i in nums:\\n        i*i',\n",
       "   'nums=[1,2,3,4,5]\\nsquare_numbers1(nums)',\n",
       "   \"def document_it(func):\\n    def new_function(*args, **kwargs):\\n        print('Running function:', func.__name__)\\n        print('Positional arguments:', args)\\n        print('Keyword arguments:', kwargs)\\n        result = func(*args, **kwargs)\\n        print('Result:', result)\\n        return result\\n    return new_function\",\n",
       "   'def add_ints(a,b):\\n    return a+b\\nadd_ints(3,5)',\n",
       "   'cooler_add_ints=document_it(add_ints) # 데커레이터 수동 할당\\ncooler_Add_ints(3,5)',\n",
       "   'cooler_add_ints=document_it(add_ints) # 데커레이터 수동 할당\\ncooler_add_ints(3,5)',\n",
       "   '@document_it\\ndef add_ints(a,b):\\n    return a+b\\nadd_ints(3,5)',\n",
       "   'def square_it(func):\\n    def new_function(*args, **kwargs):\\n        result=func(*args, **kwargs)\\n        return result*result\\n    return new_function',\n",
       "   '@document_it\\n@square_it\\ndef add_ints(a,b):\\n    return a+b\\nadd_ints(3,5)',\n",
       "   '@square_it\\n@document_it\\ndef add_ints(a,b):\\n    return a+b\\nadd_ints(3,5)',\n",
       "   \"animal = 'fruitbat'\\ndef print_global():\\n    print('inside print_global:', animal)\\nprint('at the top level:', animal)\",\n",
       "   \"animal = 'fruitbat'\\ndef print_global():\\n    print('inside print_global:', animal)\\nprint('at the top level:', animal)\\nprint_global()\",\n",
       "   \"def change_and_print_global():\\n    print('inside change_and_print_global:', animal).\\n    animal = 'wombat'\\n    print('after the change:',animal)\\nchange_and_print_global()\",\n",
       "   \"def change_and_print_global():\\n    print('inside change_and_print_global:', animal)\\n    animal = 'wombat'\\n    print('after the change:',animal)\\nchange_and_print_global()\",\n",
       "   \"def change_local():\\n    animal = 'wombat'\\n    print('inside change_local:', animal, id(animal))\\nchange_local()\",\n",
       "   'animal\\nid(animal)',\n",
       "   \"animal='fruitbat'\\ndef change_and_print_global():\\n    global animal\\n    animal = 'wombat'\\n    print('after the change:', animal)\\nprint(animal)\\nchange_and_print_global()\\nprint(animal)\",\n",
       "   \"animal='fruitbat'\\ndef change_local():\\n    animal='wombat'\\n    print('locals:', locals())\\nprint(animal)\\nchange_local()\\nprint('globals:', globals())\",\n",
       "   \"animal='fruitbat'\\ndef change_local():\\n    animal='wombat'\\n    print('locals:', locals())\\nprint(animal)\\nprint(change_local())\\nprint('globals:', globals())\",\n",
       "   \"animal='fruitbat'\\ndef change_local():\\n    animal='wombat'\\n    print('locals:', locals())\\nprint(animal)\\nprint(change_local())\\n'globals:', globals()\"],\n",
       "  'Out': {4: False,\n",
       "   7: 'Rumplestiltskin Rumplestiltskin',\n",
       "   15: {'wine': 'chardonnay', 'entree': 'chicken', 'dessert': 'cake'},\n",
       "   16: {'wine': 'bordeaux', 'entree': 'beef', 'dessert': 'bagel'},\n",
       "   17: {'wine': 'frontenac', 'entree': 'fish', 'dessert': 'flan'},\n",
       "   19: {'wine': 'chardonnay', 'entree': 'chicken', 'dessert': 'pudding'},\n",
       "   20: {'wine': 'dunkelfelder', 'entree': 'duck', 'dessert': 'doughnut'},\n",
       "   24: ['a'],\n",
       "   25: ['b'],\n",
       "   51: ['one', 'terrible!', 'day'],\n",
       "   52: ['one', 'terrible!', 'day'],\n",
       "   66: function,\n",
       "   73: 10,\n",
       "   74: 11,\n",
       "   75: \"We are the knights who say: 'Ni!'\",\n",
       "   85: 4950,\n",
       "   86: 5050,\n",
       "   87: <function __main__.my_range(first=0, last=10, step=1)>,\n",
       "   88: <generator object my_range at 0x000002C562FC9DC8>,\n",
       "   92: [1, 4, 9, 16, 25],\n",
       "   112: 8,\n",
       "   114: 8,\n",
       "   115: 8,\n",
       "   117: 64,\n",
       "   118: 64,\n",
       "   124: 3046791551600},\n",
       "  'get_ipython': <bound method InteractiveShell.get_ipython of <ipykernel.zmqshell.ZMQInteractiveShell object at 0x000002C562E4AA88>>,\n",
       "  'exit': <IPython.core.autocall.ZMQExitAutocall at 0x2c562e1a788>,\n",
       "  'quit': <IPython.core.autocall.ZMQExitAutocall at 0x2c562e1a788>,\n",
       "  '_': 3046791551600,\n",
       "  '__': 64,\n",
       "  '___': 64,\n",
       "  '_i': \"animal='fruitbat'\\ndef change_local():\\n    animal='wombat'\\n    print('locals:', locals())\\nprint(animal)\\nprint(change_local())\\nprint('globals:', globals())\",\n",
       "  '_ii': \"animal='fruitbat'\\ndef change_local():\\n    animal='wombat'\\n    print('locals:', locals())\\nprint(animal)\\nchange_local()\\nprint('globals:', globals())\",\n",
       "  '_iii': \"animal='fruitbat'\\ndef change_and_print_global():\\n    global animal\\n    animal = 'wombat'\\n    print('after the change:', animal)\\nprint(animal)\\nchange_and_print_global()\\nprint(animal)\",\n",
       "  '_i1': '#함수 정의\\ndef do_nothing():\\n    pass # 함수가 아무것도 하지 않는다는 것을 의미',\n",
       "  'do_nothing': <function __main__.do_nothing()>,\n",
       "  '_i2': 'do_nothing()',\n",
       "  '_i3': \"def make_a_sound():\\n    print('quack')\\n    \\nmake_a_sound()\",\n",
       "  'make_a_sound': <function __main__.make_a_sound()>,\n",
       "  '_i4': 'def agree():\\n    return False\\n\\nagree()',\n",
       "  'agree': <function __main__.agree()>,\n",
       "  '_4': False,\n",
       "  '_i5': \"# 조건에 따른 값 반환\\nif agree():\\n    print('Splendid')\\nelse:\\n    print('That was unexpected.')\",\n",
       "  '_i6': \"def echo(anything):\\n    return anything + ' ' + anything\",\n",
       "  'echo': <function __main__.echo(anything)>,\n",
       "  '_i7': \"echo('Rumplestiltskin')\",\n",
       "  '_7': 'Rumplestiltskin Rumplestiltskin',\n",
       "  '_i8': 'def commentary(color):\\n    if color == \\'red\\':\\n        return \"It\\'s a tomato.\"\\n    elif color == \\'green\\':\\n        return \"It\\'s a green pepper.\"\\n    elif color == \\'bee purple\\':\\n        return \"I don\\'t know waht it is, but only bees can see it.\"\\n    else:\\n        return \"I\\'ve never heard of the color \"+color+\".\"',\n",
       "  'commentary': <function __main__.commentary(color)>,\n",
       "  '_i9': \"comment = commentary('blue')\\nprint(comment)\",\n",
       "  'comment': \"I've never heard of the color blue.\",\n",
       "  '_i10': '# None\\nprint(do_nothing())',\n",
       "  '_i11': 'thing = None\\nif thing:\\n    print(\"It\\'s some thing\")\\nelse:\\n    print(\"It\\'s no thing\")',\n",
       "  'thing': ('b', '2'),\n",
       "  '_i12': 'thing = None\\nif thing is None:\\n    print(\"It\\'s nothing\")\\nelse:\\n    print(\"It\\'s something\")',\n",
       "  '_i13': 'def whatis(thing):\\n    if thing is None:\\n        print(thing, \"is None\")\\n    elif thing:\\n        print(thing, \"is True\")\\n    else:\\n        print(thing, \"is False\")',\n",
       "  'whatis': <function __main__.whatis(thing)>,\n",
       "  '_i14': 'whatis(None)\\nwhatis(True)\\nwhatis(False)',\n",
       "  '_i15': \"# 위치인수\\n# 위치인수로 딕셔너리를 만들어서 반환하는 함수\\ndef menu(wine, entree, dessert):\\n    return {'wine':wine, 'entree':entree, 'dessert':dessert}\\n\\nmenu('chardonnay','chicken','cake')\",\n",
       "  'menu': <function __main__.menu(wine, entree, dessert='pudding')>,\n",
       "  '_15': {'wine': 'chardonnay', 'entree': 'chicken', 'dessert': 'cake'},\n",
       "  '_i16': \"menu(entree='beef', dessert='bagel',wine='bordeaux')\",\n",
       "  '_16': {'wine': 'bordeaux', 'entree': 'beef', 'dessert': 'bagel'},\n",
       "  '_i17': \"menu('frontenac', dessert='flan', entree='fish')\",\n",
       "  '_17': {'wine': 'frontenac', 'entree': 'fish', 'dessert': 'flan'},\n",
       "  '_i18': \"def menu(wine, entree, dessert='pudding'):\\n    return {'wine':wine, 'entree':entree, 'dessert':dessert}\",\n",
       "  '_i19': \"menu('chardonnay', 'chicken')\",\n",
       "  '_19': {'wine': 'chardonnay', 'entree': 'chicken', 'dessert': 'pudding'},\n",
       "  '_i20': \"menu('dunkelfelder', 'duck', 'doughnut')\",\n",
       "  '_20': {'wine': 'dunkelfelder', 'entree': 'duck', 'dessert': 'doughnut'},\n",
       "  '_i21': 'def buggy(arg, result=[]): # arg는 일반 매개변수\\n    result.append(arg)\\n    print(result)',\n",
       "  'buggy': <function __main__.buggy(arg, result=['a', 'b'])>,\n",
       "  '_i22': \"buggy('a')\",\n",
       "  '_i23': \"buggy('b')\",\n",
       "  '_i24': \"def work(arg):\\n    result=[]\\n    result.append(arg)\\n    return result\\nwork('a')\",\n",
       "  'work': <function __main__.work(arg)>,\n",
       "  '_24': ['a'],\n",
       "  '_i25': \"work('b')\",\n",
       "  '_25': ['b'],\n",
       "  '_i26': '# 첫 번째 인수 호출을 가리키기 위해 매개변수에 다른 값을 넣어서 수정할 수 있다.\\ndef nonbuggy(arg, result=None):\\n    if result is None:\\n        result=[]\\n    result.append(arg)\\n    print(result)',\n",
       "  'nonbuggy': <function __main__.nonbuggy(arg, result=None)>,\n",
       "  '_i27': \"nonbuggy('a')\",\n",
       "  '_i28': \"nonbuggy('b')\",\n",
       "  '_i29': \"# 인수의 *\\ndef print_args(*args):\\n    print('Positional tuple:', args)\",\n",
       "  'print_args': <function __main__.print_args(*args)>,\n",
       "  '_i30': 'print_args()',\n",
       "  '_i31': \"print_args(3,2,1,'wait!','uh...')\",\n",
       "  '_i32': \"def print_more(required1, required2, *args):\\n    print('Need this one:', required1)\\n    print('Need this one. too:', required2)\\n    print('All the rest:' args)\",\n",
       "  '_i33': \"def print_more(required1, required2, *args):\\n    print('Need this one:', required1)\\n    print('Need this one. too:', required2)\\n    print('All the rest:' args)\",\n",
       "  '_i34': \"def print_more(required1, required2, *args):\\n    print('Need this one:', required1)\\n    print('Need this one. too:', required2)\\n    print('All the rest:', args)\",\n",
       "  'print_more': <function __main__.print_more(required1, required2, *args)>,\n",
       "  '_i35': \"print_more('cap', 'gloves','scarf','moncle','mustache wax')\",\n",
       "  '_i36': \"print_args(2,5,7,'x')\",\n",
       "  '_i37': \"args = (2,5,7,'x')\\nprint(args)\",\n",
       "  'args': (2, 5, 7, 'x'),\n",
       "  '_i38': \"args = (2,5,7,'x')\\nprint_args(args)\",\n",
       "  '_i39': 'print_args(*args)',\n",
       "  '_i40': \"def print_kwargs(**kwargs):\\n    print('Keyword arguments:', kwargs)\",\n",
       "  'print_kwargs': <function __main__.print_kwargs(**kwargs)>,\n",
       "  '_i41': 'print_kwargs()',\n",
       "  '_i42': \"print_kwargs(wine='merlot', entree='mutton',dessert='macaroon')\",\n",
       "  '_i43': 'def print_data(data, *, start=0, end=100):\\n    for value in (data[start:end]):\\n        print(value)',\n",
       "  'print_data': <function __main__.print_data(data, start=0, end=100)>,\n",
       "  '_i44': \"data = ['a','b','c','d','e','f']\\nprint_data(data)\",\n",
       "  'data': ['a', 'b', 'c', 'd', 'e', 'f'],\n",
       "  '_i45': 'print_data(data, start=4)',\n",
       "  '_i46': 'print_data(data, end=2)',\n",
       "  '_i47': 'def print_data(data, start=0, end=100):\\n    for value in (data[start:end]):\\n        print(value)',\n",
       "  '_i48': \"data = ['a','b','c','d','e','f']\\nprint_data(data)\",\n",
       "  '_i49': 'print_data(data, start=4)',\n",
       "  '_i50': 'print_data(data, end=2)',\n",
       "  '_i51': \"outside=['one','fine','day']\\ndef mangle(arg):\\n    arg[1]='terrible!'\\noutside\",\n",
       "  'outside': ['one', 'terrible!', 'day'],\n",
       "  'mangle': <function __main__.mangle(arg)>,\n",
       "  '_51': ['one', 'terrible!', 'day'],\n",
       "  '_i52': 'mangle(outside)\\noutside',\n",
       "  '_52': ['one', 'terrible!', 'day'],\n",
       "  '_i53': \"def echo(anything):\\n    'echo returns its input argument'\\n    return anything\",\n",
       "  '_i54': 'help(echo)',\n",
       "  '_i55': 'help(anything)',\n",
       "  '_i56': 'help(echo)',\n",
       "  '_i57': 'echo(anything)',\n",
       "  '_i58': 'echo(anything)',\n",
       "  '_i59': \"def print_if_true(thing, check):\\n    '''\\n    prints the first argument if a second argument is true.\\n    The operation is:\\n        1. Check hether the *second* argument is true.\\n        2. If it is, print the *first* argument.\\n    '''\\n    if check:\\n        print(thing)\",\n",
       "  'print_if_true': <function __main__.print_if_true(thing, check)>,\n",
       "  '_i60': 'print(echo.__doc__)',\n",
       "  '_i61': 'def answer():\\n    print(42)\\nanswer()',\n",
       "  'answer': <function __main__.answer()>,\n",
       "  '_i62': 'run_something(answer)',\n",
       "  '_i63': 'run_something(answer)',\n",
       "  '_i64': 'def run_something(func):\\n    func()',\n",
       "  'run_something': <function __main__.run_something(func)>,\n",
       "  '_i65': 'run_something(answer)',\n",
       "  '_i66': 'type(run_something)',\n",
       "  '_66': function,\n",
       "  '_i67': 'def add_args(arg1, arg2):\\n    print(arg1+arg2)',\n",
       "  'add_args': <function __main__.add_args(arg1, arg2)>,\n",
       "  '_i68': 'def add_args(arg1, arg2):\\n    print(arg1+arg2)\\nadd_args(1,2)',\n",
       "  '_i69': 'def run_something_with_args(func, arg1, arg2):\\n    func(arg1, arg2)',\n",
       "  'run_something_with_args': <function __main__.run_something_with_args(func, arg1, arg2)>,\n",
       "  '_i70': 'run_something_with_args(add_args, 5, 9)',\n",
       "  '_i71': 'def sum_args(*args):\\n    return sum(args) # 파이썬 내장함수',\n",
       "  'sum_args': <function __main__.sum_args(*args)>,\n",
       "  '_i72': 'def run_with_positional_args(func, *args):\\n    return func(*args)',\n",
       "  'run_with_positional_args': <function __main__.run_with_positional_args(func, *args)>,\n",
       "  '_i73': 'run_with_positional_args(sum_args, 1,2,3,4)',\n",
       "  '_73': 10,\n",
       "  '_i74': 'def outer(a,b):\\n    def inner(c,d):\\n        return c+d\\n    return inner(a,b)\\nouter(4,7)',\n",
       "  'outer': <function __main__.outer(a, b)>,\n",
       "  '_74': 11,\n",
       "  '_i75': 'def knights(saying):\\n    def inner(quote):\\n        return \"We are the knights who say: \\'%s\\'\" % quote\\n    return inner(saying)\\nknights(\\'Ni!\\')',\n",
       "  'knights': <function __main__.knights(saying)>,\n",
       "  '_75': \"We are the knights who say: 'Ni!'\",\n",
       "  '_i76': 'def knights2(saying):\\n    def inner2():\\n        return \"We are the knights who say:  \\'%s\\'\" % saying\\n    return inner2',\n",
       "  'knights2': <function __main__.knights2(saying)>,\n",
       "  '_i77': \"a=knights2('Duck')\\nb=knights2('Hasenpfeffer')\\nprint(type(a))\\nprint(type(b))\",\n",
       "  'a': <function __main__.knights2.<locals>.inner2()>,\n",
       "  'b': <function __main__.knights2.<locals>.inner2()>,\n",
       "  '_i78': 'print(a)\\nprint(b)',\n",
       "  '_i79': 'print(a())\\nprint(b())',\n",
       "  '_i80': '#람다함수\\ndef edit_story(words, func):\\n    for word in words:\\n        print(func(word))',\n",
       "  'edit_story': <function __main__.edit_story(words, func)>,\n",
       "  '_i81': \"stairs=['thud','meow','thud','hiss']\",\n",
       "  'stairs': ['thud', 'meow', 'thud', 'hiss'],\n",
       "  '_i82': \"def enliven(word): #첫 글자를 대문자로 만들고 느낌표 붙이기\\n    return word.capitalize() + '!'\",\n",
       "  'enliven': <function __main__.enliven(word)>,\n",
       "  '_i83': 'edit_story(stairs, enliven)',\n",
       "  '_i84': \"edit_story(stairs, lambda word: word.capitalize()+ '!')\",\n",
       "  '_i85': 'sum(range(1, 100))',\n",
       "  '_85': 4950,\n",
       "  '_i86': 'sum(range(1, 101))',\n",
       "  '_86': 5050,\n",
       "  '_i87': '#제너레이터 함수\\ndef my_range(first=0, last=10, step=1):\\n    number = first\\n    while number < last:\\n        yield number\\n        number+=step\\nmy_range',\n",
       "  'my_range': <function __main__.my_range(first=0, last=10, step=1)>,\n",
       "  '_87': <function __main__.my_range(first=0, last=10, step=1)>,\n",
       "  '_i88': '#제너레이터 함수\\ndef my_range(first=0, last=10, step=1):\\n    number = first\\n    while number < last:\\n        yield number\\n        number+=step\\nranger = my_range(1,5)\\nranger',\n",
       "  'ranger': <generator object my_range at 0x000002C562FC9EC8>,\n",
       "  '_88': <generator object my_range at 0x000002C562FC9DC8>,\n",
       "  '_i89': '#제너레이터 함수\\ndef my_range(first=0, last=10, step=1):\\n    number = first\\n    while number < last:\\n        yield number\\n        number+=step\\nranger = my_range(1,5)\\nfor x in ranger:\\n    print(x)',\n",
       "  'x': 4,\n",
       "  '_i90': 'for try_again in ranger:\\n    print(try_again)',\n",
       "  '_i91': \"genobj = (pair for pair in zip(['a','b'],['1','2']))\\ngenobj\\nfor thing in genobj:\\n    print(thing)\",\n",
       "  'genobj': <generator object <genexpr> at 0x000002C562FC9F48>,\n",
       "  '_i92': 'def square_numbers(nums):\\n    result = []\\n    for i in nums:\\n        result.append(i * i)\\n    return result\\nnums=[1,2,3,4,5]\\nsquare_numbers(nums)',\n",
       "  'square_numbers': <function __main__.square_numbers(nums)>,\n",
       "  'nums': [1, 2, 3, 4, 5],\n",
       "  '_92': [1, 4, 9, 16, 25],\n",
       "  '_i93': 'def square_numbers(nums):\\n    for i in nums:\\n        result.append(i*i)',\n",
       "  '_i94': 'def square_numbers1(nums):\\n    for i in nums:\\n        result.append(i*i)',\n",
       "  'square_numbers1': <function __main__.square_numbers1(nums)>,\n",
       "  '_i95': 'nums=[1,2,3,4,5]\\nsquare_numbers1(nums)',\n",
       "  '_i96': 'def square_numbers1(nums):\\n    for i in nums:\\n        i*i',\n",
       "  '_i97': 'nums=[1,2,3,4,5]\\nsquare_numbers1(nums)',\n",
       "  '_i98': 'nums=[1,2,3,4,5]\\nsquare_numbers1(nums)',\n",
       "  '_i99': 'def square_numbers1(nums):\\n    for i in nums:\\n        print(i*i)',\n",
       "  '_i100': 'nums=[1,2,3,4,5]\\nsquare_numbers1(nums)',\n",
       "  '_i101': 'def square_numbers1(nums):\\n    for i in nums:\\n        print(list(i*i))',\n",
       "  '_i102': 'nums=[1,2,3,4,5]\\nsquare_numbers1(nums)',\n",
       "  '_i103': 'def square_numbers1(nums):\\n    for i in nums:\\n        print(i*i)',\n",
       "  '_i104': 'nums=[1,2,3,4,5]\\nsquare_numbers1(nums)',\n",
       "  '_i105': 'def square_numbers1(nums):\\n    for i in nums:\\n        a=i*i\\n        print(a)',\n",
       "  '_i106': 'nums=[1,2,3,4,5]\\nsquare_numbers1(nums)',\n",
       "  '_i107': 'def square_numbers1(nums):\\n    for i in nums:\\n        a=i*i\\n        list(a)',\n",
       "  '_i108': 'nums=[1,2,3,4,5]\\nsquare_numbers1(nums)',\n",
       "  '_i109': 'def square_numbers1(nums):\\n    for i in nums:\\n        i*i',\n",
       "  '_i110': 'nums=[1,2,3,4,5]\\nsquare_numbers1(nums)',\n",
       "  '_i111': \"def document_it(func):\\n    def new_function(*args, **kwargs):\\n        print('Running function:', func.__name__)\\n        print('Positional arguments:', args)\\n        print('Keyword arguments:', kwargs)\\n        result = func(*args, **kwargs)\\n        print('Result:', result)\\n        return result\\n    return new_function\",\n",
       "  'document_it': <function __main__.document_it(func)>,\n",
       "  '_i112': 'def add_ints(a,b):\\n    return a+b\\nadd_ints(3,5)',\n",
       "  'add_ints': <function __main__.square_it.<locals>.new_function(*args, **kwargs)>,\n",
       "  '_112': 8,\n",
       "  '_i113': 'cooler_add_ints=document_it(add_ints) # 데커레이터 수동 할당\\ncooler_Add_ints(3,5)',\n",
       "  'cooler_add_ints': <function __main__.document_it.<locals>.new_function(*args, **kwargs)>,\n",
       "  '_i114': 'cooler_add_ints=document_it(add_ints) # 데커레이터 수동 할당\\ncooler_add_ints(3,5)',\n",
       "  '_114': 8,\n",
       "  '_i115': '@document_it\\ndef add_ints(a,b):\\n    return a+b\\nadd_ints(3,5)',\n",
       "  '_115': 8,\n",
       "  '_i116': 'def square_it(func):\\n    def new_function(*args, **kwargs):\\n        result=func(*args, **kwargs)\\n        return result*result\\n    return new_function',\n",
       "  'square_it': <function __main__.square_it(func)>,\n",
       "  '_i117': '@document_it\\n@square_it\\ndef add_ints(a,b):\\n    return a+b\\nadd_ints(3,5)',\n",
       "  '_117': 64,\n",
       "  '_i118': '@square_it\\n@document_it\\ndef add_ints(a,b):\\n    return a+b\\nadd_ints(3,5)',\n",
       "  '_118': 64,\n",
       "  '_i119': \"animal = 'fruitbat'\\ndef print_global():\\n    print('inside print_global:', animal)\\nprint('at the top level:', animal)\",\n",
       "  'animal': 'fruitbat',\n",
       "  'print_global': <function __main__.print_global()>,\n",
       "  '_i120': \"animal = 'fruitbat'\\ndef print_global():\\n    print('inside print_global:', animal)\\nprint('at the top level:', animal)\\nprint_global()\",\n",
       "  '_i121': \"def change_and_print_global():\\n    print('inside change_and_print_global:', animal).\\n    animal = 'wombat'\\n    print('after the change:',animal)\\nchange_and_print_global()\",\n",
       "  '_i122': \"def change_and_print_global():\\n    print('inside change_and_print_global:', animal)\\n    animal = 'wombat'\\n    print('after the change:',animal)\\nchange_and_print_global()\",\n",
       "  'change_and_print_global': <function __main__.change_and_print_global()>,\n",
       "  '_i123': \"def change_local():\\n    animal = 'wombat'\\n    print('inside change_local:', animal, id(animal))\\nchange_local()\",\n",
       "  'change_local': <function __main__.change_local()>,\n",
       "  '_i124': 'animal\\nid(animal)',\n",
       "  '_124': 3046791551600,\n",
       "  '_i125': \"animal='fruitbat'\\ndef change_and_print_global():\\n    global animal\\n    animal = 'wombat'\\n    print('after the change:', animal)\\nprint(animal)\\nchange_and_print_global()\\nprint(animal)\",\n",
       "  '_i126': \"animal='fruitbat'\\ndef change_local():\\n    animal='wombat'\\n    print('locals:', locals())\\nprint(animal)\\nchange_local()\\nprint('globals:', globals())\",\n",
       "  '_i127': \"animal='fruitbat'\\ndef change_local():\\n    animal='wombat'\\n    print('locals:', locals())\\nprint(animal)\\nprint(change_local())\\nprint('globals:', globals())\",\n",
       "  '_i128': \"animal='fruitbat'\\ndef change_local():\\n    animal='wombat'\\n    print('locals:', locals())\\nprint(animal)\\nprint(change_local())\\n'globals:', globals()\"})"
      ]
     },
     "execution_count": 128,
     "metadata": {},
     "output_type": "execute_result"
    }
   ],
   "source": [
    "animal='fruitbat'\n",
    "def change_local():\n",
    "    animal='wombat'\n",
    "    print('locals:', locals())\n",
    "print(animal)\n",
    "print(change_local())\n",
    "'globals:', globals()"
   ]
  },
  {
   "cell_type": "code",
   "execution_count": 129,
   "id": "948cfac9",
   "metadata": {},
   "outputs": [
    {
     "name": "stdout",
     "output_type": "stream",
     "text": [
      "This function is named: amazing\n",
      "And its docstring is: This is the amazing function.\n",
      "    Want to see itn again?\n"
     ]
    }
   ],
   "source": [
    "def amazing():\n",
    "    '''This is the amazing function.\n",
    "    Want to see itn again?'''\n",
    "    print('This function is named:', amazing.__name__)\n",
    "    print('And its docstring is:', amazing.__doc__)\n",
    "amazing()"
   ]
  },
  {
   "cell_type": "code",
   "execution_count": 130,
   "id": "0ac93d40",
   "metadata": {},
   "outputs": [
    {
     "ename": "RecursionError",
     "evalue": "maximum recursion depth exceeded",
     "output_type": "error",
     "traceback": [
      "\u001b[1;31m---------------------------------------------------------------------------\u001b[0m",
      "\u001b[1;31mRecursionError\u001b[0m                            Traceback (most recent call last)",
      "\u001b[1;32m<ipython-input-130-ede1408719b6>\u001b[0m in \u001b[0;36m<module>\u001b[1;34m\u001b[0m\n\u001b[0;32m      1\u001b[0m \u001b[1;32mdef\u001b[0m \u001b[0mdive\u001b[0m\u001b[1;33m(\u001b[0m\u001b[1;33m)\u001b[0m\u001b[1;33m:\u001b[0m\u001b[1;33m\u001b[0m\u001b[1;33m\u001b[0m\u001b[0m\n\u001b[0;32m      2\u001b[0m     \u001b[1;32mreturn\u001b[0m \u001b[0mdive\u001b[0m\u001b[1;33m(\u001b[0m\u001b[1;33m)\u001b[0m\u001b[1;33m\u001b[0m\u001b[1;33m\u001b[0m\u001b[0m\n\u001b[1;32m----> 3\u001b[1;33m \u001b[0mdive\u001b[0m\u001b[1;33m(\u001b[0m\u001b[1;33m)\u001b[0m\u001b[1;33m\u001b[0m\u001b[1;33m\u001b[0m\u001b[0m\n\u001b[0m",
      "\u001b[1;32m<ipython-input-130-ede1408719b6>\u001b[0m in \u001b[0;36mdive\u001b[1;34m()\u001b[0m\n\u001b[0;32m      1\u001b[0m \u001b[1;32mdef\u001b[0m \u001b[0mdive\u001b[0m\u001b[1;33m(\u001b[0m\u001b[1;33m)\u001b[0m\u001b[1;33m:\u001b[0m\u001b[1;33m\u001b[0m\u001b[1;33m\u001b[0m\u001b[0m\n\u001b[1;32m----> 2\u001b[1;33m     \u001b[1;32mreturn\u001b[0m \u001b[0mdive\u001b[0m\u001b[1;33m(\u001b[0m\u001b[1;33m)\u001b[0m\u001b[1;33m\u001b[0m\u001b[1;33m\u001b[0m\u001b[0m\n\u001b[0m\u001b[0;32m      3\u001b[0m \u001b[0mdive\u001b[0m\u001b[1;33m(\u001b[0m\u001b[1;33m)\u001b[0m\u001b[1;33m\u001b[0m\u001b[1;33m\u001b[0m\u001b[0m\n",
      "... last 1 frames repeated, from the frame below ...\n",
      "\u001b[1;32m<ipython-input-130-ede1408719b6>\u001b[0m in \u001b[0;36mdive\u001b[1;34m()\u001b[0m\n\u001b[0;32m      1\u001b[0m \u001b[1;32mdef\u001b[0m \u001b[0mdive\u001b[0m\u001b[1;33m(\u001b[0m\u001b[1;33m)\u001b[0m\u001b[1;33m:\u001b[0m\u001b[1;33m\u001b[0m\u001b[1;33m\u001b[0m\u001b[0m\n\u001b[1;32m----> 2\u001b[1;33m     \u001b[1;32mreturn\u001b[0m \u001b[0mdive\u001b[0m\u001b[1;33m(\u001b[0m\u001b[1;33m)\u001b[0m\u001b[1;33m\u001b[0m\u001b[1;33m\u001b[0m\u001b[0m\n\u001b[0m\u001b[0;32m      3\u001b[0m \u001b[0mdive\u001b[0m\u001b[1;33m(\u001b[0m\u001b[1;33m)\u001b[0m\u001b[1;33m\u001b[0m\u001b[1;33m\u001b[0m\u001b[0m\n",
      "\u001b[1;31mRecursionError\u001b[0m: maximum recursion depth exceeded"
     ]
    }
   ],
   "source": [
    "def dive():\n",
    "    return dive()\n",
    "dive()"
   ]
  },
  {
   "cell_type": "code",
   "execution_count": 131,
   "id": "ec59f807",
   "metadata": {},
   "outputs": [],
   "source": [
    "import sys\n",
    "sys.getrecursionlimit() #재귀 제한 얻기(기본:1000)\n",
    "sys.setrecursionlimit(1500) # 재귀 함수 제한 설정"
   ]
  },
  {
   "cell_type": "code",
   "execution_count": 134,
   "id": "85964feb",
   "metadata": {},
   "outputs": [],
   "source": [
    "def flatten(lol):\n",
    "    for item in lol:\n",
    "        if isinstance(item, list):\n",
    "            for subitem in flatten(item):\n",
    "                yield subitem\n",
    "        else:\n",
    "            yield item"
   ]
  },
  {
   "cell_type": "code",
   "execution_count": 135,
   "id": "d2142725",
   "metadata": {},
   "outputs": [
    {
     "name": "stdout",
     "output_type": "stream",
     "text": [
      "<generator object flatten at 0x000002C562FE8E48>\n"
     ]
    },
    {
     "data": {
      "text/plain": [
       "[1, 2, 3, 4, 5, 6, 7, 8, 9]"
      ]
     },
     "execution_count": 135,
     "metadata": {},
     "output_type": "execute_result"
    }
   ],
   "source": [
    "lol = [1,2,[3,4,5],[6,[7,8,9],[]]]\n",
    "print(flatten(lol))\n",
    "list(flatten(lol))"
   ]
  },
  {
   "cell_type": "code",
   "execution_count": 136,
   "id": "ed9ef070",
   "metadata": {},
   "outputs": [],
   "source": [
    "def flatten(lol):\n",
    "    for item in lol:\n",
    "        if isinstance(item, list):\n",
    "            yield from flatten(item)\n",
    "        else:\n",
    "            yield item"
   ]
  },
  {
   "cell_type": "code",
   "execution_count": 137,
   "id": "469bbdc5",
   "metadata": {},
   "outputs": [
    {
     "name": "stdout",
     "output_type": "stream",
     "text": [
      "<generator object flatten at 0x000002C562FE8EC8>\n"
     ]
    },
    {
     "data": {
      "text/plain": [
       "[1, 2, 3, 4, 5, 6, 7, 8, 9]"
      ]
     },
     "execution_count": 137,
     "metadata": {},
     "output_type": "execute_result"
    }
   ],
   "source": [
    "lol = [1,2,[3,4,5],[6,[7,8,9],[]]]\n",
    "print(flatten(lol))\n",
    "list(flatten(lol))"
   ]
  },
  {
   "cell_type": "code",
   "execution_count": 138,
   "id": "101732bb",
   "metadata": {},
   "outputs": [
    {
     "ename": "IndexError",
     "evalue": "list index out of range",
     "output_type": "error",
     "traceback": [
      "\u001b[1;31m---------------------------------------------------------------------------\u001b[0m",
      "\u001b[1;31mIndexError\u001b[0m                                Traceback (most recent call last)",
      "\u001b[1;32m<ipython-input-138-0916cdef2863>\u001b[0m in \u001b[0;36m<module>\u001b[1;34m\u001b[0m\n\u001b[0;32m      1\u001b[0m \u001b[0mshort_list\u001b[0m \u001b[1;33m=\u001b[0m \u001b[1;33m[\u001b[0m\u001b[1;36m1\u001b[0m\u001b[1;33m,\u001b[0m\u001b[1;36m2\u001b[0m\u001b[1;33m,\u001b[0m\u001b[1;36m3\u001b[0m\u001b[1;33m]\u001b[0m\u001b[1;33m\u001b[0m\u001b[1;33m\u001b[0m\u001b[0m\n\u001b[0;32m      2\u001b[0m \u001b[0mposition\u001b[0m\u001b[1;33m=\u001b[0m\u001b[1;36m5\u001b[0m\u001b[1;33m\u001b[0m\u001b[1;33m\u001b[0m\u001b[0m\n\u001b[1;32m----> 3\u001b[1;33m \u001b[0mshort_list\u001b[0m\u001b[1;33m[\u001b[0m\u001b[0mposition\u001b[0m\u001b[1;33m]\u001b[0m\u001b[1;33m\u001b[0m\u001b[1;33m\u001b[0m\u001b[0m\n\u001b[0m",
      "\u001b[1;31mIndexError\u001b[0m: list index out of range"
     ]
    }
   ],
   "source": [
    "short_list = [1,2,3]\n",
    "position=5\n",
    "short_list[position]"
   ]
  },
  {
   "cell_type": "code",
   "execution_count": 139,
   "id": "acb65ba8",
   "metadata": {},
   "outputs": [
    {
     "name": "stdout",
     "output_type": "stream",
     "text": [
      "Need a position between 0 and 2 but got 5\n"
     ]
    }
   ],
   "source": [
    "short_list=[1,2,3]\n",
    "position=5\n",
    "try:\n",
    "    short_list[position]\n",
    "except:\n",
    "    print('Need a position between 0 and', len(short_list)-1, 'but got', position)"
   ]
  },
  {
   "cell_type": "code",
   "execution_count": 140,
   "id": "49d5b271",
   "metadata": {},
   "outputs": [
    {
     "name": "stdout",
     "output_type": "stream",
     "text": [
      "Position [q to quit]? 1\n",
      "2\n",
      "Position [q to quit]? 0\n",
      "1\n",
      "Position [q to quit]? 2\n",
      "3\n",
      "Position [q to quit]? 3\n",
      "Bad index: 3\n",
      "Position [q to quit]? 2\n",
      "3\n",
      "Position [q to quit]? two\n",
      "Something els broke: invalid literal for int() with base 10: 'two'\n",
      "Position [q to quit]? q\n"
     ]
    }
   ],
   "source": [
    "short_list=[1,2,3]\n",
    "while True:\n",
    "    value=input('Position [q to quit]? ')\n",
    "    if value == 'q':\n",
    "        break\n",
    "    try:\n",
    "        position = int(value)\n",
    "        print(short_list[position])\n",
    "    except IndexError as err:\n",
    "        print('Bad index:', position)\n",
    "    except Exception as other:\n",
    "        print('Something els broke:', other)"
   ]
  },
  {
   "cell_type": "code",
   "execution_count": 141,
   "id": "bdb7f450",
   "metadata": {},
   "outputs": [
    {
     "ename": "UppercaseException",
     "evalue": "MO",
     "output_type": "error",
     "traceback": [
      "\u001b[1;31m---------------------------------------------------------------------------\u001b[0m",
      "\u001b[1;31mUppercaseException\u001b[0m                        Traceback (most recent call last)",
      "\u001b[1;32m<ipython-input-141-eb1523a12e19>\u001b[0m in \u001b[0;36m<module>\u001b[1;34m\u001b[0m\n\u001b[0;32m      4\u001b[0m \u001b[1;32mfor\u001b[0m \u001b[0mword\u001b[0m \u001b[1;32min\u001b[0m \u001b[0mwords\u001b[0m\u001b[1;33m:\u001b[0m\u001b[1;33m\u001b[0m\u001b[1;33m\u001b[0m\u001b[0m\n\u001b[0;32m      5\u001b[0m     \u001b[1;32mif\u001b[0m \u001b[0mword\u001b[0m\u001b[1;33m.\u001b[0m\u001b[0misupper\u001b[0m\u001b[1;33m(\u001b[0m\u001b[1;33m)\u001b[0m\u001b[1;33m:\u001b[0m\u001b[1;33m\u001b[0m\u001b[1;33m\u001b[0m\u001b[0m\n\u001b[1;32m----> 6\u001b[1;33m         \u001b[1;32mraise\u001b[0m \u001b[0mUppercaseException\u001b[0m\u001b[1;33m(\u001b[0m\u001b[0mword\u001b[0m\u001b[1;33m)\u001b[0m\u001b[1;33m\u001b[0m\u001b[1;33m\u001b[0m\u001b[0m\n\u001b[0m",
      "\u001b[1;31mUppercaseException\u001b[0m: MO"
     ]
    }
   ],
   "source": [
    "class UppercaseException(Exception):\n",
    "    pass\n",
    "words = ['eenie','meenie','miny','MO']\n",
    "for word in words:\n",
    "    if word.isupper():\n",
    "        raise UppercaseException(word)"
   ]
  },
  {
   "cell_type": "code",
   "execution_count": 142,
   "id": "f1f2de25",
   "metadata": {},
   "outputs": [
    {
     "ename": "NameError",
     "evalue": "name 'OopsException' is not defined",
     "output_type": "error",
     "traceback": [
      "\u001b[1;31m---------------------------------------------------------------------------\u001b[0m",
      "\u001b[1;31mNameError\u001b[0m                                 Traceback (most recent call last)",
      "\u001b[1;32m<ipython-input-142-dcea7a0b487d>\u001b[0m in \u001b[0;36m<module>\u001b[1;34m\u001b[0m\n\u001b[0;32m      1\u001b[0m \u001b[1;32mtry\u001b[0m\u001b[1;33m:\u001b[0m\u001b[1;33m\u001b[0m\u001b[1;33m\u001b[0m\u001b[0m\n\u001b[1;32m----> 2\u001b[1;33m     \u001b[1;32mraise\u001b[0m \u001b[0mOopsException\u001b[0m\u001b[1;33m(\u001b[0m\u001b[1;34m'panic'\u001b[0m\u001b[1;33m)\u001b[0m\u001b[1;33m\u001b[0m\u001b[1;33m\u001b[0m\u001b[0m\n\u001b[0m\u001b[0;32m      3\u001b[0m \u001b[1;32mexcept\u001b[0m \u001b[0mOopsException\u001b[0m \u001b[1;32mas\u001b[0m \u001b[0mexc\u001b[0m\u001b[1;33m:\u001b[0m\u001b[1;33m\u001b[0m\u001b[1;33m\u001b[0m\u001b[0m\n",
      "\u001b[1;31mNameError\u001b[0m: name 'OopsException' is not defined",
      "\nDuring handling of the above exception, another exception occurred:\n",
      "\u001b[1;31mNameError\u001b[0m                                 Traceback (most recent call last)",
      "\u001b[1;32m<ipython-input-142-dcea7a0b487d>\u001b[0m in \u001b[0;36m<module>\u001b[1;34m\u001b[0m\n\u001b[0;32m      1\u001b[0m \u001b[1;32mtry\u001b[0m\u001b[1;33m:\u001b[0m\u001b[1;33m\u001b[0m\u001b[1;33m\u001b[0m\u001b[0m\n\u001b[0;32m      2\u001b[0m     \u001b[1;32mraise\u001b[0m \u001b[0mOopsException\u001b[0m\u001b[1;33m(\u001b[0m\u001b[1;34m'panic'\u001b[0m\u001b[1;33m)\u001b[0m\u001b[1;33m\u001b[0m\u001b[1;33m\u001b[0m\u001b[0m\n\u001b[1;32m----> 3\u001b[1;33m \u001b[1;32mexcept\u001b[0m \u001b[0mOopsException\u001b[0m \u001b[1;32mas\u001b[0m \u001b[0mexc\u001b[0m\u001b[1;33m:\u001b[0m\u001b[1;33m\u001b[0m\u001b[1;33m\u001b[0m\u001b[0m\n\u001b[0m\u001b[0;32m      4\u001b[0m     \u001b[0mprint\u001b[0m\u001b[1;33m(\u001b[0m\u001b[0mexc\u001b[0m\u001b[1;33m)\u001b[0m\u001b[1;33m\u001b[0m\u001b[1;33m\u001b[0m\u001b[0m\n",
      "\u001b[1;31mNameError\u001b[0m: name 'OopsException' is not defined"
     ]
    }
   ],
   "source": [
    "try:\n",
    "    raise OopsException('panic')\n",
    "except OopsException as exc:\n",
    "    print(exc)"
   ]
  }
 ],
 "metadata": {
  "kernelspec": {
   "display_name": "Python 3",
   "language": "python",
   "name": "python3"
  },
  "language_info": {
   "codemirror_mode": {
    "name": "ipython",
    "version": 3
   },
   "file_extension": ".py",
   "mimetype": "text/x-python",
   "name": "python",
   "nbconvert_exporter": "python",
   "pygments_lexer": "ipython3",
   "version": "3.7.10"
  }
 },
 "nbformat": 4,
 "nbformat_minor": 5
}
