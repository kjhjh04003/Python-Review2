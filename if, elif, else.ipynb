{
 "cells": [
  {
   "cell_type": "code",
   "execution_count": 1,
   "id": "12a9ec44",
   "metadata": {},
   "outputs": [
    {
     "name": "stdout",
     "output_type": "stream",
     "text": [
      "Woe!\n"
     ]
    }
   ],
   "source": [
    "# 예제1\n",
    "disaster = True\n",
    "if disaster:\n",
    "    print(\"Woe!\")\n",
    "else:\n",
    "    print(\"Whee!\")"
   ]
  },
  {
   "cell_type": "code",
   "execution_count": 2,
   "id": "2763ab68",
   "metadata": {},
   "outputs": [
    {
     "name": "stdout",
     "output_type": "stream",
     "text": [
      "It's a yeti\n"
     ]
    }
   ],
   "source": [
    "# 예제2(조건 안의 조건)\n",
    "furry = True\n",
    "large = True\n",
    "if furry:\n",
    "    if large:\n",
    "        print(\"It's a yeti\")\n",
    "    else:\n",
    "        print(\"It's a cat!\")\n",
    "else:\n",
    "    if large:\n",
    "        print(\"It's a whale!\")\n",
    "    else:\n",
    "        print(\"It's a human.Ora hariless cat.\")"
   ]
  },
  {
   "cell_type": "code",
   "execution_count": 3,
   "id": "f927963b",
   "metadata": {},
   "outputs": [
    {
     "name": "stdout",
     "output_type": "stream",
     "text": [
      "I've never heard of the color mauve\n"
     ]
    }
   ],
   "source": [
    "# 예제3(두개 이상의 조건)\n",
    "color = \"mauve\"\n",
    "if color == \"red\":\n",
    "    print(\"It's a tomato\")\n",
    "elif color == \"green\":\n",
    "    print(\"It's a green pepper\")\n",
    "elif color == \"bee purple\":\n",
    "    print(\"I don't know what it is, but only bees can see it\")\n",
    "else:\n",
    "    print(\"I've never heard of the color\", color)"
   ]
  },
  {
   "cell_type": "code",
   "execution_count": 4,
   "id": "8fbb73fd",
   "metadata": {},
   "outputs": [
    {
     "name": "stdout",
     "output_type": "stream",
     "text": [
      "Hey, it'sempty!\n"
     ]
    }
   ],
   "source": [
    "# true와 false\n",
    "some_list=[]\n",
    "if some_list:\n",
    "    print(\"Ther's something in here\")\n",
    "else:\n",
    "    print(\"Hey, it'sempty!\")"
   ]
  },
  {
   "cell_type": "code",
   "execution_count": 7,
   "id": "cb1d3bde",
   "metadata": {},
   "outputs": [
    {
     "name": "stdout",
     "output_type": "stream",
     "text": [
      "o is a vowel\n"
     ]
    }
   ],
   "source": [
    "# 여러개 비교 : in\n",
    "letter = 'o'\n",
    "if letter == 'a' or letter == 'e' or letter == 'i' or letter == 'o' or letter == 'u':\n",
    "    print(letter, 'is a vowel')\n",
    "else:\n",
    "    print(letter, 'is not a vowel')"
   ]
  },
  {
   "cell_type": "code",
   "execution_count": 9,
   "id": "b302c8d8",
   "metadata": {},
   "outputs": [
    {
     "name": "stdout",
     "output_type": "stream",
     "text": [
      "o is a vowel\n"
     ]
    }
   ],
   "source": [
    "vowels = 'aeiou'\n",
    "letter = 'o'\n",
    "letter in vowels # in 연산자 사용\n",
    "\n",
    "if letter in vowels:\n",
    "    print(letter, 'is a vowel')"
   ]
  },
  {
   "cell_type": "code",
   "execution_count": 10,
   "id": "8d894c13",
   "metadata": {},
   "outputs": [
    {
     "data": {
      "text/plain": [
       "True"
      ]
     },
     "execution_count": 10,
     "metadata": {},
     "output_type": "execute_result"
    }
   ],
   "source": [
    "# set을 이용한 in\n",
    "letter = 'o'\n",
    "vowel_set = {'a', 'e','i','o','u'}\n",
    "letter in vowel_set"
   ]
  },
  {
   "cell_type": "code",
   "execution_count": 11,
   "id": "fb6375b6",
   "metadata": {},
   "outputs": [
    {
     "data": {
      "text/plain": [
       "True"
      ]
     },
     "execution_count": 11,
     "metadata": {},
     "output_type": "execute_result"
    }
   ],
   "source": [
    "# list를 이용한 in\n",
    "vowel_list = ['a', 'e', 'i', 'o', 'u']\n",
    "letter in vowel_list"
   ]
  },
  {
   "cell_type": "code",
   "execution_count": 12,
   "id": "f8c26a91",
   "metadata": {},
   "outputs": [
    {
     "data": {
      "text/plain": [
       "True"
      ]
     },
     "execution_count": 12,
     "metadata": {},
     "output_type": "execute_result"
    }
   ],
   "source": [
    "# tuple을 이용한 in\n",
    "vowel_tuple = ('a', 'e', 'i', 'o', 'u')\n",
    "letter in vowel_tuple"
   ]
  },
  {
   "cell_type": "code",
   "execution_count": 13,
   "id": "3128d910",
   "metadata": {},
   "outputs": [
    {
     "data": {
      "text/plain": [
       "True"
      ]
     },
     "execution_count": 13,
     "metadata": {},
     "output_type": "execute_result"
    }
   ],
   "source": [
    "# dict를 이용한 in\n",
    "# dict은 {키:값}으로 나타내며, 키를 보고 판단한다.\n",
    "vowel_dict = {'a':'apple', 'e':'elephant','i':'impala','o':'ocelot','u':'unicorn'}\n",
    "letter in vowel_dict"
   ]
  },
  {
   "cell_type": "code",
   "execution_count": 18,
   "id": "195c08e0",
   "metadata": {},
   "outputs": [
    {
     "name": "stdout",
     "output_type": "stream",
     "text": [
      "A fitting tweet\n"
     ]
    }
   ],
   "source": [
    "# 바다 코끼리 연산 :=\n",
    "# 일반적인 할당과 테스트\n",
    "tweet_limit=280\n",
    "tweet_string = \"Blah\" * 50\n",
    "diff = tweet_limit - len(tweet_string)\n",
    "if diff >=0:\n",
    "    print(\"A fitting tweet\")\n",
    "else:\n",
    "    print(\"Went over by\", abs(diff))"
   ]
  },
  {
   "cell_type": "code",
   "execution_count": 19,
   "id": "f5dbfb68",
   "metadata": {},
   "outputs": [
    {
     "name": "stdout",
     "output_type": "stream",
     "text": [
      "A fitting tweet\n"
     ]
    }
   ],
   "source": [
    "# 바다 코끼리 연산\n",
    "tweet_limit=280\n",
    "tweet_string = \"Blah\" * 50\n",
    "if diff := tweet_limit - len(tweet_string) >=0:\n",
    "        print(\"A fitting tweet\")\n",
    "else:\n",
    "    print(\"Went over by\", abs(diff))"
   ]
  },
  {
   "cell_type": "code",
   "execution_count": 22,
   "id": "5105b064",
   "metadata": {},
   "outputs": [
    {
     "name": "stdout",
     "output_type": "stream",
     "text": [
      "just right\n"
     ]
    }
   ],
   "source": [
    "# 연습문제1\n",
    "# 1~10 사이의 숫자를 선택해 secret, guess 변수에 할당한다.\n",
    "# if, elif, else문 사용 -> secret<guess : too high, secret>guess : too low, secret=guess : just right\n",
    "\n",
    "secret = 5\n",
    "guess = 5\n",
    "if guess > secret:\n",
    "    print('too high')\n",
    "elif guess < secret:\n",
    "    print('too low')\n",
    "else:\n",
    "    print('just right')"
   ]
  },
  {
   "cell_type": "code",
   "execution_count": 24,
   "id": "6bf546d3",
   "metadata": {},
   "outputs": [
    {
     "name": "stdout",
     "output_type": "stream",
     "text": [
      "cherry is small and not green\n"
     ]
    }
   ],
   "source": [
    "# 연습문제2\n",
    "# small = True / green = False 할당\n",
    "# if else문 사용 -> small과 green을 기준으로 cherry, pea, watermelon, pumkin 출력\n",
    "# 예 : 체리는 작고 녹색이 아니다. 완두콩은 작고 녹색이다. 수박은 크고 녹색이다. 호박은 크고 녹색이 아니다.\n",
    "\n",
    "small = True\n",
    "green = False\n",
    "if small:\n",
    "    if green:\n",
    "        print(\"pea is small and green\")\n",
    "    else:\n",
    "        print(\"cherry is small and not green\")\n",
    "else:\n",
    "    if green:\n",
    "        print(\"watermelon is not small and green\")\n",
    "    else:\n",
    "        print(\"pumkin is not small and not green\")"
   ]
  }
 ],
 "metadata": {
  "kernelspec": {
   "display_name": "Python 3",
   "language": "python",
   "name": "python3"
  },
  "language_info": {
   "codemirror_mode": {
    "name": "ipython",
    "version": 3
   },
   "file_extension": ".py",
   "mimetype": "text/x-python",
   "name": "python",
   "nbconvert_exporter": "python",
   "pygments_lexer": "ipython3",
   "version": "3.8.10"
  }
 },
 "nbformat": 4,
 "nbformat_minor": 5
}
