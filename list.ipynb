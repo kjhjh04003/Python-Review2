{
 "cells": [
  {
   "cell_type": "code",
   "execution_count": 4,
   "id": "c6ad06ea",
   "metadata": {},
   "outputs": [
    {
     "data": {
      "text/plain": [
       "['Punxsatawney', {'groundhog': 'Phil'}, 'Feb. 2']"
      ]
     },
     "execution_count": 4,
     "metadata": {},
     "output_type": "execute_result"
    }
   ],
   "source": [
    "# 리스트 생성\n",
    "empty_list = [] # 빈 리스트 생성\n",
    "weekdays = ['Monday','Tuesday','Wednesday','Thursday','Friday']\n",
    "big_birds = ['emu','ostrich','cassowary']\n",
    "first_name = ['Graham','John','Terry','Terry','Michael'] # 중복 값이 가능하다.\n",
    "leap_year=[2000,2004, 2008]\n",
    "randomness = ['Punxsatawney',{'groundhog':'Phil'}, 'Feb. 2']"
   ]
  },
  {
   "cell_type": "code",
   "execution_count": 5,
   "id": "67b7f178",
   "metadata": {},
   "outputs": [
    {
     "data": {
      "text/plain": [
       "[]"
      ]
     },
     "execution_count": 5,
     "metadata": {},
     "output_type": "execute_result"
    }
   ],
   "source": [
    "another_empty_list = list()\n",
    "another_empty_list"
   ]
  },
  {
   "cell_type": "code",
   "execution_count": 6,
   "id": "ac3a9bd0",
   "metadata": {},
   "outputs": [
    {
     "data": {
      "text/plain": [
       "['c', 'a', 't']"
      ]
     },
     "execution_count": 6,
     "metadata": {},
     "output_type": "execute_result"
    }
   ],
   "source": [
    "list('cat') # str타입을 리스트로 변환"
   ]
  },
  {
   "cell_type": "code",
   "execution_count": 7,
   "id": "5d09acb9",
   "metadata": {},
   "outputs": [
    {
     "data": {
      "text/plain": [
       "['ready', 'fire', 'aim']"
      ]
     },
     "execution_count": 7,
     "metadata": {},
     "output_type": "execute_result"
    }
   ],
   "source": [
    "a_tuple = ('ready','fire','aim') # 튜플을 리스트로 변환\n",
    "list(a_tuple)"
   ]
  },
  {
   "cell_type": "code",
   "execution_count": 8,
   "id": "50ca0060",
   "metadata": {},
   "outputs": [
    {
     "data": {
      "text/plain": [
       "['9', '10', '2019']"
      ]
     },
     "execution_count": 8,
     "metadata": {},
     "output_type": "execute_result"
    }
   ],
   "source": [
    "# split()\n",
    "talk_like_a_pirate_day='9/10/2019'\n",
    "talk_like_a_pirate_day.split('/')"
   ]
  },
  {
   "cell_type": "code",
   "execution_count": 9,
   "id": "81827521",
   "metadata": {},
   "outputs": [
    {
     "data": {
      "text/plain": [
       "['a', 'b', '', 'c', 'd', '', '', 'e']"
      ]
     },
     "execution_count": 9,
     "metadata": {},
     "output_type": "execute_result"
    }
   ],
   "source": [
    "splitme = 'a/b//c/d///e'\n",
    "splitme.split('/')"
   ]
  },
  {
   "cell_type": "code",
   "execution_count": 10,
   "id": "b5548195",
   "metadata": {},
   "outputs": [
    {
     "data": {
      "text/plain": [
       "['a/b', 'c/d', '/e']"
      ]
     },
     "execution_count": 10,
     "metadata": {},
     "output_type": "execute_result"
    }
   ],
   "source": [
    "splitme = 'a/b//c/d///e'\n",
    "splitme.split('//')"
   ]
  },
  {
   "cell_type": "code",
   "execution_count": 11,
   "id": "548c4a6c",
   "metadata": {},
   "outputs": [
    {
     "name": "stdout",
     "output_type": "stream",
     "text": [
      "Groucho\n",
      "Chico\n",
      "Harpo\n"
     ]
    }
   ],
   "source": [
    "# 특정값 추출\n",
    "marxes=['Groucho','Chico','Harpo']\n",
    "print(marxes[0])\n",
    "print(marxes[1])\n",
    "print(marxes[2])"
   ]
  },
  {
   "cell_type": "code",
   "execution_count": 12,
   "id": "2d0dbfa3",
   "metadata": {},
   "outputs": [
    {
     "name": "stdout",
     "output_type": "stream",
     "text": [
      "Harpo\n",
      "Chico\n",
      "Groucho\n"
     ]
    }
   ],
   "source": [
    "print(marxes[-1])\n",
    "print(marxes[-2])\n",
    "print(marxes[-3])"
   ]
  },
  {
   "cell_type": "code",
   "execution_count": 14,
   "id": "eaa65466",
   "metadata": {},
   "outputs": [
    {
     "ename": "IndexError",
     "evalue": "list index out of range",
     "output_type": "error",
     "traceback": [
      "\u001b[1;31m---------------------------------------------------------------------------\u001b[0m",
      "\u001b[1;31mIndexError\u001b[0m                                Traceback (most recent call last)",
      "\u001b[1;32m<ipython-input-14-da95471898ee>\u001b[0m in \u001b[0;36m<module>\u001b[1;34m\u001b[0m\n\u001b[0;32m      1\u001b[0m \u001b[0mmarxes\u001b[0m\u001b[1;33m=\u001b[0m\u001b[1;33m[\u001b[0m\u001b[1;34m'Groucho'\u001b[0m\u001b[1;33m,\u001b[0m\u001b[1;34m'Chico'\u001b[0m\u001b[1;33m,\u001b[0m\u001b[1;34m'Harpo'\u001b[0m\u001b[1;33m]\u001b[0m\u001b[1;33m\u001b[0m\u001b[1;33m\u001b[0m\u001b[0m\n\u001b[1;32m----> 2\u001b[1;33m \u001b[0mprint\u001b[0m\u001b[1;33m(\u001b[0m\u001b[0mmarxes\u001b[0m\u001b[1;33m[\u001b[0m\u001b[1;36m5\u001b[0m\u001b[1;33m]\u001b[0m\u001b[1;33m)\u001b[0m\u001b[1;33m\u001b[0m\u001b[1;33m\u001b[0m\u001b[0m\n\u001b[0m\u001b[0;32m      3\u001b[0m \u001b[0mprint\u001b[0m\u001b[1;33m(\u001b[0m\u001b[0mmarxes\u001b[0m\u001b[1;33m[\u001b[0m\u001b[1;33m-\u001b[0m\u001b[1;36m5\u001b[0m\u001b[1;33m]\u001b[0m\u001b[1;33m)\u001b[0m\u001b[1;33m\u001b[0m\u001b[1;33m\u001b[0m\u001b[0m\n",
      "\u001b[1;31mIndexError\u001b[0m: list index out of range"
     ]
    }
   ],
   "source": [
    "marxes=['Groucho','Chico','Harpo']\n",
    "print(marxes[5])\n",
    "print(marxes[-5])"
   ]
  },
  {
   "cell_type": "code",
   "execution_count": 15,
   "id": "61cb2dcc",
   "metadata": {},
   "outputs": [
    {
     "data": {
      "text/plain": [
       "['Groucho', 'Chico']"
      ]
     },
     "execution_count": 15,
     "metadata": {},
     "output_type": "execute_result"
    }
   ],
   "source": [
    "marxes=['Groucho','Chico','Harpo']\n",
    "marxes[0:2]"
   ]
  },
  {
   "cell_type": "code",
   "execution_count": 16,
   "id": "ab59e2d7",
   "metadata": {},
   "outputs": [
    {
     "data": {
      "text/plain": [
       "['Groucho', 'Harpo']"
      ]
     },
     "execution_count": 16,
     "metadata": {},
     "output_type": "execute_result"
    }
   ],
   "source": [
    "marxes[::2]"
   ]
  },
  {
   "cell_type": "code",
   "execution_count": 17,
   "id": "ad1ea3a2",
   "metadata": {},
   "outputs": [
    {
     "data": {
      "text/plain": [
       "['Harpo', 'Groucho']"
      ]
     },
     "execution_count": 17,
     "metadata": {},
     "output_type": "execute_result"
    }
   ],
   "source": [
    "marxes[::-2]"
   ]
  },
  {
   "cell_type": "code",
   "execution_count": 19,
   "id": "d8d0c35b",
   "metadata": {},
   "outputs": [
    {
     "data": {
      "text/plain": [
       "['Harpo', 'Chico', 'Groucho']"
      ]
     },
     "execution_count": 19,
     "metadata": {},
     "output_type": "execute_result"
    }
   ],
   "source": [
    "marxes=['Groucho','Chico','Harpo']\n",
    "marxes.reverse()\n",
    "marxes"
   ]
  },
  {
   "cell_type": "code",
   "execution_count": 20,
   "id": "8b1b24e3",
   "metadata": {},
   "outputs": [
    {
     "name": "stdout",
     "output_type": "stream",
     "text": [
      "[]\n",
      "['Groucho', 'Chico', 'Harpo']\n",
      "['Groucho']\n",
      "[]\n"
     ]
    }
   ],
   "source": [
    "marxes=['Groucho','Chico','Harpo']\n",
    "print(marxes[4:])\n",
    "print(marxes[-6:])\n",
    "print(marxes[-6:-2])\n",
    "print(marxes[-6:-4])"
   ]
  },
  {
   "cell_type": "code",
   "execution_count": 21,
   "id": "df743452",
   "metadata": {},
   "outputs": [
    {
     "data": {
      "text/plain": [
       "['Groucho', 'Chico', 'Harpo', 'Zeppo']"
      ]
     },
     "execution_count": 21,
     "metadata": {},
     "output_type": "execute_result"
    }
   ],
   "source": [
    "# append() : 리스트 끝에 한개씩 항목 추가\n",
    "marxes=['Groucho','Chico','Harpo']\n",
    "marxes.append('Zeppo')\n",
    "marxes"
   ]
  },
  {
   "cell_type": "code",
   "execution_count": 22,
   "id": "8435c614",
   "metadata": {},
   "outputs": [
    {
     "name": "stdout",
     "output_type": "stream",
     "text": [
      "['Groucho', 'Chico', 'Gummo', 'Harpo']\n",
      "['Groucho', 'Chico', 'Gummo', 'Harpo', 'Zeppo']\n"
     ]
    }
   ],
   "source": [
    "marxes=['Groucho','Chico','Harpo']\n",
    "marxes.insert(2, 'Gummo')\n",
    "print(marxes)\n",
    "marxes.insert(10, 'Zeppo')\n",
    "print(marxes)"
   ]
  },
  {
   "cell_type": "code",
   "execution_count": 23,
   "id": "6fdb0c1f",
   "metadata": {},
   "outputs": [
    {
     "data": {
      "text/plain": [
       "['blah', 'blah', 'blah']"
      ]
     },
     "execution_count": 23,
     "metadata": {},
     "output_type": "execute_result"
    }
   ],
   "source": [
    "# * : 리스트 복사\n",
    "['blah']*3"
   ]
  },
  {
   "cell_type": "code",
   "execution_count": 24,
   "id": "3b2b964e",
   "metadata": {},
   "outputs": [
    {
     "data": {
      "text/plain": [
       "['Groucho', 'Chico', 'Harpo', 'Zeppo', 'Gummo', 'Karl']"
      ]
     },
     "execution_count": 24,
     "metadata": {},
     "output_type": "execute_result"
    }
   ],
   "source": [
    "# extend() : 리스트 병합\n",
    "marxes = ['Groucho', 'Chico', 'Harpo', 'Zeppo']\n",
    "other = ['Gummo', 'Karl']\n",
    "marxes.extend(other)\n",
    "marxes"
   ]
  },
  {
   "cell_type": "code",
   "execution_count": 25,
   "id": "c4c4fbf0",
   "metadata": {},
   "outputs": [
    {
     "data": {
      "text/plain": [
       "['Groucho', 'Chico', 'Harpo', 'Zeppo', 'Gummo', 'Karl']"
      ]
     },
     "execution_count": 25,
     "metadata": {},
     "output_type": "execute_result"
    }
   ],
   "source": [
    "# + : 리스트 병합\n",
    "marxes = ['Groucho', 'Chico', 'Harpo', 'Zeppo']\n",
    "other = ['Gummo', 'Karl']\n",
    "marxes += other\n",
    "marxes"
   ]
  },
  {
   "cell_type": "code",
   "execution_count": 26,
   "id": "1a83f6e8",
   "metadata": {},
   "outputs": [
    {
     "data": {
      "text/plain": [
       "['Groucho', 'Chico', 'Harpo', 'Zeppo', ['Gummo', 'Karl']]"
      ]
     },
     "execution_count": 26,
     "metadata": {},
     "output_type": "execute_result"
    }
   ],
   "source": [
    "marxes = ['Groucho', 'Chico', 'Harpo', 'Zeppo']\n",
    "other = ['Gummo', 'Karl']\n",
    "marxes.append(other)\n",
    "marxes"
   ]
  },
  {
   "cell_type": "code",
   "execution_count": 27,
   "id": "61e88cb4",
   "metadata": {},
   "outputs": [
    {
     "data": {
      "text/plain": [
       "['Groucho', 'Chico', 'Wanda']"
      ]
     },
     "execution_count": 27,
     "metadata": {},
     "output_type": "execute_result"
    }
   ],
   "source": [
    "# 항목 바꾸기\n",
    "marxes=['Groucho','Chico','Harpo']\n",
    "marxes[2] = 'Wanda'\n",
    "marxes"
   ]
  },
  {
   "cell_type": "code",
   "execution_count": 28,
   "id": "7d018f5e",
   "metadata": {},
   "outputs": [
    {
     "data": {
      "text/plain": [
       "[1, 8, 9, 4]"
      ]
     },
     "execution_count": 28,
     "metadata": {},
     "output_type": "execute_result"
    }
   ],
   "source": [
    "numbers = [1, 2, 3, 4]\n",
    "numbers[1:3] = [8, 9]\n",
    "numbers"
   ]
  },
  {
   "cell_type": "code",
   "execution_count": 29,
   "id": "8153bd4b",
   "metadata": {},
   "outputs": [
    {
     "name": "stdout",
     "output_type": "stream",
     "text": [
      "[1, 7, 8, 9, 4]\n",
      "[1, 4]\n"
     ]
    }
   ],
   "source": [
    "numbers = [1, 2, 3, 4]\n",
    "numbers[1:3] = [7, 8, 9]\n",
    "print(numbers)\n",
    "numbers = [1, 2, 3, 4]\n",
    "numbers[1:3] = []\n",
    "print(numbers)"
   ]
  },
  {
   "cell_type": "code",
   "execution_count": 31,
   "id": "7374dbcf",
   "metadata": {},
   "outputs": [
    {
     "data": {
      "text/plain": [
       "[1, 98, 99, 100, 4]"
      ]
     },
     "execution_count": 31,
     "metadata": {},
     "output_type": "execute_result"
    }
   ],
   "source": [
    "numbers = [1, 2, 3, 4]\n",
    "numbers[1:3] = (98, 99, 100)\n",
    "numbers"
   ]
  },
  {
   "cell_type": "code",
   "execution_count": 32,
   "id": "b4b0b97f",
   "metadata": {},
   "outputs": [
    {
     "data": {
      "text/plain": [
       "[1, 'W', 'h', 'a', 't', '?', 4]"
      ]
     },
     "execution_count": 32,
     "metadata": {},
     "output_type": "execute_result"
    }
   ],
   "source": [
    "numbers = [1, 2, 3, 4]\n",
    "numbers[1:3] = 'What?'\n",
    "numbers"
   ]
  },
  {
   "cell_type": "code",
   "execution_count": 34,
   "id": "c255b0bd",
   "metadata": {},
   "outputs": [
    {
     "name": "stdout",
     "output_type": "stream",
     "text": [
      "Karl\n",
      "['Groucho', 'Chico', 'Harpo', 'Cummo']\n"
     ]
    }
   ],
   "source": [
    "marxes = ['Groucho','Chico','Harpo','Cummo','Karl']\n",
    "print(marxes[-1])\n",
    "del marxes[-1]\n",
    "print(marxes)"
   ]
  },
  {
   "cell_type": "code",
   "execution_count": 35,
   "id": "3eb7a18b",
   "metadata": {},
   "outputs": [
    {
     "data": {
      "text/plain": [
       "['Groucho', 'Harpo', 'Cummo']"
      ]
     },
     "execution_count": 35,
     "metadata": {},
     "output_type": "execute_result"
    }
   ],
   "source": [
    "marxes = ['Groucho', 'Chico', 'Harpo', 'Cummo']\n",
    "del marxes[1]\n",
    "marxes"
   ]
  },
  {
   "cell_type": "code",
   "execution_count": 36,
   "id": "40cd8ccb",
   "metadata": {},
   "outputs": [
    {
     "data": {
      "text/plain": [
       "['Chico', 'Harpo']"
      ]
     },
     "execution_count": 36,
     "metadata": {},
     "output_type": "execute_result"
    }
   ],
   "source": [
    "marxes = ['Groucho','Chico','Harpo']\n",
    "marxes.remove('Groucho')\n",
    "marxes"
   ]
  },
  {
   "cell_type": "code",
   "execution_count": 38,
   "id": "78cad25e",
   "metadata": {},
   "outputs": [
    {
     "name": "stdout",
     "output_type": "stream",
     "text": [
      "Zeppo\n",
      "['Groucho', 'chico', 'Harpo']\n",
      "chico\n",
      "['Groucho', 'Harpo']\n"
     ]
    }
   ],
   "source": [
    "marxes = ['Groucho', 'chico','Harpo','Zeppo']\n",
    "print(marxes.pop())\n",
    "print(marxes)\n",
    "print(marxes.pop(1))\n",
    "print(marxes)"
   ]
  },
  {
   "cell_type": "code",
   "execution_count": 41,
   "id": "9b74790c",
   "metadata": {},
   "outputs": [
    {
     "name": "stdout",
     "output_type": "stream",
     "text": [
      "['Working hard?', 'Quick question!', 'Number one priorities!']\n",
      "[]\n"
     ]
    }
   ],
   "source": [
    "work_quotes = ['Working hard?', 'Quick question!', 'Number one priorities!']\n",
    "print(work_quotes)\n",
    "work_quotes.clear()\n",
    "print(work_quotes)"
   ]
  },
  {
   "cell_type": "code",
   "execution_count": 42,
   "id": "6e964c51",
   "metadata": {},
   "outputs": [
    {
     "data": {
      "text/plain": [
       "1"
      ]
     },
     "execution_count": 42,
     "metadata": {},
     "output_type": "execute_result"
    }
   ],
   "source": [
    "marxes=['Groucho', 'Chico','Harpo','Zeppo']\n",
    "marxes.index('Chico')"
   ]
  },
  {
   "cell_type": "code",
   "execution_count": 43,
   "id": "0ede5ce0",
   "metadata": {},
   "outputs": [
    {
     "data": {
      "text/plain": [
       "1"
      ]
     },
     "execution_count": 43,
     "metadata": {},
     "output_type": "execute_result"
    }
   ],
   "source": [
    "simpsons = ['Lisa','Bart','Marge','Homer','Bart']\n",
    "simpsons.index('Bart')"
   ]
  },
  {
   "cell_type": "code",
   "execution_count": 44,
   "id": "d7c90157",
   "metadata": {},
   "outputs": [
    {
     "name": "stdout",
     "output_type": "stream",
     "text": [
      "True\n",
      "False\n"
     ]
    }
   ],
   "source": [
    "marxes=['Groucho', 'Chico','Harpo','Zeppo']\n",
    "print('Groucho' in marxes)\n",
    "print('Bob' in marxes)"
   ]
  },
  {
   "cell_type": "code",
   "execution_count": 45,
   "id": "a66ed61a",
   "metadata": {},
   "outputs": [
    {
     "data": {
      "text/plain": [
       "True"
      ]
     },
     "execution_count": 45,
     "metadata": {},
     "output_type": "execute_result"
    }
   ],
   "source": [
    "words = ['a','deer','a','female','deer']\n",
    "'deer' in words"
   ]
  },
  {
   "cell_type": "code",
   "execution_count": 46,
   "id": "cefbda8c",
   "metadata": {},
   "outputs": [
    {
     "name": "stdout",
     "output_type": "stream",
     "text": [
      "1\n",
      "0\n",
      "3\n"
     ]
    }
   ],
   "source": [
    "marxes = ['Groucho','Chico','Harpo']\n",
    "print(marxes.count('Harpo'))\n",
    "print(marxes.count('Bob'))\n",
    "\n",
    "snl_skit=['cheeseburger','cheeseburger', 'cheeseburger']\n",
    "print(snl_skit.count('cheeseburger'))"
   ]
  },
  {
   "cell_type": "code",
   "execution_count": 48,
   "id": "817c2ce0",
   "metadata": {},
   "outputs": [
    {
     "data": {
      "text/plain": [
       "'Groucho ,Chico ,Harpo'"
      ]
     },
     "execution_count": 48,
     "metadata": {},
     "output_type": "execute_result"
    }
   ],
   "source": [
    "marxes = ['Groucho ','Chico ','Harpo']\n",
    "','.join(marxes)"
   ]
  },
  {
   "cell_type": "code",
   "execution_count": 53,
   "id": "3f12db00",
   "metadata": {},
   "outputs": [
    {
     "name": "stdout",
     "output_type": "stream",
     "text": [
      "Harry * Hermione * Ron\n",
      "['Harry', 'Hermione', 'Ron']\n"
     ]
    },
    {
     "data": {
      "text/plain": [
       "True"
      ]
     },
     "execution_count": 53,
     "metadata": {},
     "output_type": "execute_result"
    }
   ],
   "source": [
    "friends = ['Harry', 'Hermione','Ron']\n",
    "separator = ' * '\n",
    "joined = separator.join(friends)\n",
    "print(joined)\n",
    "\n",
    "separated = joined.split(separator)\n",
    "print(separated)\n",
    "\n",
    "separated == friends"
   ]
  },
  {
   "cell_type": "code",
   "execution_count": 54,
   "id": "4ec189e9",
   "metadata": {},
   "outputs": [
    {
     "name": "stdout",
     "output_type": "stream",
     "text": [
      "['Chico', 'Groucho', 'Harpo']\n",
      "['Groucho', 'Chico', 'Harpo']\n"
     ]
    }
   ],
   "source": [
    "marxes = ['Groucho','Chico','Harpo']\n",
    "sorted_marxes = sorted(marxes)\n",
    "print(sorted_marxes)\n",
    "print(marxes)"
   ]
  },
  {
   "cell_type": "code",
   "execution_count": 55,
   "id": "a2585665",
   "metadata": {},
   "outputs": [
    {
     "name": "stdout",
     "output_type": "stream",
     "text": [
      "['Chico', 'Groucho', 'Harpo']\n"
     ]
    }
   ],
   "source": [
    "marxes.sort()\n",
    "print(marxes)"
   ]
  },
  {
   "cell_type": "code",
   "execution_count": 56,
   "id": "79324907",
   "metadata": {
    "scrolled": true
   },
   "outputs": [
    {
     "name": "stdout",
     "output_type": "stream",
     "text": [
      "[1, 2, 3, 4.0]\n"
     ]
    }
   ],
   "source": [
    "numbers = [2,1,4.0,3]\n",
    "numbers.sort()\n",
    "print(numbers)"
   ]
  },
  {
   "cell_type": "code",
   "execution_count": 59,
   "id": "25fafe05",
   "metadata": {},
   "outputs": [
    {
     "name": "stdout",
     "output_type": "stream",
     "text": [
      "[4.0, 3, 2, 1]\n"
     ]
    }
   ],
   "source": [
    "numbers = [2, 1, 4.0, 3]\n",
    "numbers.sort(reverse=True)\n",
    "print(numbers)"
   ]
  },
  {
   "cell_type": "code",
   "execution_count": 60,
   "id": "6ca1cb08",
   "metadata": {},
   "outputs": [
    {
     "data": {
      "text/plain": [
       "4"
      ]
     },
     "execution_count": 60,
     "metadata": {},
     "output_type": "execute_result"
    }
   ],
   "source": [
    "numbers = [2, 1, 4.0, 3]\n",
    "len(numbers)"
   ]
  },
  {
   "cell_type": "code",
   "execution_count": 61,
   "id": "e76ad4a8",
   "metadata": {},
   "outputs": [
    {
     "name": "stdout",
     "output_type": "stream",
     "text": [
      "[1, 2, 3]\n",
      "[1, 2, 3]\n",
      "['surprise', 2, 3]\n",
      "['surprise', 2, 3]\n"
     ]
    }
   ],
   "source": [
    "a = [1, 2, 3]\n",
    "print(a)\n",
    "b = a\n",
    "print(b)\n",
    "a[0] = 'surprise'\n",
    "print(a)\n",
    "print(b)"
   ]
  },
  {
   "cell_type": "code",
   "execution_count": 62,
   "id": "7dd7cad1",
   "metadata": {},
   "outputs": [
    {
     "name": "stdout",
     "output_type": "stream",
     "text": [
      "['integer lists are boring', 2, 3]\n",
      "[1, 2, 3]\n",
      "[1, 2, 3]\n",
      "[1, 2, 3]\n"
     ]
    }
   ],
   "source": [
    "a = [1, 2, 3]\n",
    "b = a.copy()\n",
    "c = list(a)\n",
    "d = a[:]\n",
    "\n",
    "a[0]='integer lists are boring'\n",
    "print(a)\n",
    "print(b)\n",
    "print(c)\n",
    "print(d)"
   ]
  },
  {
   "cell_type": "code",
   "execution_count": 63,
   "id": "d947cb64",
   "metadata": {},
   "outputs": [
    {
     "name": "stdout",
     "output_type": "stream",
     "text": [
      "[1, 2, [8, 9]]\n",
      "[1, 2, [8, 9]]\n",
      "[1, 2, [8, 9]]\n",
      "[1, 2, [8, 9]]\n"
     ]
    }
   ],
   "source": [
    "a = [1, 2, [8,9]]\n",
    "b = a.copy()\n",
    "c = list(a)\n",
    "d = a[:]\n",
    "print(a)\n",
    "print(b)\n",
    "print(c)\n",
    "print(d)"
   ]
  },
  {
   "cell_type": "code",
   "execution_count": 66,
   "id": "81345205",
   "metadata": {},
   "outputs": [
    {
     "name": "stdout",
     "output_type": "stream",
     "text": [
      "[1, 2, [8, 10]]\n",
      "[1, 2, [8, 10]]\n",
      "[1, 2, [8, 10]]\n",
      "[1, 2, [8, 10]]\n"
     ]
    }
   ],
   "source": [
    "a[2][1]=10\n",
    "print(a)\n",
    "print(b)\n",
    "print(c)\n",
    "print(d)"
   ]
  },
  {
   "cell_type": "code",
   "execution_count": 69,
   "id": "5d430751",
   "metadata": {},
   "outputs": [
    {
     "name": "stdout",
     "output_type": "stream",
     "text": [
      "[1, 2, [8, 9]]\n",
      "[1, 2, [8, 9]]\n"
     ]
    }
   ],
   "source": [
    "import copy\n",
    "a = [1, 2, [8,9]]\n",
    "b = copy.deepcopy(a)\n",
    "print(a)\n",
    "print(b)"
   ]
  },
  {
   "cell_type": "code",
   "execution_count": 70,
   "id": "0d7431e8",
   "metadata": {},
   "outputs": [
    {
     "name": "stdout",
     "output_type": "stream",
     "text": [
      "[1, 2, [8, 10]]\n",
      "[1, 2, [8, 9]]\n"
     ]
    }
   ],
   "source": [
    "a[2][1]=10\n",
    "print(a)\n",
    "print(b)"
   ]
  },
  {
   "cell_type": "code",
   "execution_count": 71,
   "id": "00b86452",
   "metadata": {},
   "outputs": [
    {
     "name": "stdout",
     "output_type": "stream",
     "text": [
      "False\n",
      "True\n",
      "True\n"
     ]
    }
   ],
   "source": [
    "a = [7,2]\n",
    "b = [7, 2, 9]\n",
    "print(a==b)\n",
    "print(a<=b)\n",
    "\n",
    "a=[3,2]\n",
    "b=[1,2,3]\n",
    "print(a>b)"
   ]
  },
  {
   "cell_type": "code",
   "execution_count": 73,
   "id": "5bd678d5",
   "metadata": {},
   "outputs": [
    {
     "name": "stdout",
     "output_type": "stream",
     "text": [
      "brid\n",
      "gjetost\n",
      "havarti\n"
     ]
    }
   ],
   "source": [
    "# 순회하기\n",
    "cheeses = ['brid','gjetost','havarti']\n",
    "for cheese in cheeses:\n",
    "    print(cheese)"
   ]
  },
  {
   "cell_type": "code",
   "execution_count": 74,
   "id": "b73c7b0b",
   "metadata": {},
   "outputs": [
    {
     "name": "stdout",
     "output_type": "stream",
     "text": [
      "brid\n",
      "I won't eat anything that starts with 'g'\n"
     ]
    }
   ],
   "source": [
    "cheeses = ['brid','gjetost','havarti']\n",
    "for cheese in cheeses:\n",
    "    if cheese.startswith('g'):\n",
    "        print(\"I won't eat anything that starts with 'g'\")\n",
    "        break\n",
    "    else:\n",
    "        print(cheese)"
   ]
  },
  {
   "cell_type": "code",
   "execution_count": 75,
   "id": "febc92e4",
   "metadata": {},
   "outputs": [
    {
     "name": "stdout",
     "output_type": "stream",
     "text": [
      "brid\n",
      "gjetost\n",
      "havarti\n",
      "Didn't find anything that started with 'x'\n"
     ]
    }
   ],
   "source": [
    "cheeses = ['brid','gjetost','havarti']\n",
    "for cheese in cheeses:\n",
    "    if cheese.startswith('x'):\n",
    "        print(\"I won't eat anything that starts with 'x'\")\n",
    "        break\n",
    "    else:\n",
    "        print(cheese)\n",
    "else:\n",
    "    print(\"Didn't find anything that started with 'x'\")"
   ]
  },
  {
   "cell_type": "code",
   "execution_count": 76,
   "id": "73635c97",
   "metadata": {},
   "outputs": [
    {
     "name": "stdout",
     "output_type": "stream",
     "text": [
      "This is not much of a cheese shop, is it?\n"
     ]
    }
   ],
   "source": [
    "cheeses = []\n",
    "for cheese in cheeses:\n",
    "    print('This shop has some lovely', cheese)\n",
    "    break\n",
    "else: # break문이 실행되지 않으면 실행된다.\n",
    "    print(\"This is not much of a cheese shop, is it?\")"
   ]
  },
  {
   "cell_type": "code",
   "execution_count": 79,
   "id": "9f2fd311",
   "metadata": {},
   "outputs": [
    {
     "name": "stdout",
     "output_type": "stream",
     "text": [
      "Monday : drink coffee -eat banana -enjoy tiramisu\n",
      "Tuesday : drink tea -eat orange -enjoy ice cream\n",
      "Wednesday : drink beer -eat peach -enjoy pie\n"
     ]
    }
   ],
   "source": [
    "days = ['Monday', 'Tuesday','Wednesday']\n",
    "fruits = ['banana','orange','peach']\n",
    "drinks = ['coffee','tea','beer']\n",
    "desserts = ['tiramisu','ice cream','pie','pudding']\n",
    "\n",
    "for day, fruit, drink, dessert in zip(days, fruits, drinks, desserts):\n",
    "    print(day, \": drink\", drink, \"-eat\", fruit, \"-enjoy\", dessert)"
   ]
  },
  {
   "cell_type": "code",
   "execution_count": 80,
   "id": "25b146cc",
   "metadata": {},
   "outputs": [
    {
     "data": {
      "text/plain": [
       "[('Monday', 'Lundi'), ('Tuesday', 'Mardi'), ('Wednesday', 'Mercredi')]"
      ]
     },
     "execution_count": 80,
     "metadata": {},
     "output_type": "execute_result"
    }
   ],
   "source": [
    "english = 'Monday','Tuesday','Wednesday'\n",
    "french = 'Lundi','Mardi','Mercredi'\n",
    "list(zip(english, french))"
   ]
  },
  {
   "cell_type": "code",
   "execution_count": 81,
   "id": "c8a15ce6",
   "metadata": {},
   "outputs": [
    {
     "data": {
      "text/plain": [
       "{'Monday': 'Lundi', 'Tuesday': 'Mardi', 'Wednesday': 'Mercredi'}"
      ]
     },
     "execution_count": 81,
     "metadata": {},
     "output_type": "execute_result"
    }
   ],
   "source": [
    "english = 'Monday','Tuesday','Wednesday'\n",
    "french = 'Lundi','Mardi','Mercredi'\n",
    "dict(zip(english, french))"
   ]
  },
  {
   "cell_type": "code",
   "execution_count": 82,
   "id": "be2b7288",
   "metadata": {},
   "outputs": [
    {
     "data": {
      "text/plain": [
       "[1, 2, 3, 4, 5]"
      ]
     },
     "execution_count": 82,
     "metadata": {},
     "output_type": "execute_result"
    }
   ],
   "source": [
    "number_list=[]\n",
    "number_list.append(1)\n",
    "number_list.append(2)\n",
    "number_list.append(3)\n",
    "number_list.append(4)\n",
    "number_list.append(5)\n",
    "number_list"
   ]
  },
  {
   "cell_type": "code",
   "execution_count": 83,
   "id": "04389897",
   "metadata": {},
   "outputs": [
    {
     "data": {
      "text/plain": [
       "[1, 2, 3, 4, 5]"
      ]
     },
     "execution_count": 83,
     "metadata": {},
     "output_type": "execute_result"
    }
   ],
   "source": [
    "number_list = []\n",
    "for number in range(1, 6):\n",
    "    number_list.append(number)\n",
    "number_list"
   ]
  },
  {
   "cell_type": "code",
   "execution_count": 84,
   "id": "0b407494",
   "metadata": {},
   "outputs": [
    {
     "data": {
      "text/plain": [
       "[1, 2, 3, 4, 5]"
      ]
     },
     "execution_count": 84,
     "metadata": {},
     "output_type": "execute_result"
    }
   ],
   "source": [
    "number_list = list(range(1, 6))\n",
    "number_list"
   ]
  },
  {
   "cell_type": "code",
   "execution_count": 85,
   "id": "5d0e2e4a",
   "metadata": {},
   "outputs": [
    {
     "data": {
      "text/plain": [
       "[1, 2, 3, 4, 5]"
      ]
     },
     "execution_count": 85,
     "metadata": {},
     "output_type": "execute_result"
    }
   ],
   "source": [
    "number_list = [number for number in range(1,6)]\n",
    "number_list"
   ]
  },
  {
   "cell_type": "code",
   "execution_count": 86,
   "id": "0cf78fdb",
   "metadata": {},
   "outputs": [
    {
     "data": {
      "text/plain": [
       "[1, 3, 5]"
      ]
     },
     "execution_count": 86,
     "metadata": {},
     "output_type": "execute_result"
    }
   ],
   "source": [
    "a_list = [number for number in range(1, 6) if number%2!=0]\n",
    "a_list"
   ]
  },
  {
   "cell_type": "code",
   "execution_count": 87,
   "id": "d728be33",
   "metadata": {},
   "outputs": [
    {
     "name": "stdout",
     "output_type": "stream",
     "text": [
      "1 1\n",
      "1 2\n",
      "2 1\n",
      "2 2\n",
      "3 1\n",
      "3 2\n"
     ]
    }
   ],
   "source": [
    "rows = range(1,4)\n",
    "cols = range(1, 3)\n",
    "for row in rows:\n",
    "    for col in cols:\n",
    "        print(row, col)"
   ]
  },
  {
   "cell_type": "code",
   "execution_count": 88,
   "id": "61203d50",
   "metadata": {},
   "outputs": [
    {
     "name": "stdout",
     "output_type": "stream",
     "text": [
      "(1, 1)\n",
      "(1, 2)\n",
      "(2, 1)\n",
      "(2, 2)\n",
      "(3, 1)\n",
      "(3, 2)\n"
     ]
    }
   ],
   "source": [
    "rows = range(1,4)\n",
    "cols = range(1, 3)\n",
    "cells = [(row, col) for row in rows for col in cols]\n",
    "for cell in cells:\n",
    "    print(cell)"
   ]
  },
  {
   "cell_type": "code",
   "execution_count": 90,
   "id": "5ba36441",
   "metadata": {},
   "outputs": [
    {
     "name": "stdout",
     "output_type": "stream",
     "text": [
      "1999\n",
      "2001\n"
     ]
    }
   ],
   "source": [
    "# 연습문제1~3\n",
    "years_list = [1996, 1997, 1998 ,1999, 2000, 2001]\n",
    "# 세 번째 생일\n",
    "print(years_list[3])\n",
    "# years_list 중 가장 나이가 많을 때는 몇 년도 인가?\n",
    "print(years_list[-1])"
   ]
  },
  {
   "cell_type": "code",
   "execution_count": 100,
   "id": "6067482b",
   "metadata": {},
   "outputs": [
    {
     "name": "stdout",
     "output_type": "stream",
     "text": [
      "Cinderella\n",
      "['mozzarella', 'cinderella', 'salmonella']\n"
     ]
    }
   ],
   "source": [
    "# 연습문제4~7\n",
    "things = [\"mozzarella\", \"cinderella\", \"salmonella\"]\n",
    "# 사람 이름의 첫 글자를 대문자로\n",
    "print(things[1].capitalize())\n",
    "print(things)"
   ]
  },
  {
   "cell_type": "code",
   "execution_count": 175,
   "id": "dfb5379e",
   "metadata": {},
   "outputs": [
    {
     "name": "stdout",
     "output_type": "stream",
     "text": [
      "MOZZARELLA\n"
     ]
    }
   ],
   "source": [
    "print(things[0].upper())"
   ]
  },
  {
   "cell_type": "code",
   "execution_count": 108,
   "id": "5d7f9856",
   "metadata": {},
   "outputs": [
    {
     "data": {
      "text/plain": [
       "['mozzarella', 'cinderella']"
      ]
     },
     "execution_count": 108,
     "metadata": {},
     "output_type": "execute_result"
    }
   ],
   "source": [
    "things = [\"mozzarella\", \"cinderella\", \"salmonella\"]\n",
    "things.pop(2)\n",
    "things"
   ]
  },
  {
   "cell_type": "code",
   "execution_count": 179,
   "id": "1989d0f8",
   "metadata": {},
   "outputs": [
    {
     "name": "stdout",
     "output_type": "stream",
     "text": [
      "harpo\n",
      "oprah\n",
      "oprah\n",
      "Oprah\n",
      "Oprah\n"
     ]
    }
   ],
   "source": [
    "# 연습문제 8~9\n",
    "surprise = ['Groucho','Chico','Harpo']\n",
    "# 마지막 요소를 소문자로 변경, 단어를 뒤집은 다음 첫 글자를 대문자로\n",
    "#마지막 요소 소문자로 변경\n",
    "print(surprise[-1].lower())\n",
    "# a=surprise[-1].lower()\n",
    "#단어 뒤집기\n",
    "print(''.join(reversed(surprise[-1].lower())))\n",
    "print(surprise[-1].lower()[::-1])\n",
    "#첫 글자 대문자로\n",
    "print(''.join(reversed(surprise[-1].lower())).capitalize())\n",
    "print(surprise[-1].lower()[::-1].capitalize())"
   ]
  },
  {
   "cell_type": "code",
   "execution_count": 118,
   "id": "fe8f46b6",
   "metadata": {},
   "outputs": [
    {
     "data": {
      "text/plain": [
       "[0, 2, 4, 6, 8]"
      ]
     },
     "execution_count": 118,
     "metadata": {},
     "output_type": "execute_result"
    }
   ],
   "source": [
    "# 연습문제 10\n",
    "#리스트 컴프리헨션을 이용하여 range(10)에서 짝수 리스트 만들기\n",
    "even = [number for number in range(10) if number%2==0]\n",
    "even"
   ]
  },
  {
   "cell_type": "code",
   "execution_count": 185,
   "id": "6c26aea7",
   "metadata": {},
   "outputs": [],
   "source": [
    "# 연습문제11\n",
    "# 줄넘기 랩 음악 만들기\n",
    "start1 = ['fee','fie','foe']\n",
    "rhymes=[(\"flop\",\"get a mop\"),\n",
    "        (\"fope\", \"turn the rope\"),\n",
    "        (\"fa\", \"get your map\"),\n",
    "        (\"fudge\", \"call the judge\"),\n",
    "        (\"fat\",\"pet the cat\"),\n",
    "        (\"fog\", \"walk the dog\"),\n",
    "        (\"fun\",\"say we're done\"),\n",
    "]\n",
    "start2=\"Someone better\""
   ]
  },
  {
   "cell_type": "code",
   "execution_count": 186,
   "id": "3bb0cd1f",
   "metadata": {},
   "outputs": [
    {
     "data": {
      "text/plain": [
       "'Fee! Fie! Foe!'"
      ]
     },
     "execution_count": 186,
     "metadata": {},
     "output_type": "execute_result"
    }
   ],
   "source": [
    "# start1의 각 문자열의 첫번째를 대문자로 만들고 뒤에 느낌표와 공백출력\n",
    "' '.join([start.capitalize()+\"!\" for start in start1])"
   ]
  },
  {
   "cell_type": "code",
   "execution_count": 193,
   "id": "4d1b843a",
   "metadata": {},
   "outputs": [
    {
     "name": "stdout",
     "output_type": "stream",
     "text": [
      "Fee! Fie! Foe! Flop!\n",
      "Someone better get a mop.\n",
      "Fee! Fie! Foe! Fope!\n",
      "Someone better turn the rope.\n",
      "Fee! Fie! Foe! Fa!\n",
      "Someone better get your map.\n",
      "Fee! Fie! Foe! Fudge!\n",
      "Someone better call the judge.\n",
      "Fee! Fie! Foe! Fat!\n",
      "Someone better pet the cat.\n",
      "Fee! Fie! Foe! Fog!\n",
      "Someone better walk the dog.\n",
      "Fee! Fie! Foe! Fun!\n",
      "Someone better say we're done.\n"
     ]
    }
   ],
   "source": [
    "#rhymes의 첫번째 문자열의 첫번째 단어를 대문자로 만들고 느낌표로 출력\n",
    "#print(' '.join([start.capitalize()+\"!\" for start in start1]))\n",
    "start1_cap=' '.join([start.capitalize()+\"!\" for start in start1])\n",
    "# print(start1_cap)\n",
    "# start2와 공백 출력 후 두번째 문자열 마침표 출력\n",
    "# print(start2+' '+rhymes[2][1])\n",
    "for row1, col1 in rhymes:\n",
    "    print(f\"{start1_cap} {row1.capitalize()}!\")\n",
    "    print(f\"{start2} {col1}.\")"
   ]
  },
  {
   "cell_type": "code",
   "execution_count": null,
   "id": "6b7b5ca9",
   "metadata": {},
   "outputs": [],
   "source": []
  }
 ],
 "metadata": {
  "kernelspec": {
   "display_name": "Python 3",
   "language": "python",
   "name": "python3"
  },
  "language_info": {
   "codemirror_mode": {
    "name": "ipython",
    "version": 3
   },
   "file_extension": ".py",
   "mimetype": "text/x-python",
   "name": "python",
   "nbconvert_exporter": "python",
   "pygments_lexer": "ipython3",
   "version": "3.8.10"
  }
 },
 "nbformat": 4,
 "nbformat_minor": 5
}
