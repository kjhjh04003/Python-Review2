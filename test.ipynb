{
 "cells": [
  {
   "cell_type": "code",
   "execution_count": 1,
   "id": "a74a2123",
   "metadata": {},
   "outputs": [
    {
     "name": "stdout",
     "output_type": "stream",
     "text": [
      "70.0\n",
      "70\n"
     ]
    }
   ],
   "source": [
    "# 국어: 80, 영어 75, 수학 55\n",
    "# 평균 점수\n",
    "score = {'국어':80, '영엉':75, '수학':55}\n",
    "avg = sum(score.values())/len(score)\n",
    "print(avg)\n",
    "print(int(avg))"
   ]
  },
  {
   "cell_type": "code",
   "execution_count": 2,
   "id": "5a73eee9",
   "metadata": {},
   "outputs": [
    {
     "name": "stdout",
     "output_type": "stream",
     "text": [
      "13은 홀수\n"
     ]
    }
   ],
   "source": [
    "# 자연수 13이 홀수인지 짝수인지 판별할 수 있는 방법\n",
    "if(13%2==1):\n",
    "    print('13은 홀수')"
   ]
  },
  {
   "cell_type": "code",
   "execution_count": 3,
   "id": "4ae35b7b",
   "metadata": {},
   "outputs": [
    {
     "name": "stdout",
     "output_type": "stream",
     "text": [
      "881120\n",
      "1068234\n"
     ]
    }
   ],
   "source": [
    "# 881120-1068234 를 -기준으로 분리\n",
    "# 문자열 슬라이싱 기법 사용\n",
    "jumin='881120-1068234'\n",
    "a=jumin[:6]\n",
    "b=jumin[7:]\n",
    "print(a)\n",
    "print(b)"
   ]
  },
  {
   "cell_type": "code",
   "execution_count": 4,
   "id": "f9780a93",
   "metadata": {},
   "outputs": [
    {
     "data": {
      "text/plain": [
       "'1'"
      ]
     },
     "execution_count": 4,
     "metadata": {},
     "output_type": "execute_result"
    }
   ],
   "source": [
    "#jumin의 뒷자리의 맨 첫번째 숫자는 성별을 나타낸다. 주민번호에서 성렬을 타나내는 숫자를 출력\n",
    "#문자열 인덱싱을 이용\n",
    "jumin.split('-')[1][0]"
   ]
  },
  {
   "cell_type": "code",
   "execution_count": 5,
   "id": "d7a068b5",
   "metadata": {},
   "outputs": [
    {
     "data": {
      "text/plain": [
       "'a#b#c#d'"
      ]
     },
     "execution_count": 5,
     "metadata": {},
     "output_type": "execute_result"
    }
   ],
   "source": [
    "# a:b:c:d에서 문자열의 replace 함수를 사용하여 a#b#c#d로 바꿔서 출력\n",
    "a=\"a:b:c:d\"\n",
    "a.replace(':','#')"
   ]
  },
  {
   "cell_type": "code",
   "execution_count": 6,
   "id": "ff9de654",
   "metadata": {},
   "outputs": [
    {
     "data": {
      "text/plain": [
       "[5, 4, 3, 2, 1]"
      ]
     },
     "execution_count": 6,
     "metadata": {},
     "output_type": "execute_result"
    }
   ],
   "source": [
    "# [1,3,5,4,2] 리스트를 [5,4,3,2,1]로 출력\n",
    "lis=[1,3,5,4,2]\n",
    "lis.sort()\n",
    "lis.reverse()\n",
    "lis"
   ]
  },
  {
   "cell_type": "code",
   "execution_count": 7,
   "id": "ce5df035",
   "metadata": {},
   "outputs": [
    {
     "data": {
      "text/plain": [
       "'Life is too short'"
      ]
     },
     "execution_count": 7,
     "metadata": {},
     "output_type": "execute_result"
    }
   ],
   "source": [
    "# ['Life','is','too','short']리스트를 Life is too short문자열로 출력\n",
    "# jon 함수를 이용\n",
    "lis = ['Life','is','too','short']\n",
    "' '.join(lis)"
   ]
  },
  {
   "cell_type": "code",
   "execution_count": 8,
   "id": "2cb30ed9",
   "metadata": {
    "scrolled": true
   },
   "outputs": [
    {
     "data": {
      "text/plain": [
       "(1, 2, 3, 4)"
      ]
     },
     "execution_count": 8,
     "metadata": {},
     "output_type": "execute_result"
    }
   ],
   "source": [
    "# (1,2,3) 튜플에 값 4를 추가하여 (1,2,3,4)를 만들어 출력\n",
    "# 더하기(+)를 이용\n",
    "tu1=(1,2,3)\n",
    "tu2=(4,)\n",
    "tu1+tu2"
   ]
  },
  {
   "cell_type": "code",
   "execution_count": 9,
   "id": "f93897b0",
   "metadata": {},
   "outputs": [
    {
     "ename": "NameError",
     "evalue": "name 'dic' is not defined",
     "output_type": "error",
     "traceback": [
      "\u001b[1;31m---------------------------------------------------------------------------\u001b[0m",
      "\u001b[1;31mNameError\u001b[0m                                 Traceback (most recent call last)",
      "\u001b[1;32m<ipython-input-9-6fa7d2af4914>\u001b[0m in \u001b[0;36m<module>\u001b[1;34m\u001b[0m\n\u001b[0;32m      1\u001b[0m \u001b[1;31m# 오류 설명하기\u001b[0m\u001b[1;33m\u001b[0m\u001b[1;33m\u001b[0m\u001b[1;33m\u001b[0m\u001b[0m\n\u001b[1;32m----> 2\u001b[1;33m \u001b[0ma\u001b[0m\u001b[1;33m=\u001b[0m\u001b[0mdic\u001b[0m\u001b[1;33m(\u001b[0m\u001b[1;33m)\u001b[0m\u001b[1;33m\u001b[0m\u001b[1;33m\u001b[0m\u001b[0m\n\u001b[0m\u001b[0;32m      3\u001b[0m \u001b[0ma\u001b[0m\u001b[1;33m[\u001b[0m\u001b[1;34m'name'\u001b[0m\u001b[1;33m]\u001b[0m \u001b[1;33m=\u001b[0m \u001b[1;34m'python'\u001b[0m\u001b[1;33m\u001b[0m\u001b[1;33m\u001b[0m\u001b[0m\n\u001b[0;32m      4\u001b[0m \u001b[0ma\u001b[0m\u001b[1;33m[\u001b[0m\u001b[1;33m(\u001b[0m\u001b[1;34m'a'\u001b[0m\u001b[1;33m,\u001b[0m\u001b[1;33m)\u001b[0m\u001b[1;33m]\u001b[0m\u001b[1;33m=\u001b[0m\u001b[1;34m'python'\u001b[0m\u001b[1;33m\u001b[0m\u001b[1;33m\u001b[0m\u001b[0m\n\u001b[0;32m      5\u001b[0m \u001b[0ma\u001b[0m\u001b[1;33m[\u001b[0m\u001b[1;33m[\u001b[0m\u001b[1;36m1\u001b[0m\u001b[1;33m]\u001b[0m\u001b[1;33m]\u001b[0m\u001b[1;33m=\u001b[0m\u001b[1;34m'python'\u001b[0m\u001b[1;33m\u001b[0m\u001b[1;33m\u001b[0m\u001b[0m\n",
      "\u001b[1;31mNameError\u001b[0m: name 'dic' is not defined"
     ]
    }
   ],
   "source": [
    "# 오류 설명하기\n",
    "a=dic()\n",
    "a['name'] = 'python'\n",
    "a[('a',)]='python'\n",
    "a[[1]]='python'\n",
    "a[250]='python'\n",
    "# 두번쨰, 세번째의 키는 튜플과 리스트이다 튜플과 리스트는 가변 객체로 키가 될 수 없다."
   ]
  },
  {
   "cell_type": "code",
   "execution_count": 10,
   "id": "345482ab",
   "metadata": {},
   "outputs": [
    {
     "data": {
      "text/plain": [
       "80"
      ]
     },
     "execution_count": 10,
     "metadata": {},
     "output_type": "execute_result"
    }
   ],
   "source": [
    "# 딕셔너리 a에서 pop()을 이용하여 'B'에 해당하는 값 추출\n",
    "a={'A':90, 'B':80,'C':70}\n",
    "a.pop('B')"
   ]
  },
  {
   "cell_type": "code",
   "execution_count": 11,
   "id": "a6d7be38",
   "metadata": {},
   "outputs": [
    {
     "data": {
      "text/plain": [
       "{1, 2, 3, 4, 5}"
      ]
     },
     "execution_count": 11,
     "metadata": {},
     "output_type": "execute_result"
    }
   ],
   "source": [
    "# a 리스트에서 중복 숫자를 제거\n",
    "a = [1,1,1,2,2,3,3,3,4,4,5]\n",
    "set(a)"
   ]
  },
  {
   "cell_type": "code",
   "execution_count": 12,
   "id": "94727ff0",
   "metadata": {},
   "outputs": [
    {
     "name": "stdout",
     "output_type": "stream",
     "text": [
      "need\n"
     ]
    }
   ],
   "source": [
    "a = \"Life is too short, you need python\"\n",
    "if \"wife\" in a:\n",
    "    print(\"wife\")\n",
    "elif \"python\" in a and \"you\" not in a:\n",
    "    print(\"python\")\n",
    "elif \"shirt\" in a:\n",
    "    print(\"shirt\")\n",
    "elif \"need\" in a:\n",
    "    print(\"need\")\n",
    "else:\n",
    "    print(\"none\")"
   ]
  },
  {
   "cell_type": "code",
   "execution_count": 13,
   "id": "138c42de",
   "metadata": {},
   "outputs": [
    {
     "name": "stdout",
     "output_type": "stream",
     "text": [
      "166833\n"
     ]
    }
   ],
   "source": [
    "# while문을 사용해 1부터 1000까지의 자연수 중 3의 배수의 합\n",
    "start=1\n",
    "end=1000\n",
    "num=0\n",
    "while(start<=1000):\n",
    "    if(start%3==0):\n",
    "        num+=start\n",
    "    start+=1\n",
    "print(num)"
   ]
  },
  {
   "cell_type": "code",
   "execution_count": 14,
   "id": "6bde8334",
   "metadata": {},
   "outputs": [
    {
     "name": "stdout",
     "output_type": "stream",
     "text": [
      "*\n",
      "**\n",
      "***\n",
      "****\n",
      "*****\n"
     ]
    }
   ],
   "source": [
    "# while문을 사용하여 별(*) 작성\n",
    "i=0\n",
    "while True:\n",
    "    i+=1\n",
    "    if i>5:\n",
    "        break\n",
    "    print('*'*i)\n",
    "    "
   ]
  },
  {
   "cell_type": "code",
   "execution_count": 15,
   "id": "efbee533",
   "metadata": {},
   "outputs": [
    {
     "name": "stdout",
     "output_type": "stream",
     "text": [
      "1\n",
      "2\n",
      "3\n",
      "4\n",
      "5\n",
      "6\n",
      "7\n",
      "8\n",
      "9\n",
      "10\n",
      "11\n",
      "12\n",
      "13\n",
      "14\n",
      "15\n",
      "16\n",
      "17\n",
      "18\n",
      "19\n",
      "20\n",
      "21\n",
      "22\n",
      "23\n",
      "24\n",
      "25\n",
      "26\n",
      "27\n",
      "28\n",
      "29\n",
      "30\n",
      "31\n",
      "32\n",
      "33\n",
      "34\n",
      "35\n",
      "36\n",
      "37\n",
      "38\n",
      "39\n",
      "40\n",
      "41\n",
      "42\n",
      "43\n",
      "44\n",
      "45\n",
      "46\n",
      "47\n",
      "48\n",
      "49\n",
      "50\n",
      "51\n",
      "52\n",
      "53\n",
      "54\n",
      "55\n",
      "56\n",
      "57\n",
      "58\n",
      "59\n",
      "60\n",
      "61\n",
      "62\n",
      "63\n",
      "64\n",
      "65\n",
      "66\n",
      "67\n",
      "68\n",
      "69\n",
      "70\n",
      "71\n",
      "72\n",
      "73\n",
      "74\n",
      "75\n",
      "76\n",
      "77\n",
      "78\n",
      "79\n",
      "80\n",
      "81\n",
      "82\n",
      "83\n",
      "84\n",
      "85\n",
      "86\n",
      "87\n",
      "88\n",
      "89\n",
      "90\n",
      "91\n",
      "92\n",
      "93\n",
      "94\n",
      "95\n",
      "96\n",
      "97\n",
      "98\n",
      "99\n",
      "100\n"
     ]
    }
   ],
   "source": [
    "# for문 사용하여 1~100까지 숫자 출력\n",
    "for i in range(1,101):\n",
    "    print(i)"
   ]
  },
  {
   "cell_type": "code",
   "execution_count": 16,
   "id": "8809fe2a",
   "metadata": {},
   "outputs": [
    {
     "name": "stdout",
     "output_type": "stream",
     "text": [
      "79.0\n"
     ]
    }
   ],
   "source": [
    "A = [70,60,55,75,95,90,80,80,85,100]\n",
    "avg=0\n",
    "s=0\n",
    "for i in A:\n",
    "    s += i\n",
    "    avg = s/len(A)\n",
    "print(avg)"
   ]
  },
  {
   "cell_type": "code",
   "execution_count": 17,
   "id": "0272501b",
   "metadata": {},
   "outputs": [],
   "source": [
    "# 리스트 중에서 홀수에만 2를 곱하여 저장하는 코드\n",
    "numbers = [1,2,3,4,5]\n",
    "result=[]\n",
    "for n in numbers:\n",
    "    if n%2==1:\n",
    "        result.append(n*2)"
   ]
  },
  {
   "cell_type": "code",
   "execution_count": 18,
   "id": "7e98c98c",
   "metadata": {},
   "outputs": [
    {
     "data": {
      "text/plain": [
       "[2, 6, 10]"
      ]
     },
     "execution_count": 18,
     "metadata": {},
     "output_type": "execute_result"
    }
   ],
   "source": [
    "numbers=[1,2,3,4,5]\n",
    "result= [n*2 for n in numbers if n%2==1]\n",
    "result"
   ]
  },
  {
   "cell_type": "code",
   "execution_count": 19,
   "id": "80a6b253",
   "metadata": {},
   "outputs": [],
   "source": [
    "# 주어진 자연수가 홀수인지 짝수인지 판별해 주는 함수(is_odd)를 작성\n",
    "def is_odd():\n",
    "    if(n%2==0):\n",
    "        print('짝수')\n",
    "    else:\n",
    "        print('홀수')"
   ]
  },
  {
   "cell_type": "code",
   "execution_count": 21,
   "id": "513b4406",
   "metadata": {},
   "outputs": [
    {
     "data": {
      "text/plain": [
       "2.0"
      ]
     },
     "execution_count": 21,
     "metadata": {},
     "output_type": "execute_result"
    }
   ],
   "source": [
    "# 입력으로 들어오는 모든 수의 평균 값을 계산해 주는 함수 작성\n",
    "def avg(*args):\n",
    "    rst=0\n",
    "    for i in args:\n",
    "        rst += i\n",
    "    return rst/len(args)\n",
    "avg(1,2,3)"
   ]
  },
  {
   "cell_type": "code",
   "execution_count": 23,
   "id": "29bddd2e",
   "metadata": {},
   "outputs": [
    {
     "name": "stdout",
     "output_type": "stream",
     "text": [
      "첫번째 숫자를 입력하세요:3\n",
      "두번째 숫자를 입력하세요:6\n",
      "두 수의 합은 9 입니다\n"
     ]
    }
   ],
   "source": [
    "# 두 개의 숫자를 입력받아 더하여 돌려주는 프로그램으로 3과 6을 입력했을 때 9가 아닌 36이라는 결괏값을 돌려주었다.\n",
    "# 프로그램 수정\n",
    "input1 = input(\"첫번째 숫자를 입력하세요:\")\n",
    "input2 = input(\"두번째 숫자를 입력하세요:\")\n",
    "\n",
    "total = int(input1) + int(input2)\n",
    "print(\"두 수의 합은 %s 입니다\" % total)"
   ]
  },
  {
   "cell_type": "code",
   "execution_count": 24,
   "id": "1482bcdd",
   "metadata": {},
   "outputs": [
    {
     "name": "stdout",
     "output_type": "stream",
     "text": [
      "youneedpython\n",
      "youneedpython\n",
      "you need python\n",
      "youneedpython\n"
     ]
    }
   ],
   "source": [
    "# 출력 중 결과가 다른 하나\n",
    "print(\"you\" \"need\" \"python\")\n",
    "print(\"you\"+\"need\"+\"python\")\n",
    "print(\"you\",\"need\",\"python\")\n",
    "print(\"\".join([\"you\",\"need\",\"python\"]))"
   ]
  },
  {
   "cell_type": "code",
   "execution_count": 25,
   "id": "22d5216a",
   "metadata": {},
   "outputs": [
    {
     "data": {
      "text/plain": [
       "False"
      ]
     },
     "execution_count": 25,
     "metadata": {},
     "output_type": "execute_result"
    }
   ],
   "source": [
    "all([1,2,abs(-3)-3])\n",
    "chr(ord('a'))=='a'"
   ]
  },
  {
   "cell_type": "code",
   "execution_count": 30,
   "id": "fcdc6e3a",
   "metadata": {},
   "outputs": [
    {
     "name": "stdout",
     "output_type": "stream",
     "text": [
      "1\n",
      "3\n",
      "8\n"
     ]
    }
   ],
   "source": [
    "# filter와 lambda를 사용하여 리스트[1, -2, 3, -5, 8, -3]에서 음수를 모두 제거\n",
    "# filter(조건함수, 순회가능객체)\n",
    "lsts = [1, -2, 3, -5, 8, -3]\n",
    "for lst in filter(lambda lst: lst >0, lsts):\n",
    "    print(lst)"
   ]
  },
  {
   "cell_type": "code",
   "execution_count": 43,
   "id": "de3c4a5d",
   "metadata": {},
   "outputs": [
    {
     "ename": "TypeError",
     "evalue": "'int' object is not callable",
     "output_type": "error",
     "traceback": [
      "\u001b[1;31m---------------------------------------------------------------------------\u001b[0m",
      "\u001b[1;31mTypeError\u001b[0m                                 Traceback (most recent call last)",
      "\u001b[1;32m<ipython-input-43-73fd2a86c542>\u001b[0m in \u001b[0;36m<module>\u001b[1;34m\u001b[0m\n\u001b[0;32m      5\u001b[0m \u001b[1;31m#     print(i)\u001b[0m\u001b[1;33m\u001b[0m\u001b[1;33m\u001b[0m\u001b[1;33m\u001b[0m\u001b[0m\n\u001b[0;32m      6\u001b[0m \u001b[1;33m\u001b[0m\u001b[0m\n\u001b[1;32m----> 7\u001b[1;33m \u001b[1;32mfor\u001b[0m \u001b[0mi\u001b[0m \u001b[1;32min\u001b[0m \u001b[0mmap\u001b[0m\u001b[1;33m(\u001b[0m\u001b[0mi\u001b[0m \u001b[1;33m*\u001b[0m \u001b[1;36m3\u001b[0m\u001b[1;33m,\u001b[0m \u001b[0mlst\u001b[0m\u001b[1;33m)\u001b[0m\u001b[1;33m:\u001b[0m\u001b[1;33m\u001b[0m\u001b[1;33m\u001b[0m\u001b[0m\n\u001b[0m\u001b[0;32m      8\u001b[0m     \u001b[0mprint\u001b[0m\u001b[1;33m(\u001b[0m\u001b[0mi\u001b[0m\u001b[1;33m)\u001b[0m\u001b[1;33m\u001b[0m\u001b[1;33m\u001b[0m\u001b[0m\n",
      "\u001b[1;31mTypeError\u001b[0m: 'int' object is not callable"
     ]
    }
   ],
   "source": [
    "# map 와 lambda를 사용하여 [1,2,3,4]리스트의 각 요솟값에 3이 곱해진 리스트[3,6,9,12] 만들기\n",
    "lst=[1,2,3,4]\n",
    "# for i in lst:\n",
    "#     i *= 3\n",
    "#     print(i)\n",
    "    \n",
    "for i in map(i * 3, lst):\n",
    "    print(i)"
   ]
  },
  {
   "cell_type": "code",
   "execution_count": null,
   "id": "ce34364e",
   "metadata": {},
   "outputs": [],
   "source": []
  }
 ],
 "metadata": {
  "kernelspec": {
   "display_name": "Python 3",
   "language": "python",
   "name": "python3"
  },
  "language_info": {
   "codemirror_mode": {
    "name": "ipython",
    "version": 3
   },
   "file_extension": ".py",
   "mimetype": "text/x-python",
   "name": "python",
   "nbconvert_exporter": "python",
   "pygments_lexer": "ipython3",
   "version": "3.8.10"
  }
 },
 "nbformat": 4,
 "nbformat_minor": 5
}
