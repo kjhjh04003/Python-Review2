{
 "cells": [
  {
   "cell_type": "code",
   "execution_count": 1,
   "id": "ef21c51c",
   "metadata": {},
   "outputs": [
    {
     "name": "stdout",
     "output_type": "stream",
     "text": [
      "Snap\n",
      "Crakle\n"
     ]
    }
   ],
   "source": [
    "# 문자열 생성\n",
    "# '' 과 \"\" 모두 사용 가능\n",
    "print('Snap')\n",
    "print(\"Crakle\")"
   ]
  },
  {
   "cell_type": "code",
   "execution_count": 2,
   "id": "9a3ac97b",
   "metadata": {},
   "outputs": [
    {
     "data": {
      "text/plain": [
       "'True'"
      ]
     },
     "execution_count": 2,
     "metadata": {},
     "output_type": "execute_result"
    }
   ],
   "source": [
    "# str() : 다른 데이터 타입을 문자열로 변환\n",
    "str(98.0) # float -> 문자열\n",
    "str(True) # boolen -> 문자열"
   ]
  },
  {
   "cell_type": "code",
   "execution_count": 3,
   "id": "effc7062",
   "metadata": {},
   "outputs": [
    {
     "name": "stdout",
     "output_type": "stream",
     "text": [
      "A man, \n",
      "A plan, \n",
      "A canal:\n",
      "Panama.\n"
     ]
    }
   ],
   "source": [
    "# 이스케이프 : \\n\n",
    "palindrome = 'A man, \\nA plan, \\nA canal:\\nPanama.'\n",
    "print(palindrome)"
   ]
  },
  {
   "cell_type": "code",
   "execution_count": 4,
   "id": "fb2436f6",
   "metadata": {},
   "outputs": [
    {
     "name": "stdout",
     "output_type": "stream",
     "text": [
      "\tabc\n",
      "a\tbc\n",
      "ab\tc\n",
      "abc\t\n"
     ]
    }
   ],
   "source": [
    "# \\t : 텍스트의 공백에 사용(t : tab을 의미)\n",
    "print('\\tabc')\n",
    "print('a\\tbc')\n",
    "print('ab\\tc')\n",
    "print('abc\\t')"
   ]
  },
  {
   "cell_type": "code",
   "execution_count": 5,
   "id": "eeec462c",
   "metadata": {},
   "outputs": [
    {
     "name": "stdout",
     "output_type": "stream",
     "text": [
      "\"I did nothing!\" he said. \"Or that other thing.\"\n",
      "The world's largest rubber duck was 54'2\" by 65'7\" by 105'\n"
     ]
    }
   ],
   "source": [
    "# \\' 또는 \\\"\n",
    "testimony = \"\\\"I did nothing!\\\" he said. \\\"Or that other thing.\\\"\"\n",
    "testimony\n",
    "print(testimony)\n",
    "fact = \"The world's largest rubber duck was 54'2\\\" by 65'7\\\" by 105'\"\n",
    "print(fact)"
   ]
  },
  {
   "cell_type": "code",
   "execution_count": 6,
   "id": "040c1a2d",
   "metadata": {},
   "outputs": [
    {
     "name": "stdout",
     "output_type": "stream",
     "text": [
      "The backslach \\ bends over backwards to please you.\n"
     ]
    }
   ],
   "source": [
    "# \\\\\n",
    "speech = 'The backslach \\\\ bends over backwards to please you.'\n",
    "print(speech)"
   ]
  },
  {
   "cell_type": "code",
   "execution_count": 7,
   "id": "ff550a01",
   "metadata": {},
   "outputs": [
    {
     "name": "stdout",
     "output_type": "stream",
     "text": [
      "Type a \\n to get a new line in a normal string\n"
     ]
    }
   ],
   "source": [
    "# 원시문자열 r : 이스케이프 문자를 무효화\n",
    "info = r'Type a \\n to get a new line in a normal string'\n",
    "info\n",
    "print(info)"
   ]
  },
  {
   "cell_type": "code",
   "execution_count": 8,
   "id": "38384bd5",
   "metadata": {},
   "outputs": [
    {
     "name": "stdout",
     "output_type": "stream",
     "text": [
      "Boys and girls, come out to play.\n",
      "the moon doth shine as bright as day.\n"
     ]
    }
   ],
   "source": [
    "# 원시문자열은 어떤 실제 줄바꿈을 취소하지 않는다.\n",
    "poem = r'''Boys and girls, come out to play.\n",
    "the moon doth shine as bright as day.'''\n",
    "poem\n",
    "print(poem)"
   ]
  },
  {
   "cell_type": "code",
   "execution_count": 9,
   "id": "b846719c",
   "metadata": {},
   "outputs": [
    {
     "data": {
      "text/plain": [
       "'Release the kraken! No, wait!'"
      ]
     },
     "execution_count": 9,
     "metadata": {},
     "output_type": "execute_result"
    }
   ],
   "source": [
    "# 문자열 결합 : +\n",
    "'Release the kraken! ' + 'No, wait!'"
   ]
  },
  {
   "cell_type": "code",
   "execution_count": 10,
   "id": "0d4b2a46",
   "metadata": {},
   "outputs": [
    {
     "data": {
      "text/plain": [
       "'My word! A gentleman caller'"
      ]
     },
     "execution_count": 10,
     "metadata": {},
     "output_type": "execute_result"
    }
   ],
   "source": [
    "\"My word! \" + \"A gentleman caller\""
   ]
  },
  {
   "cell_type": "code",
   "execution_count": 11,
   "id": "0d387032",
   "metadata": {},
   "outputs": [
    {
     "data": {
      "text/plain": [
       "'Alas! The Kraken!'"
      ]
     },
     "execution_count": 11,
     "metadata": {},
     "output_type": "execute_result"
    }
   ],
   "source": [
    "\"Alas! \"\"The Kraken!\""
   ]
  },
  {
   "cell_type": "code",
   "execution_count": 12,
   "id": "f7c9634d",
   "metadata": {},
   "outputs": [
    {
     "data": {
      "text/plain": [
       "'aeiou'"
      ]
     },
     "execution_count": 12,
     "metadata": {},
     "output_type": "execute_result"
    }
   ],
   "source": [
    "vowels = ('a'\n",
    "         \"e\" '''i'''\n",
    "         'o' \"\"\"u\"\"\"\n",
    "         )\n",
    "vowels"
   ]
  },
  {
   "cell_type": "code",
   "execution_count": 13,
   "id": "e44dea9f",
   "metadata": {},
   "outputs": [
    {
     "data": {
      "text/plain": [
       "'Duck.Duck.Grey Duck!'"
      ]
     },
     "execution_count": 13,
     "metadata": {},
     "output_type": "execute_result"
    }
   ],
   "source": [
    "a = 'Duck.'\n",
    "b = a\n",
    "c = 'Grey Duck!'\n",
    "a + b + c"
   ]
  },
  {
   "cell_type": "code",
   "execution_count": 14,
   "id": "5465e746",
   "metadata": {},
   "outputs": [
    {
     "name": "stdout",
     "output_type": "stream",
     "text": [
      "Duck. Duck. Grey Duck!\n"
     ]
    }
   ],
   "source": [
    "print(a, b, c)"
   ]
  },
  {
   "cell_type": "code",
   "execution_count": 15,
   "id": "70f28fcd",
   "metadata": {},
   "outputs": [
    {
     "name": "stdout",
     "output_type": "stream",
     "text": [
      "Na Na Na Na \n",
      "Hey Hey Hey \n",
      "Goodbye.\n"
     ]
    }
   ],
   "source": [
    "# * : 문자열 복제\n",
    "start = 'Na '*4+'\\n'\n",
    "middle = 'Hey '*3+'\\n'\n",
    "end = 'Goodbye.'\n",
    "print(start + middle + end)"
   ]
  },
  {
   "cell_type": "code",
   "execution_count": 16,
   "id": "9abd5412",
   "metadata": {},
   "outputs": [
    {
     "name": "stdout",
     "output_type": "stream",
     "text": [
      "a\n",
      "b\n",
      "z\n",
      "y\n",
      "z\n",
      "f\n"
     ]
    }
   ],
   "source": [
    "# 문자열 추출\n",
    "letters = 'abcdefghijklmnopqrstuvwxyz'\n",
    "print(letters[0])\n",
    "print(letters[1])\n",
    "print(letters[-1])\n",
    "print(letters[-2])\n",
    "print(letters[25])\n",
    "print(letters[5])"
   ]
  },
  {
   "cell_type": "code",
   "execution_count": 17,
   "id": "7fe68610",
   "metadata": {},
   "outputs": [
    {
     "ename": "IndexError",
     "evalue": "string index out of range",
     "output_type": "error",
     "traceback": [
      "\u001b[1;31m---------------------------------------------------------------------------\u001b[0m",
      "\u001b[1;31mIndexError\u001b[0m                                Traceback (most recent call last)",
      "\u001b[1;32m<ipython-input-17-82591940fd7b>\u001b[0m in \u001b[0;36m<module>\u001b[1;34m\u001b[0m\n\u001b[1;32m----> 1\u001b[1;33m \u001b[0mletters\u001b[0m\u001b[1;33m[\u001b[0m\u001b[1;36m100\u001b[0m\u001b[1;33m]\u001b[0m\u001b[1;33m\u001b[0m\u001b[1;33m\u001b[0m\u001b[0m\n\u001b[0m",
      "\u001b[1;31mIndexError\u001b[0m: string index out of range"
     ]
    }
   ],
   "source": [
    "letters[100]"
   ]
  },
  {
   "cell_type": "code",
   "execution_count": 18,
   "id": "d1d63aa1",
   "metadata": {},
   "outputs": [
    {
     "ename": "TypeError",
     "evalue": "'str' object does not support item assignment",
     "output_type": "error",
     "traceback": [
      "\u001b[1;31m---------------------------------------------------------------------------\u001b[0m",
      "\u001b[1;31mTypeError\u001b[0m                                 Traceback (most recent call last)",
      "\u001b[1;32m<ipython-input-18-e28354edcf26>\u001b[0m in \u001b[0;36m<module>\u001b[1;34m\u001b[0m\n\u001b[0;32m      1\u001b[0m \u001b[1;31m# 문자열은 불변, 특정 인덱스에 삽입/변경 불가\u001b[0m\u001b[1;33m\u001b[0m\u001b[1;33m\u001b[0m\u001b[1;33m\u001b[0m\u001b[0m\n\u001b[0;32m      2\u001b[0m \u001b[0mname\u001b[0m \u001b[1;33m=\u001b[0m \u001b[1;34m'Henny'\u001b[0m\u001b[1;33m\u001b[0m\u001b[1;33m\u001b[0m\u001b[0m\n\u001b[1;32m----> 3\u001b[1;33m \u001b[0mname\u001b[0m\u001b[1;33m[\u001b[0m\u001b[1;36m0\u001b[0m\u001b[1;33m]\u001b[0m \u001b[1;33m=\u001b[0m \u001b[1;34m'P'\u001b[0m\u001b[1;33m\u001b[0m\u001b[1;33m\u001b[0m\u001b[0m\n\u001b[0m",
      "\u001b[1;31mTypeError\u001b[0m: 'str' object does not support item assignment"
     ]
    }
   ],
   "source": [
    "# 문자열은 불변, 특정 인덱스에 삽입/변경 불가\n",
    "name = 'Henny'\n",
    "name[0] = 'P'"
   ]
  },
  {
   "cell_type": "code",
   "execution_count": 19,
   "id": "06cd2025",
   "metadata": {},
   "outputs": [
    {
     "data": {
      "text/plain": [
       "'Penny'"
      ]
     },
     "execution_count": 19,
     "metadata": {},
     "output_type": "execute_result"
    }
   ],
   "source": [
    "# replace()나 슬라이스와 가은 문자열 함수를 이용하여 변경 가능\n",
    "name = 'Henny'\n",
    "name.replace('H', 'P')"
   ]
  },
  {
   "cell_type": "code",
   "execution_count": 20,
   "id": "b3bb98c6",
   "metadata": {},
   "outputs": [
    {
     "data": {
      "text/plain": [
       "'Henny'"
      ]
     },
     "execution_count": 20,
     "metadata": {},
     "output_type": "execute_result"
    }
   ],
   "source": [
    "name"
   ]
  },
  {
   "cell_type": "code",
   "execution_count": 21,
   "id": "1a1ee3be",
   "metadata": {},
   "outputs": [
    {
     "data": {
      "text/plain": [
       "'Penny'"
      ]
     },
     "execution_count": 21,
     "metadata": {},
     "output_type": "execute_result"
    }
   ],
   "source": [
    "'P'+name[1:]"
   ]
  },
  {
   "cell_type": "code",
   "execution_count": 22,
   "id": "0cf69fd7",
   "metadata": {},
   "outputs": [
    {
     "data": {
      "text/plain": [
       "'Henny'"
      ]
     },
     "execution_count": 22,
     "metadata": {},
     "output_type": "execute_result"
    }
   ],
   "source": [
    "name"
   ]
  },
  {
   "cell_type": "code",
   "execution_count": 23,
   "id": "4acd841a",
   "metadata": {},
   "outputs": [
    {
     "name": "stdout",
     "output_type": "stream",
     "text": [
      "abcdefghijklmnopqrstuvwxyz\n",
      "uvwxyz\n",
      "klmnopqrstuvwxyz\n",
      "mno\n",
      "xyz\n",
      "stuvw\n",
      "uvwx\n",
      "ahov\n",
      "ehknqt\n",
      "tx\n",
      "afkpu\n"
     ]
    }
   ],
   "source": [
    "# 슬라이스 이용하여 부분 문자열 추출\n",
    "letters = 'abcdefghijklmnopqrstuvwxyz'\n",
    "print(letters[:]) # 전체 문자열 지정, [0:]과 같다.\n",
    "print(letters[20:]) # 오프셋 20부터 문자열 끝까지 추출\n",
    "print(letters[10:]) # 오프셋 10부터 문자열 끝까지 추출\n",
    "print(letters[12:15]) # 오프셋 12부터 14까지 추출, 파이썬은 마지막 오프셋은 end-1이다.\n",
    "print(letters[-3:]) # 마지막 세 문자 추출\n",
    "print(letters[18:-3]) # 오프셋 18부터 마지막 네 번째 문자까지 추출\n",
    "print(letters[-6:-2]) # 끝에서 여서번째 문자부터 끝에서 세번째 문자까지 추출\n",
    "print(letters[::7]) # 처음부터 끝까지 7스텝씩 건너뛰기\n",
    "print(letters[4:20:3]) # 4번째부터 19번째까지 3스텝씩 건너뛰기\n",
    "print(letters[19::4]) # 19번째부터 끝까지 4스텝씨기 건너뛰기\n",
    "print(letters[:21:5]) # 처음부터 20번째까지 5스텝씩 건너뛰기"
   ]
  },
  {
   "cell_type": "code",
   "execution_count": 24,
   "id": "76f37ded",
   "metadata": {},
   "outputs": [
    {
     "name": "stdout",
     "output_type": "stream",
     "text": [
      "zyxwvutsrqponmlkjihgfedcba\n",
      "zyxwvutsrqponmlkjihgfedcba\n",
      "abcdefghijklmnopqrstuvwxyz\n",
      "\n",
      "abcdefghijklmnopqrstuvwxyz\n"
     ]
    }
   ],
   "source": [
    "print(letters[-1::-1]) # 끝에서부터 시작 지점 순으로 출력\n",
    "print(letters[::-1]) # 위와 같은 결과\n",
    "print(letters[-50:]) # 끝에서 50번째 문자열 끝까지\n",
    "print(letters[-51:-50]) # 끝에서 51번째부터 끝에서 50번째까지의 문자 추출\n",
    "print(letters[:70]) # 처음부터 69번째 문자 추출"
   ]
  },
  {
   "cell_type": "code",
   "execution_count": 25,
   "id": "1ee0134b",
   "metadata": {},
   "outputs": [
    {
     "data": {
      "text/plain": [
       "26"
      ]
     },
     "execution_count": 25,
     "metadata": {},
     "output_type": "execute_result"
    }
   ],
   "source": [
    "# len() : 문자열 길이 추출\n",
    "len(letters)"
   ]
  },
  {
   "cell_type": "code",
   "execution_count": 26,
   "id": "3718cedf",
   "metadata": {},
   "outputs": [
    {
     "data": {
      "text/plain": [
       "0"
      ]
     },
     "execution_count": 26,
     "metadata": {},
     "output_type": "execute_result"
    }
   ],
   "source": [
    "empty=\"\"\n",
    "len(empty)"
   ]
  },
  {
   "cell_type": "code",
   "execution_count": 27,
   "id": "fb0e850d",
   "metadata": {},
   "outputs": [
    {
     "data": {
      "text/plain": [
       "['get gloves', 'get mask', 'give cat vitamins', 'call ambulance']"
      ]
     },
     "execution_count": 27,
     "metadata": {},
     "output_type": "execute_result"
    }
   ],
   "source": [
    "# split() : 문자열 나누기\n",
    "tasks = 'get gloves,get mask,give cat vitamins,call ambulance'\n",
    "tasks.split(',')"
   ]
  },
  {
   "cell_type": "code",
   "execution_count": 28,
   "id": "aca7d5d5",
   "metadata": {},
   "outputs": [
    {
     "data": {
      "text/plain": [
       "['get', 'gloves,get', 'mask,give', 'cat', 'vitamins,call', 'ambulance']"
      ]
     },
     "execution_count": 28,
     "metadata": {},
     "output_type": "execute_result"
    }
   ],
   "source": [
    "tasks.split()"
   ]
  },
  {
   "cell_type": "code",
   "execution_count": 2,
   "id": "0c5ae4b9",
   "metadata": {},
   "outputs": [
    {
     "name": "stdout",
     "output_type": "stream",
     "text": [
      "Yeti, Bigfoot, Loch Ness Monster\n"
     ]
    }
   ],
   "source": [
    "# join() : 문자열 결합\n",
    "crypto_list = ['Yeti', 'Bigfoot', 'Loch Ness Monster']\n",
    "crypto_string=', '. join(crypto_list) # , 를 구분하여 하나의 문자열로 결합\n",
    "print(crypto_string)"
   ]
  },
  {
   "cell_type": "code",
   "execution_count": 4,
   "id": "7626c53c",
   "metadata": {},
   "outputs": [
    {
     "name": "stdout",
     "output_type": "stream",
     "text": [
      "a marmoset goes into a bar...\n",
      "a duck goes into a bar...\n"
     ]
    }
   ],
   "source": [
    "# replace() : 문자열 대체\n",
    "setup = 'a duck goes into a bar...'\n",
    "print(setup.replace('duck', 'marmoset'))\n",
    "print(setup)"
   ]
  },
  {
   "cell_type": "code",
   "execution_count": 9,
   "id": "37d6d91b",
   "metadata": {},
   "outputs": [
    {
     "data": {
      "text/plain": [
       "'a famous duck goes into a bar...'"
      ]
     },
     "execution_count": 9,
     "metadata": {},
     "output_type": "execute_result"
    }
   ],
   "source": [
    "setup.replace('a ', 'a famous ', 1)"
   ]
  },
  {
   "cell_type": "code",
   "execution_count": 10,
   "id": "e83c2ed7",
   "metadata": {},
   "outputs": [
    {
     "data": {
      "text/plain": [
       "'a famous duck goes into a famous ba famousr...'"
      ]
     },
     "execution_count": 10,
     "metadata": {},
     "output_type": "execute_result"
    }
   ],
   "source": [
    "setup.replace('a', 'a famous', 100)"
   ]
  },
  {
   "cell_type": "code",
   "execution_count": 16,
   "id": "6ff2765c",
   "metadata": {},
   "outputs": [
    {
     "data": {
      "text/plain": [
       "'earth'"
      ]
     },
     "execution_count": 16,
     "metadata": {},
     "output_type": "execute_result"
    }
   ],
   "source": [
    "# strip() : 맨앞, 맨뒤에 패딩 문자를 제거하는 것\n",
    "world = '   earth   '\n",
    "world.strip()"
   ]
  },
  {
   "cell_type": "code",
   "execution_count": 18,
   "id": "049bbeae",
   "metadata": {},
   "outputs": [
    {
     "data": {
      "text/plain": [
       "'earth'"
      ]
     },
     "execution_count": 18,
     "metadata": {},
     "output_type": "execute_result"
    }
   ],
   "source": [
    "world.strip(' ')"
   ]
  },
  {
   "cell_type": "code",
   "execution_count": 19,
   "id": "7125299b",
   "metadata": {},
   "outputs": [
    {
     "data": {
      "text/plain": [
       "'earth   '"
      ]
     },
     "execution_count": 19,
     "metadata": {},
     "output_type": "execute_result"
    }
   ],
   "source": [
    "world.lstrip()"
   ]
  },
  {
   "cell_type": "code",
   "execution_count": 20,
   "id": "ddf49ae6",
   "metadata": {},
   "outputs": [
    {
     "data": {
      "text/plain": [
       "'   earth'"
      ]
     },
     "execution_count": 20,
     "metadata": {},
     "output_type": "execute_result"
    }
   ],
   "source": [
    "world.rstrip()"
   ]
  },
  {
   "cell_type": "code",
   "execution_count": 21,
   "id": "15772e0b",
   "metadata": {},
   "outputs": [
    {
     "data": {
      "text/plain": [
       "'   earth   '"
      ]
     },
     "execution_count": 21,
     "metadata": {},
     "output_type": "execute_result"
    }
   ],
   "source": [
    "world.strip('!')"
   ]
  },
  {
   "cell_type": "code",
   "execution_count": 22,
   "id": "52d7558b",
   "metadata": {},
   "outputs": [
    {
     "data": {
      "text/plain": [
       "'What the '"
      ]
     },
     "execution_count": 22,
     "metadata": {},
     "output_type": "execute_result"
    }
   ],
   "source": [
    "blurt = \"What the ...!!??\"\n",
    "blurt.strip('.!?')"
   ]
  },
  {
   "cell_type": "code",
   "execution_count": 29,
   "id": "59d100df",
   "metadata": {},
   "outputs": [],
   "source": [
    "poem = '''All that doth flow we cannot liquid name\n",
    "Or else would fire and water be the same;\n",
    "But that is liquid which is moist and wet\n",
    "Fire that property can never get.\n",
    "Then 'tis not cold that doth the fire put out\n",
    "But 'tis the wet that makes it die, no doubt.'''"
   ]
  },
  {
   "cell_type": "code",
   "execution_count": 30,
   "id": "5eed74d1",
   "metadata": {},
   "outputs": [
    {
     "data": {
      "text/plain": [
       "'All that doth'"
      ]
     },
     "execution_count": 30,
     "metadata": {},
     "output_type": "execute_result"
    }
   ],
   "source": [
    "# 처음 13자를 출력\n",
    "poem[:13]"
   ]
  },
  {
   "cell_type": "code",
   "execution_count": 31,
   "id": "8784f356",
   "metadata": {},
   "outputs": [
    {
     "data": {
      "text/plain": [
       "250"
      ]
     },
     "execution_count": 31,
     "metadata": {},
     "output_type": "execute_result"
    }
   ],
   "source": [
    "# 글자 수\n",
    "len(poem)"
   ]
  },
  {
   "cell_type": "code",
   "execution_count": 33,
   "id": "a426f7f7",
   "metadata": {},
   "outputs": [
    {
     "data": {
      "text/plain": [
       "True"
      ]
     },
     "execution_count": 33,
     "metadata": {},
     "output_type": "execute_result"
    }
   ],
   "source": [
    "# 이 시는 All로 시작되는가\n",
    "poem.startswith('All')"
   ]
  },
  {
   "cell_type": "code",
   "execution_count": 35,
   "id": "025fd5a4",
   "metadata": {},
   "outputs": [
    {
     "data": {
      "text/plain": [
       "False"
      ]
     },
     "execution_count": 35,
     "metadata": {},
     "output_type": "execute_result"
    }
   ],
   "source": [
    "# 이 시는 That's all, folks!로 끝나는가?\n",
    "poem.endswith('That\\'s al folks!')"
   ]
  },
  {
   "cell_type": "code",
   "execution_count": 36,
   "id": "b3268646",
   "metadata": {},
   "outputs": [
    {
     "data": {
      "text/plain": [
       "73"
      ]
     },
     "execution_count": 36,
     "metadata": {},
     "output_type": "execute_result"
    }
   ],
   "source": [
    "word = 'the'\n",
    "poem.find(word)"
   ]
  },
  {
   "cell_type": "code",
   "execution_count": 37,
   "id": "ec476e2d",
   "metadata": {},
   "outputs": [
    {
     "data": {
      "text/plain": [
       "73"
      ]
     },
     "execution_count": 37,
     "metadata": {},
     "output_type": "execute_result"
    }
   ],
   "source": [
    "poem.index(word)"
   ]
  },
  {
   "cell_type": "code",
   "execution_count": 38,
   "id": "98a9162d",
   "metadata": {},
   "outputs": [
    {
     "data": {
      "text/plain": [
       "214"
      ]
     },
     "execution_count": 38,
     "metadata": {},
     "output_type": "execute_result"
    }
   ],
   "source": [
    "word = 'the'\n",
    "poem.rfind(word)"
   ]
  },
  {
   "cell_type": "code",
   "execution_count": 39,
   "id": "31719f07",
   "metadata": {},
   "outputs": [
    {
     "data": {
      "text/plain": [
       "214"
      ]
     },
     "execution_count": 39,
     "metadata": {},
     "output_type": "execute_result"
    }
   ],
   "source": [
    "poem.rindex(word)"
   ]
  },
  {
   "cell_type": "code",
   "execution_count": 40,
   "id": "d0bafee2",
   "metadata": {},
   "outputs": [
    {
     "data": {
      "text/plain": [
       "-1"
      ]
     },
     "execution_count": 40,
     "metadata": {},
     "output_type": "execute_result"
    }
   ],
   "source": [
    "word = 'duck'\n",
    "poem.find(word)"
   ]
  },
  {
   "cell_type": "code",
   "execution_count": 41,
   "id": "09ae0412",
   "metadata": {},
   "outputs": [
    {
     "ename": "ValueError",
     "evalue": "substring not found",
     "output_type": "error",
     "traceback": [
      "\u001b[1;31m---------------------------------------------------------------------------\u001b[0m",
      "\u001b[1;31mValueError\u001b[0m                                Traceback (most recent call last)",
      "\u001b[1;32m<ipython-input-41-c4456b6bd3bf>\u001b[0m in \u001b[0;36m<module>\u001b[1;34m\u001b[0m\n\u001b[1;32m----> 1\u001b[1;33m \u001b[0mpoem\u001b[0m\u001b[1;33m.\u001b[0m\u001b[0mindex\u001b[0m\u001b[1;33m(\u001b[0m\u001b[0mword\u001b[0m\u001b[1;33m)\u001b[0m\u001b[1;33m\u001b[0m\u001b[1;33m\u001b[0m\u001b[0m\n\u001b[0m",
      "\u001b[1;31mValueError\u001b[0m: substring not found"
     ]
    }
   ],
   "source": [
    "poem.index(word)"
   ]
  },
  {
   "cell_type": "code",
   "execution_count": 42,
   "id": "5f14ee51",
   "metadata": {},
   "outputs": [
    {
     "data": {
      "text/plain": [
       "3"
      ]
     },
     "execution_count": 42,
     "metadata": {},
     "output_type": "execute_result"
    }
   ],
   "source": [
    "# 시에 the 부분 문자열은 몇개인지\n",
    "poem.count('the')"
   ]
  },
  {
   "cell_type": "code",
   "execution_count": 46,
   "id": "881f5f3e",
   "metadata": {},
   "outputs": [
    {
     "data": {
      "text/plain": [
       "False"
      ]
     },
     "execution_count": 46,
     "metadata": {},
     "output_type": "execute_result"
    }
   ],
   "source": [
    "# 시의 모든 문자가 알파벳 또는 숫자로 이루어져 있는지\n",
    "poem.isalnum()"
   ]
  },
  {
   "cell_type": "code",
   "execution_count": 49,
   "id": "3a9c39db",
   "metadata": {},
   "outputs": [
    {
     "data": {
      "text/plain": [
       "'a duck goes into a bar'"
      ]
     },
     "execution_count": 49,
     "metadata": {},
     "output_type": "execute_result"
    }
   ],
   "source": [
    "# 대소문자\n",
    "setup='a duck goes into a bar...'\n",
    "# 양끝에서 .을 삭제\n",
    "setup.strip('.')"
   ]
  },
  {
   "cell_type": "code",
   "execution_count": 51,
   "id": "6beed9e9",
   "metadata": {},
   "outputs": [
    {
     "data": {
      "text/plain": [
       "'A duck goes into a bar...'"
      ]
     },
     "execution_count": 51,
     "metadata": {},
     "output_type": "execute_result"
    }
   ],
   "source": [
    "# 첫 번째 단어 대문자로\n",
    "setup.capitalize()"
   ]
  },
  {
   "cell_type": "code",
   "execution_count": 52,
   "id": "bd71dcbc",
   "metadata": {},
   "outputs": [
    {
     "data": {
      "text/plain": [
       "'A Duck Goes Into A Bar...'"
      ]
     },
     "execution_count": 52,
     "metadata": {},
     "output_type": "execute_result"
    }
   ],
   "source": [
    "# 모든 단어의 첫번째를 대문자로\n",
    "setup.title()"
   ]
  },
  {
   "cell_type": "code",
   "execution_count": 53,
   "id": "9de3e52f",
   "metadata": {},
   "outputs": [
    {
     "data": {
      "text/plain": [
       "'A DUCK GOES INTO A BAR...'"
      ]
     },
     "execution_count": 53,
     "metadata": {},
     "output_type": "execute_result"
    }
   ],
   "source": [
    "# 글자를 모두 대문자로\n",
    "setup.upper()"
   ]
  },
  {
   "cell_type": "code",
   "execution_count": 54,
   "id": "c69e6086",
   "metadata": {},
   "outputs": [
    {
     "data": {
      "text/plain": [
       "'a duck goes into a bar...'"
      ]
     },
     "execution_count": 54,
     "metadata": {},
     "output_type": "execute_result"
    }
   ],
   "source": [
    "# 글자를 모두 소문자로\n",
    "setup.lower()"
   ]
  },
  {
   "cell_type": "code",
   "execution_count": 55,
   "id": "b6fcd729",
   "metadata": {},
   "outputs": [
    {
     "data": {
      "text/plain": [
       "'A DUCK GOES INTO A BAR...'"
      ]
     },
     "execution_count": 55,
     "metadata": {},
     "output_type": "execute_result"
    }
   ],
   "source": [
    "# 소문자 <-> 대문자\n",
    "setup.swapcase()"
   ]
  },
  {
   "cell_type": "code",
   "execution_count": 57,
   "id": "0315c640",
   "metadata": {},
   "outputs": [
    {
     "data": {
      "text/plain": [
       "30"
      ]
     },
     "execution_count": 57,
     "metadata": {},
     "output_type": "execute_result"
    }
   ],
   "source": [
    "len(setup.center(30))"
   ]
  },
  {
   "cell_type": "code",
   "execution_count": 58,
   "id": "f10a6a9d",
   "metadata": {},
   "outputs": [
    {
     "data": {
      "text/plain": [
       "'a duck goes into a bar...     '"
      ]
     },
     "execution_count": 58,
     "metadata": {},
     "output_type": "execute_result"
    }
   ],
   "source": [
    "setup.ljust(30)"
   ]
  },
  {
   "cell_type": "code",
   "execution_count": 59,
   "id": "53cbfe80",
   "metadata": {},
   "outputs": [
    {
     "data": {
      "text/plain": [
       "'     a duck goes into a bar...'"
      ]
     },
     "execution_count": 59,
     "metadata": {},
     "output_type": "execute_result"
    }
   ],
   "source": [
    "setup.rjust(30)"
   ]
  },
  {
   "cell_type": "code",
   "execution_count": 63,
   "id": "25c68a82",
   "metadata": {},
   "outputs": [
    {
     "name": "stdout",
     "output_type": "stream",
     "text": [
      "42\n",
      "42\n",
      "2a\n",
      "52\n"
     ]
    }
   ],
   "source": [
    "# 정수\n",
    "print('%s' % 42)\n",
    "print('%d' % 42)\n",
    "print('%x' % 42)\n",
    "print('%o' % 42)"
   ]
  },
  {
   "cell_type": "code",
   "execution_count": 65,
   "id": "22c81613",
   "metadata": {},
   "outputs": [
    {
     "name": "stdout",
     "output_type": "stream",
     "text": [
      "7.03\n",
      "7.030000\n",
      "7.030000e+00\n",
      "7.03\n"
     ]
    }
   ],
   "source": [
    "# 부동소수점\n",
    "print('%s' % 7.03)\n",
    "print('%f' % 7.03)\n",
    "print('%e' % 7.03)\n",
    "print('%g' % 7.03)"
   ]
  },
  {
   "cell_type": "code",
   "execution_count": 66,
   "id": "db0dcd43",
   "metadata": {},
   "outputs": [
    {
     "data": {
      "text/plain": [
       "'100%'"
      ]
     },
     "execution_count": 66,
     "metadata": {},
     "output_type": "execute_result"
    }
   ],
   "source": [
    "# 정수와 리터럴 %\n",
    "'%d%%' % 100"
   ]
  },
  {
   "cell_type": "code",
   "execution_count": 67,
   "id": "f7e238df",
   "metadata": {},
   "outputs": [
    {
     "data": {
      "text/plain": [
       "\"My wife's favorite actor is Richard Gere\""
      ]
     },
     "execution_count": 67,
     "metadata": {},
     "output_type": "execute_result"
    }
   ],
   "source": [
    "actor = 'Richard Gere'\n",
    "cat = 'Chester'\n",
    "weight = 28\n",
    "\"My wife's favorite actor is %s\" % actor"
   ]
  },
  {
   "cell_type": "code",
   "execution_count": 68,
   "id": "ad9f3b5c",
   "metadata": {},
   "outputs": [
    {
     "data": {
      "text/plain": [
       "'Our cat Chester weighs 28 pounds'"
      ]
     },
     "execution_count": 68,
     "metadata": {},
     "output_type": "execute_result"
    }
   ],
   "source": [
    "\"Our cat %s weighs %s pounds\" % (cat, weight)"
   ]
  },
  {
   "cell_type": "code",
   "execution_count": 69,
   "id": "5e22bc4f",
   "metadata": {},
   "outputs": [
    {
     "data": {
      "text/plain": [
       "'woodchuck'"
      ]
     },
     "execution_count": 69,
     "metadata": {},
     "output_type": "execute_result"
    }
   ],
   "source": [
    "# 옛 스타일\n",
    "thing = 'woodchuck'\n",
    "'%s' % thing"
   ]
  },
  {
   "cell_type": "code",
   "execution_count": 70,
   "id": "570bd355",
   "metadata": {},
   "outputs": [
    {
     "data": {
      "text/plain": [
       "'   woodchuck'"
      ]
     },
     "execution_count": 70,
     "metadata": {},
     "output_type": "execute_result"
    }
   ],
   "source": [
    "'%12s' % thing # 12길이안에서 오른쪽 정렬"
   ]
  },
  {
   "cell_type": "code",
   "execution_count": 71,
   "id": "a3445b60",
   "metadata": {},
   "outputs": [
    {
     "data": {
      "text/plain": [
       "'   woodchuck'"
      ]
     },
     "execution_count": 71,
     "metadata": {},
     "output_type": "execute_result"
    }
   ],
   "source": [
    "'%+12s' % thing # 오른쪽 정렬"
   ]
  },
  {
   "cell_type": "code",
   "execution_count": 72,
   "id": "73ab29bd",
   "metadata": {},
   "outputs": [
    {
     "data": {
      "text/plain": [
       "'woodchuck   '"
      ]
     },
     "execution_count": 72,
     "metadata": {},
     "output_type": "execute_result"
    }
   ],
   "source": [
    "'%-12s' % thing # 왼쪽 정렬"
   ]
  },
  {
   "cell_type": "code",
   "execution_count": 73,
   "id": "0334852a",
   "metadata": {},
   "outputs": [
    {
     "data": {
      "text/plain": [
       "'woo'"
      ]
     },
     "execution_count": 73,
     "metadata": {},
     "output_type": "execute_result"
    }
   ],
   "source": [
    "'%.3s' % thing # 3개만 나타내기"
   ]
  },
  {
   "cell_type": "code",
   "execution_count": 74,
   "id": "730dd532",
   "metadata": {},
   "outputs": [
    {
     "data": {
      "text/plain": [
       "'         woo'"
      ]
     },
     "execution_count": 74,
     "metadata": {},
     "output_type": "execute_result"
    }
   ],
   "source": [
    "'%12.3s' % thing # 최소너비.최대문자"
   ]
  },
  {
   "cell_type": "code",
   "execution_count": 75,
   "id": "d01cc189",
   "metadata": {},
   "outputs": [
    {
     "data": {
      "text/plain": [
       "'woo         '"
      ]
     },
     "execution_count": 75,
     "metadata": {},
     "output_type": "execute_result"
    }
   ],
   "source": [
    "'%-12.3s' % thing"
   ]
  },
  {
   "cell_type": "code",
   "execution_count": 76,
   "id": "4eaba128",
   "metadata": {},
   "outputs": [
    {
     "name": "stdout",
     "output_type": "stream",
     "text": [
      "98.600000\n",
      "   98.600000\n",
      "  +98.600000\n",
      "98.600000   \n",
      "98.600\n",
      "      98.600\n",
      "98.600      \n"
     ]
    }
   ],
   "source": [
    "thing = 98.6\n",
    "print('%f' % thing)\n",
    "print('%12f' % thing)\n",
    "print('%+12f' % thing)\n",
    "print('%-12f' % thing)\n",
    "print('%.3f' % thing)\n",
    "print('%12.3f' % thing)\n",
    "print('%-12.3f' % thing)"
   ]
  },
  {
   "cell_type": "code",
   "execution_count": 77,
   "id": "4f70bc82",
   "metadata": {},
   "outputs": [
    {
     "name": "stdout",
     "output_type": "stream",
     "text": [
      "9876\n",
      "        9876\n",
      "       +9876\n",
      "9876        \n",
      "9876\n",
      "        9876\n",
      "9876        \n"
     ]
    }
   ],
   "source": [
    "thing = 9876\n",
    "print('%d' % thing)\n",
    "print('%12d' % thing)\n",
    "print('%+12d' % thing)\n",
    "print('%-12d' % thing)\n",
    "print('%.3d' % thing)\n",
    "print('%12.3d' % thing)\n",
    "print('%-12.3d' % thing)"
   ]
  },
  {
   "cell_type": "code",
   "execution_count": 79,
   "id": "2871d534",
   "metadata": {},
   "outputs": [
    {
     "data": {
      "text/plain": [
       "'woodchuck'"
      ]
     },
     "execution_count": 79,
     "metadata": {},
     "output_type": "execute_result"
    }
   ],
   "source": [
    "thing = 'woodchuck'\n",
    "'{}'.format(thing)"
   ]
  },
  {
   "cell_type": "code",
   "execution_count": 80,
   "id": "0df526e9",
   "metadata": {},
   "outputs": [
    {
     "data": {
      "text/plain": [
       "'The woodchuck is in the lake.'"
      ]
     },
     "execution_count": 80,
     "metadata": {},
     "output_type": "execute_result"
    }
   ],
   "source": [
    "thing = 'woodchuck'\n",
    "place = 'lake'\n",
    "'The {} is in the {}.'.format(thing, place)"
   ]
  },
  {
   "cell_type": "code",
   "execution_count": 81,
   "id": "3e164511",
   "metadata": {},
   "outputs": [
    {
     "data": {
      "text/plain": [
       "'The woodchuck is in th lake.'"
      ]
     },
     "execution_count": 81,
     "metadata": {},
     "output_type": "execute_result"
    }
   ],
   "source": [
    "'The {1} is in th {0}.'.format(place, thing)"
   ]
  },
  {
   "cell_type": "code",
   "execution_count": 82,
   "id": "dd40c9f2",
   "metadata": {},
   "outputs": [
    {
     "data": {
      "text/plain": [
       "'The duck is in the bathtub'"
      ]
     },
     "execution_count": 82,
     "metadata": {},
     "output_type": "execute_result"
    }
   ],
   "source": [
    "'The {thing} is in the {place}'.format(thing='duck', place='bathtub')"
   ]
  },
  {
   "cell_type": "code",
   "execution_count": 85,
   "id": "f3bb9b4c",
   "metadata": {},
   "outputs": [
    {
     "data": {
      "text/plain": [
       "'The duck is in the bathtub.'"
      ]
     },
     "execution_count": 85,
     "metadata": {},
     "output_type": "execute_result"
    }
   ],
   "source": [
    "d={'thing':'duck', 'place':'bathtub'}\n",
    "'The {0[thing]} is in the {0[place]}.'.format(d)"
   ]
  },
  {
   "cell_type": "code",
   "execution_count": 86,
   "id": "83f1da6d",
   "metadata": {},
   "outputs": [
    {
     "name": "stdout",
     "output_type": "stream",
     "text": [
      "The wraith is at the window\n",
      "the wraith     is at the window    \n",
      "The wraith     is at the window    \n",
      "The   wraith   is at the   window  \n",
      "The     wraith is at the     window\n",
      "The !!wraith!! is at the !!window!!\n"
     ]
    }
   ],
   "source": [
    "# 새스타일\n",
    "thing = 'wraith'\n",
    "place = 'window'\n",
    "print('The {} is at the {}'.format(thing, place))\n",
    "print('the {:10s} is at the {:10s}'.format(thing, place))\n",
    "print('The {:<10s} is at the {:<10s}'.format(thing, place))\n",
    "print('The {:^10s} is at the {:^10s}'.format(thing, place))\n",
    "print('The {:>10s} is at the {:>10s}'.format(thing, place))\n",
    "print('The {:!^10s} is at the {:!^10s}'.format(thing, place))"
   ]
  },
  {
   "cell_type": "code",
   "execution_count": 88,
   "id": "0229c872",
   "metadata": {},
   "outputs": [
    {
     "data": {
      "text/plain": [
       "'The wereduck is in the werepond'"
      ]
     },
     "execution_count": 88,
     "metadata": {},
     "output_type": "execute_result"
    }
   ],
   "source": [
    "# f-문자열\n",
    "thing = 'wereduck'\n",
    "place = 'werepond'\n",
    "f'The {thing} is in the {place}'"
   ]
  },
  {
   "cell_type": "code",
   "execution_count": 92,
   "id": "ac1fb4ef",
   "metadata": {},
   "outputs": [
    {
     "data": {
      "text/plain": [
       "'The Wereduck is in the             werepond'"
      ]
     },
     "execution_count": 92,
     "metadata": {},
     "output_type": "execute_result"
    }
   ],
   "source": [
    "f'The {thing.capitalize()} is in the {place.rjust(20)}'"
   ]
  },
  {
   "cell_type": "code",
   "execution_count": 93,
   "id": "2a96e61f",
   "metadata": {},
   "outputs": [
    {
     "data": {
      "text/plain": [
       "'The             wereduck is in the ......werepond......'"
      ]
     },
     "execution_count": 93,
     "metadata": {},
     "output_type": "execute_result"
    }
   ],
   "source": [
    "f'The {thing:>20} is in the {place:.^20}'"
   ]
  },
  {
   "cell_type": "code",
   "execution_count": 94,
   "id": "48b9e2c3",
   "metadata": {},
   "outputs": [
    {
     "data": {
      "text/plain": [
       "\"thing='wereduck', place='werepond'\""
      ]
     },
     "execution_count": 94,
     "metadata": {},
     "output_type": "execute_result"
    }
   ],
   "source": [
    "f'{thing=}, {place=}'"
   ]
  },
  {
   "cell_type": "code",
   "execution_count": 95,
   "id": "847945d0",
   "metadata": {},
   "outputs": [
    {
     "data": {
      "text/plain": [
       "\"thing[-4:]='duck', place.title()='Werepond'\""
      ]
     },
     "execution_count": 95,
     "metadata": {},
     "output_type": "execute_result"
    }
   ],
   "source": [
    "f'{thing[-4:]=}, {place.title()=}'"
   ]
  },
  {
   "cell_type": "code",
   "execution_count": 96,
   "id": "cb843640",
   "metadata": {},
   "outputs": [
    {
     "data": {
      "text/plain": [
       "'thing = were'"
      ]
     },
     "execution_count": 96,
     "metadata": {},
     "output_type": "execute_result"
    }
   ],
   "source": [
    "f'{thing = :>4.4}'"
   ]
  },
  {
   "cell_type": "code",
   "execution_count": 132,
   "id": "10bb137c",
   "metadata": {},
   "outputs": [
    {
     "name": "stdout",
     "output_type": "stream",
     "text": [
      "When an eel grabs your arM,\n",
      "And it causes grat harM,\n",
      "That's - a Moray!\n"
     ]
    }
   ],
   "source": [
    "# 연습문제\n",
    "# m자로 시작하는 단어를 대문자로 만들기\n",
    "song = \"\"\"When an eel grabs your arm,\n",
    "And it causes grat harm,\n",
    "That's - a moray!\"\"\"\n",
    "\n",
    "song = song.replace('m', 'M')\n",
    "print(song)"
   ]
  },
  {
   "cell_type": "code",
   "execution_count": 138,
   "id": "9016fac2",
   "metadata": {},
   "outputs": [
    {
     "name": "stdout",
     "output_type": "stream",
     "text": [
      "Q: We don't serve strings around here. Are you a string?\n",
      "A: No, I'm a frayed knot.\n",
      "Q: What is said on Father's Day in the forest?\n",
      "A: 'Pop!' goes the weasel.\n",
      "Q: What makes the sount 'Sis! Boom! Bah!'?\n",
      "A: An exploding sheep.\n"
     ]
    }
   ],
   "source": [
    "# 형식에 맞춰 각 리스트의 질문과 답을 차례로 출력하기\n",
    "questions = [\"We don't serve strings around here. Are you a string?\",\n",
    "            \"What is said on Father's Day in the forest?\",\n",
    "            \"What makes the sount 'Sis! Boom! Bah!'?\"\n",
    "            ]\n",
    "answers = [\"An exploding sheep.\",\n",
    "          \"No, I'm a frayed knot.\",\n",
    "          \"'Pop!' goes the weasel.\"\n",
    "          ]\n",
    "\n",
    "q_a = ((0,1), (1,2), (2,0))\n",
    "for q, a in q_a:\n",
    "    print(\"Q:\", questions[q])\n",
    "    print(\"A:\", answers[a])\n",
    "# print(f'Q: {questions[0]}')\n",
    "# print(f'A: {answers[1]}')\n",
    "# print(f'Q: {questions[1]}')\n",
    "# print(f'A: {answers[2]}')\n",
    "# print(f'Q: {questions[2]}')\n",
    "# print(f'A: {answers[0]}')"
   ]
  },
  {
   "cell_type": "code",
   "execution_count": 140,
   "id": "9a3abdaa",
   "metadata": {},
   "outputs": [
    {
     "name": "stdout",
     "output_type": "stream",
     "text": [
      "\n",
      "My kitty cat likes roast beef,\n",
      "My kitty cat likes ham,\n",
      "My kitty cat fell on his head And now thinks he's a clam.\n"
     ]
    }
   ],
   "source": [
    "# 옛 스타일 포매팅을 사용하여 'roast beef', 'ham', 'head', 'clam'을 문자열에 대체하기\n",
    "kittys = \"\"\"\n",
    "My kitty cat likes %s,\n",
    "My kitty cat likes %s,\n",
    "My kitty cat fell on his %s And now thinks he\\'s a %s.\"\"\"\n",
    "str_s = ('roast beef', 'ham', 'head', 'clam')\n",
    "print(kittys % str_s)\n",
    "# print('My kitty cat likes %s,' % 'roast beef')\n",
    "# print('My kitty cat likes %s,' % 'ham')\n",
    "# print('My kitty cat fell on his %s And now thinks he\\'s a %s.' % ('head', 'clam'))"
   ]
  },
  {
   "cell_type": "code",
   "execution_count": 122,
   "id": "39ff9ea5",
   "metadata": {},
   "outputs": [
    {
     "name": "stdout",
     "output_type": "stream",
     "text": [
      "Dear  Mr.Jun,\n",
      "Thank you for your letter. We are sorry that our fan verbed in your 5-4.\n",
      "Please note that it should never be used in a 5-4, especially near any rabbit.\n",
      "\n",
      "Send us your receipt and $55.2 for shipping and handling.\n",
      "We will send you another fan that, in our tests, is 98% less likely to have verbed.\n",
      "\n",
      "Thank you for your support.\n",
      "Sincerely,\n",
      "Mr.Lee\n",
      "lawyer\n"
     ]
    }
   ],
   "source": [
    "# 새 스타일 포매팅을 사용하여  메일 출력\n",
    "letter = \"\"\"Dear {saluttation} {name},\n",
    "Thank you for your letter. We are sorry that our {product} {verbed} in your {room}.\n",
    "Please note that it should never be used in a {room}, especially near any {animals}.\n",
    "\n",
    "Send us your receipt and {amount} for shipping and handling.\n",
    "We will send you another {product} that, in our tests, is {percent}% less likely to have {verbed}.\n",
    "\n",
    "Thank you for your support.\n",
    "Sincerely,\n",
    "{spokesman}\n",
    "{job_title}\"\"\"\n",
    "\n",
    "print(letter.format(saluttation='', name='Mr.Jun', product='fan', verbed='verbed', room='5-4', animals='rabbit',\n",
    "             amount='$55.2', percent='98', spokesman='Mr.Lee', job_title='lawyer'))"
   ]
  },
  {
   "cell_type": "code",
   "execution_count": 134,
   "id": "f45ab4d3",
   "metadata": {},
   "outputs": [
    {
     "name": "stdout",
     "output_type": "stream",
     "text": [
      "Ducky McDuckface\n",
      "Gourdy McGourdface\n",
      "Spitzy McSpitzface\n"
     ]
    }
   ],
   "source": [
    "name = ['duck', 'gourd', 'spitz']\n",
    "\n",
    "for n in name:\n",
    "    tmp_name = n.capitalize()\n",
    "    print('%sy Mc%sface' % (tmp_name, tmp_name))"
   ]
  },
  {
   "cell_type": "code",
   "execution_count": 135,
   "id": "af9c6c56",
   "metadata": {},
   "outputs": [
    {
     "name": "stdout",
     "output_type": "stream",
     "text": [
      "Ducky McDuckface\n",
      "Gourdy McGourdface\n",
      "Spitzy McSpitzface\n"
     ]
    }
   ],
   "source": [
    "name = ['duck', 'gourd', 'spitz']\n",
    "for n in name:\n",
    "    tmp_name = n.capitalize()\n",
    "    print('{}y Mc{}face'.format(tmp_name, tmp_name))"
   ]
  },
  {
   "cell_type": "code",
   "execution_count": 137,
   "id": "7f1612d3",
   "metadata": {},
   "outputs": [
    {
     "name": "stdout",
     "output_type": "stream",
     "text": [
      "Ducky McDuckface\n",
      "Gourdy McGourdface\n",
      "Spitzy McSpitzface\n"
     ]
    }
   ],
   "source": [
    "name = ['duck', 'gourd', 'spitz']\n",
    "for n in name:\n",
    "    tmp_name = n.capitalize()\n",
    "    print(f'{tmp_name}y Mc{tmp_name}face')"
   ]
  }
 ],
 "metadata": {
  "kernelspec": {
   "display_name": "Python 3",
   "language": "python",
   "name": "python3"
  },
  "language_info": {
   "codemirror_mode": {
    "name": "ipython",
    "version": 3
   },
   "file_extension": ".py",
   "mimetype": "text/x-python",
   "name": "python",
   "nbconvert_exporter": "python",
   "pygments_lexer": "ipython3",
   "version": "3.8.10"
  }
 },
 "nbformat": 4,
 "nbformat_minor": 5
}
