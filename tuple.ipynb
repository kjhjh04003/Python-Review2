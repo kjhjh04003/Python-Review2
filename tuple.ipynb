{
 "cells": [
  {
   "cell_type": "code",
   "execution_count": 1,
   "id": "d2590067",
   "metadata": {},
   "outputs": [],
   "source": [
    "# 빈 튜플 생성\n",
    "empty_tuple=()"
   ]
  },
  {
   "cell_type": "code",
   "execution_count": 3,
   "id": "4576f844",
   "metadata": {},
   "outputs": [
    {
     "data": {
      "text/plain": [
       "('Groucho',)"
      ]
     },
     "execution_count": 3,
     "metadata": {},
     "output_type": "execute_result"
    }
   ],
   "source": [
    "# 한 요소 이상의 튜플 만들기\n",
    "# 각 요소 뒤에 , 붙이기\n",
    "one_marx = 'Groucho',\n",
    "one_marx"
   ]
  },
  {
   "cell_type": "code",
   "execution_count": 5,
   "id": "8e19b483",
   "metadata": {},
   "outputs": [
    {
     "data": {
      "text/plain": [
       "('Groucho',)"
      ]
     },
     "execution_count": 5,
     "metadata": {},
     "output_type": "execute_result"
    }
   ],
   "source": [
    "one_marx = ('Groucho',)\n",
    "one_marx"
   ]
  },
  {
   "cell_type": "code",
   "execution_count": 8,
   "id": "8757cfbb",
   "metadata": {},
   "outputs": [
    {
     "data": {
      "text/plain": [
       "str"
      ]
     },
     "execution_count": 8,
     "metadata": {},
     "output_type": "execute_result"
    }
   ],
   "source": [
    "one_marx = ('Groucho')\n",
    "one_marx\n",
    "type(one_marx)"
   ]
  },
  {
   "cell_type": "code",
   "execution_count": 13,
   "id": "d27f4a56",
   "metadata": {},
   "outputs": [
    {
     "data": {
      "text/plain": [
       "tuple"
      ]
     },
     "execution_count": 13,
     "metadata": {},
     "output_type": "execute_result"
    }
   ],
   "source": [
    "marx_tuple = 'Groucho', 'Chico', 'Harpo'\n",
    "type(marx_tuple)"
   ]
  },
  {
   "cell_type": "code",
   "execution_count": 17,
   "id": "e3789885",
   "metadata": {},
   "outputs": [
    {
     "name": "stdout",
     "output_type": "stream",
     "text": [
      "<class 'tuple'>\n",
      "<class 'str'>\n",
      "<class 'tuple'>\n"
     ]
    }
   ],
   "source": [
    "one_marx = 'Groucho',\n",
    "print(type(one_marx))\n",
    "print(type('Groucho',))\n",
    "print(type(('Groucho',)))"
   ]
  },
  {
   "cell_type": "code",
   "execution_count": 20,
   "id": "aacead14",
   "metadata": {},
   "outputs": [
    {
     "name": "stdout",
     "output_type": "stream",
     "text": [
      "('Groucho', 'Chico', 'Harpo')\n",
      "Groucho\n",
      "Chico\n",
      "Harpo\n"
     ]
    }
   ],
   "source": [
    "marx_tuple=('Groucho','Chico','Harpo')\n",
    "print(marx_tuple)\n",
    "a, b, c = marx_tuple # 언패킹\n",
    "print(a)\n",
    "print(b)\n",
    "print(c)"
   ]
  },
  {
   "cell_type": "code",
   "execution_count": 22,
   "id": "2eea8cee",
   "metadata": {},
   "outputs": [
    {
     "name": "stdout",
     "output_type": "stream",
     "text": [
      "tuttifrutti\n",
      "swordfish\n"
     ]
    }
   ],
   "source": [
    "# 값 교환\n",
    "password='swordfish'\n",
    "icecream = 'tuttifrutti'\n",
    "password, icecream = icecream, password\n",
    "print(password)\n",
    "print(icecream)"
   ]
  },
  {
   "cell_type": "code",
   "execution_count": 27,
   "id": "86b35c20",
   "metadata": {},
   "outputs": [
    {
     "name": "stdout",
     "output_type": "stream",
     "text": [
      "['Croucho', 'Chico', 'Harpo']\n"
     ]
    },
    {
     "data": {
      "text/plain": [
       "('Croucho', 'Chico', 'Harpo')"
      ]
     },
     "execution_count": 27,
     "metadata": {},
     "output_type": "execute_result"
    }
   ],
   "source": [
    "marx_list = ['Croucho','Chico','Harpo']\n",
    "print(marx_list)\n",
    "tuple(marx_list)"
   ]
  },
  {
   "cell_type": "code",
   "execution_count": 28,
   "id": "62a57673",
   "metadata": {},
   "outputs": [
    {
     "data": {
      "text/plain": [
       "('Groucho', 'Chico', 'Harpo')"
      ]
     },
     "execution_count": 28,
     "metadata": {},
     "output_type": "execute_result"
    }
   ],
   "source": [
    "# + : 결합하기\n",
    "('Groucho',)+('Chico','Harpo')"
   ]
  },
  {
   "cell_type": "code",
   "execution_count": 29,
   "id": "69dd9f64",
   "metadata": {},
   "outputs": [
    {
     "data": {
      "text/plain": [
       "('yada', 'yada', 'yada')"
      ]
     },
     "execution_count": 29,
     "metadata": {},
     "output_type": "execute_result"
    }
   ],
   "source": [
    "# * : 복제하기\n",
    "('yada',) * 3"
   ]
  },
  {
   "cell_type": "code",
   "execution_count": 32,
   "id": "77d4bfb8",
   "metadata": {},
   "outputs": [
    {
     "name": "stdout",
     "output_type": "stream",
     "text": [
      "False\n",
      "True\n",
      "True\n"
     ]
    }
   ],
   "source": [
    "# 비교하기\n",
    "a = (7,2)\n",
    "b=(7,2,9)\n",
    "print(a == b)\n",
    "print(a <= b)\n",
    "print(a < b)"
   ]
  },
  {
   "cell_type": "code",
   "execution_count": 33,
   "id": "ba0416db",
   "metadata": {},
   "outputs": [
    {
     "name": "stdout",
     "output_type": "stream",
     "text": [
      "fresh\n",
      "out\n",
      "of\n",
      "ideas\n"
     ]
    }
   ],
   "source": [
    "words = ('fresh','out','of','ideas')\n",
    "for word in words:\n",
    "    print(word)"
   ]
  },
  {
   "cell_type": "code",
   "execution_count": 34,
   "id": "0371a630",
   "metadata": {},
   "outputs": [
    {
     "data": {
      "text/plain": [
       "('Fee', 'Fie', 'Foe', 'Flop')"
      ]
     },
     "execution_count": 34,
     "metadata": {},
     "output_type": "execute_result"
    }
   ],
   "source": [
    "# 수정하기\n",
    "# 기존 튜플은 변경 불가, 새 튜플과 함께 조합해 새로운 튜플을 만든다.\n",
    "t1 = ('Fee', 'Fie','Foe')\n",
    "t2 = ('Flop',)\n",
    "t1 + t2"
   ]
  },
  {
   "cell_type": "code",
   "execution_count": 36,
   "id": "59bc222a",
   "metadata": {},
   "outputs": [
    {
     "name": "stdout",
     "output_type": "stream",
     "text": [
      "2124337098048\n",
      "2124337464080\n"
     ]
    }
   ],
   "source": [
    "t1 = ('Fee', 'Fie','Foe')\n",
    "t2 = ('Flop',)\n",
    "print(id(t1))\n",
    "t1 += t2 # t1 = t1+t2\n",
    "t1\n",
    "print(id(t1))"
   ]
  }
 ],
 "metadata": {
  "kernelspec": {
   "display_name": "Python 3",
   "language": "python",
   "name": "python3"
  },
  "language_info": {
   "codemirror_mode": {
    "name": "ipython",
    "version": 3
   },
   "file_extension": ".py",
   "mimetype": "text/x-python",
   "name": "python",
   "nbconvert_exporter": "python",
   "pygments_lexer": "ipython3",
   "version": "3.8.10"
  }
 },
 "nbformat": 4,
 "nbformat_minor": 5
}
